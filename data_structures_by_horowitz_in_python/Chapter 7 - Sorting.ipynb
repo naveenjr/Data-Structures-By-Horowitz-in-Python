{
 "metadata": {
  "name": "",
  "signature": "sha256:3d328a380e113732103f40f651e6fdc33bb15894701dc5c9c181b4bee2806390"
 },
 "nbformat": 3,
 "nbformat_minor": 0,
 "worksheets": [
  {
   "cells": [
    {
     "cell_type": "heading",
     "level": 2,
     "metadata": {},
     "source": [
      "PROGRAM 7.1, PAGE 395"
     ]
    },
    {
     "cell_type": "code",
     "collapsed": false,
     "input": [
      "# Sequential Search\n",
      "\n",
      "def SeqSearch( a, n, k ):\n",
      "    # Search a[1:n] from left to Right. Return least i such that\n",
      "    # The key of a[i] equals k. If there is no such i, return 0\n",
      "    # NOTE: The indexing is done from 1 ( To comply with the textbook style )\n",
      "    i = 0\n",
      "    while ( i <= n ) and ( a[i] != k ):\n",
      "        i += 1\n",
      "    if ( i > n ):\n",
      "        return 0\n",
      "    else:\n",
      "        return i"
     ],
     "language": "python",
     "metadata": {},
     "outputs": [],
     "prompt_number": 1
    },
    {
     "cell_type": "heading",
     "level": 2,
     "metadata": {},
     "source": [
      "PROGRAM 7.2, PAGE 397"
     ]
    },
    {
     "cell_type": "code",
     "collapsed": false,
     "input": [
      "# Verifying two lists using a sequential search\n",
      "\n",
      "def Verify1( l1, l2, n, m ):\n",
      "    \"\"\"\n",
      "    Compares two unordered lists l1 and l2 of size n and m respectively.\n",
      "    \"\"\"\n",
      "    marked = [False]*(m+1)\n",
      "    for i in range (n+1):\n",
      "        j = SeqSearch(l2, m, l1[i])\n",
      "        if ( j == 0 ):\n",
      "            print l1[i], \" not in l2 \"\n",
      "        else:\n",
      "            if ( l1[i] != l2[j] ):\n",
      "                # Satisfies 3rd condition ( Refer Page 396 )\n",
      "                print \"Discrepancy in \", l1[i]\n",
      "            marked[j] = True\n",
      "            \n",
      "    for i in range(m+1):\n",
      "        if ( not marked[i] ):\n",
      "            print l2[i], \" not in l1. \" # Satsfies 2nd Condition ( Refer Page 396 )\n",
      "    \n",
      "    del marked   "
     ],
     "language": "python",
     "metadata": {},
     "outputs": [],
     "prompt_number": 2
    },
    {
     "cell_type": "heading",
     "level": 2,
     "metadata": {},
     "source": [
      "PROGRAM 7.4, PAGE 399"
     ]
    },
    {
     "cell_type": "code",
     "collapsed": false,
     "input": [
      "# Insertion into a sorted list\n",
      "def Insert(e, a, i):\n",
      "    \"\"\"\n",
      "    Insert e into the ordered sequence a[1:i] such that the \n",
      "    resulting sequence a[1:i+1] is also ordered\n",
      "    The array a must have space allocated for at least i + 2 elements\n",
      "    \"\"\"\n",
      "\n",
      "    a.__setitem__(0, e)\n",
      "    while ( e < a[i] ):\n",
      "        a.__setitem__(i+1, a[i]) # To make an inplace assignments\n",
      "        i -= 1\n",
      "        \n",
      "    a.__setitem__(i+1, e)"
     ],
     "language": "python",
     "metadata": {},
     "outputs": [],
     "prompt_number": 3
    },
    {
     "cell_type": "heading",
     "level": 2,
     "metadata": {},
     "source": [
      "PROGRAM 7.5, PAGE 400"
     ]
    },
    {
     "cell_type": "code",
     "collapsed": false,
     "input": [
      "# Insertion Sort\n",
      "\n",
      "def InsertionSort(a, n):\n",
      "    \"\"\"\n",
      "    Sort a[1:n+1] into non decreasing order\n",
      "    \"\"\"\n",
      "    \n",
      "    for j in range(2, n+1):\n",
      "        temp = a[j]\n",
      "        Insert(temp, a, j-1)"
     ],
     "language": "python",
     "metadata": {},
     "outputs": [],
     "prompt_number": 4
    },
    {
     "cell_type": "heading",
     "level": 2,
     "metadata": {},
     "source": [
      "EXAMPLE 7.1, PAGE 400"
     ]
    },
    {
     "cell_type": "code",
     "collapsed": false,
     "input": [
      "n = 5\n",
      "a = [None, 5, 4, 3, 2, 1] \n",
      "# NOTE: The index-0 element is None to comply with the standards of the Book\n",
      "\n",
      "InsertionSort(a, 5)\n",
      "print a[1:n+1]"
     ],
     "language": "python",
     "metadata": {},
     "outputs": [
      {
       "output_type": "stream",
       "stream": "stdout",
       "text": [
        "[1, 2, 3, 4, 5]\n"
       ]
      }
     ],
     "prompt_number": 5
    },
    {
     "cell_type": "heading",
     "level": 2,
     "metadata": {},
     "source": [
      "EXAMPLE 7.2, PAGE 400"
     ]
    },
    {
     "cell_type": "code",
     "collapsed": false,
     "input": [
      "n = 5\n",
      "a = [None, 2, 3, 4, 5, 1]\n",
      "# NOTE: The index-0 element is None to comply with the standards of the Book\n",
      "\n",
      "InsertionSort(a, 5)\n",
      "print a[1:n+1]"
     ],
     "language": "python",
     "metadata": {},
     "outputs": [
      {
       "output_type": "stream",
       "stream": "stdout",
       "text": [
        "[1, 2, 3, 4, 5]\n"
       ]
      }
     ],
     "prompt_number": 6
    },
    {
     "cell_type": "heading",
     "level": 2,
     "metadata": {},
     "source": [
      "PROGRAM 7.6, PAGE 402"
     ]
    },
    {
     "cell_type": "code",
     "collapsed": false,
     "input": [
      "# Quick Sort\n",
      "def QuickSort(a, left, right, debug=False):\n",
      "    \"\"\"\n",
      "    Sort a[left:right+1] into non decreasing order using quick sort algorithm\n",
      "    \"\"\"\n",
      "    # a[left] is arbitrarily chosen as the pivot.\n",
      "    # Variables i and j are used to partition the subarray so that at any time a[m] <= pivot\n",
      "    # m < i and a[m] >= pivot, m > j. It is assumed that a[left] <= a[right + 1]\n",
      "    \n",
      "    if ( left < right ):\n",
      "        if ( debug ):\n",
      "            print a[1:], \"\\t\", left, \"\\t\", right # To show the working of quick sort step by step\n",
      "        i = left\n",
      "        j = right + 1\n",
      "        pivot = a[left]\n",
      "        \n",
      "        while ( i < j ):\n",
      "            i += 1\n",
      "            while a[i] < pivot:\n",
      "                i += 1\n",
      "            \n",
      "            j -= 1\n",
      "            while a[j] > pivot:\n",
      "                j -= 1\n",
      "                \n",
      "            if i < j:\n",
      "                # Inplace swapping a[i] and a[j]\n",
      "                temp = a[i]\n",
      "                a.__setitem__(i, a[j])\n",
      "                a.__setitem__(j, temp)\n",
      "                \n",
      "        temp = a[j]\n",
      "        a.__setitem__(j, a[left])\n",
      "        a.__setitem__(left, temp)\n",
      "        \n",
      "        QuickSort(a, left, j - 1, debug ) # Recursively call QuickSort for the left subarray\n",
      "        QuickSort(a, j + 1, right, debug ) # Recursively call QuickSort for the right subarray\n",
      "        \n",
      "        # NOTE: debug is just to visualize the working of quick sort and is unnecessary for \n",
      "        # the working of the algorithm."
     ],
     "language": "python",
     "metadata": {},
     "outputs": [],
     "prompt_number": 7
    },
    {
     "cell_type": "heading",
     "level": 2,
     "metadata": {},
     "source": [
      "EXAMPLE 7.3, PAGE 402"
     ]
    },
    {
     "cell_type": "code",
     "collapsed": false,
     "input": [
      "n = 10\n",
      "a = [None, 26, 5, 37, 1, 61, 11, 59, 15, 48, 19]\n",
      "# NOTE: The index-0 element is None to comply with the standards of the Book\n",
      "\n",
      "QuickSort(a, 1 , 10)\n",
      "print a[1:n+1]"
     ],
     "language": "python",
     "metadata": {},
     "outputs": [
      {
       "output_type": "stream",
       "stream": "stdout",
       "text": [
        "[1, 5, 11, 15, 19, 26, 37, 48, 59, 61]\n"
       ]
      }
     ],
     "prompt_number": 8
    },
    {
     "cell_type": "heading",
     "level": 2,
     "metadata": {},
     "source": [
      "FIGURE 7.1, PAGE 403"
     ]
    },
    {
     "cell_type": "code",
     "collapsed": false,
     "input": [
      "n = 10\n",
      "a = [None, 26, 5, 37, 1, 61, 11, 59, 15, 48, 19]\n",
      "# NOTE: The index-0 element is None to comply with the standards of the Book\n",
      "\n",
      "print \"The working of the quick sort algorithm :\\n\\n\"\n",
      "print \"\\t\\tArray             \\tLeft\\tRight \"\n",
      "print \"--------------------------------------------------------\"\n",
      "QuickSort(a, 1 , 10, debug=True)\n",
      "print \"\\n\\nThe final sorted array : \"\n",
      "print a[1:n+1]"
     ],
     "language": "python",
     "metadata": {},
     "outputs": [
      {
       "output_type": "stream",
       "stream": "stdout",
       "text": [
        "The working of the quick sort algorithm :\n",
        "\n",
        "\n",
        "\t\tArray             \tLeft\tRight \n",
        "--------------------------------------------------------\n",
        "[26, 5, 37, 1, 61, 11, 59, 15, 48, 19] \t1 \t10\n",
        "[11, 5, 19, 1, 15, 26, 59, 61, 48, 37] \t1 \t5\n",
        "[1, 5, 11, 19, 15, 26, 59, 61, 48, 37] \t1 \t2\n",
        "[1, 5, 11, 19, 15, 26, 59, 61, 48, 37] \t4 \t5\n",
        "[1, 5, 11, 15, 19, 26, 59, 61, 48, 37] \t7 \t10\n",
        "[1, 5, 11, 15, 19, 26, 48, 37, 59, 61] \t7 \t8\n",
        "\n",
        "\n",
        "The final sorted array : \n",
        "[1, 5, 11, 15, 19, 26, 37, 48, 59, 61]\n"
       ]
      }
     ],
     "prompt_number": 9
    },
    {
     "cell_type": "code",
     "collapsed": false,
     "input": [
      "# Copy function for Merge operation\n",
      "\n",
      "def copy(list_src, start_pos, end_pos, list_dest, copy_to_pos ):\n",
      "    \"\"\"\n",
      "    Copy list_src[start_pos : end_pos] to list_dest[copy_to_pos:]\n",
      "    \"\"\"\n",
      "    while ( start_pos <= end_pos ):\n",
      "        #print \"in cpy - src:  \", list_src, start_pos, end_pos, \" dest : \", list_dest, copy_to_pos\n",
      "        # In place assignment\n",
      "        list_dest.__setitem__(copy_to_pos, list_src[start_pos])\n",
      "        # Increment copy_to_pos and start_pos\n",
      "        copy_to_pos += 1\n",
      "        start_pos += 1      "
     ],
     "language": "python",
     "metadata": {},
     "outputs": [],
     "prompt_number": 10
    },
    {
     "cell_type": "heading",
     "level": 2,
     "metadata": {},
     "source": [
      "PROGRAM 7.7, PAGE 408"
     ]
    },
    {
     "cell_type": "code",
     "collapsed": false,
     "input": [
      "# Merging two sorted lists\n",
      "def Merge(initList, mergedList, l, m, n):\n",
      "    \"\"\"\n",
      "    Merge the sorted initList[l:m] and initList[m+1:n] into one single sorted list\n",
      "    mergedList[1:n]\n",
      "    \"\"\"\n",
      "    i1 = l; iResult = l; i2 = m+1 # i1, i2 and iResult are list positions\n",
      "    \n",
      "    # while neither input list is exhausted\n",
      "    while ( i1 <= m and i2 <= n ):\n",
      "        if initList[i1] <= initList[i2]:\n",
      "            mergedList.__setitem__(iResult, initList[i1])\n",
      "            i1 += 1\n",
      "        else:\n",
      "            mergedList.__setitem__(iResult, initList[i2])\n",
      "            i2 += 1\n",
      "        iResult += 1\n",
      "        \n",
      "    # Copy remaining records, if any, of first list\n",
      "    copy(initList, i1, m, mergedList, iResult)\n",
      "    copy(initList, i2, n, mergedList, iResult)"
     ],
     "language": "python",
     "metadata": {},
     "outputs": [],
     "prompt_number": 11
    },
    {
     "cell_type": "heading",
     "level": 2,
     "metadata": {},
     "source": [
      "PROGRAM 7.8, PAGE 410"
     ]
    },
    {
     "cell_type": "code",
     "collapsed": false,
     "input": [
      "# Merge Pass\n",
      "def MergePass(initList, resultList, n, s):\n",
      "    \"\"\"\n",
      "    Adjacent pairs of sublists of size s are merged from\n",
      "    initList to resultList. n is the number of records in initList\n",
      "    \"\"\"\n",
      "    i = 1 # i is the first position in first of the sublists being merged\n",
      "    \n",
      "    while ( i <= ( n - 2*s + 1 ) ):\n",
      "        Merge(initList, resultList, i, i + s - 1, i + 2 * s - 1)\n",
      "        \n",
      "        # Merge remaining list of size < 2*s\n",
      "        i += 2*s\n",
      "    \n",
      "    if ( i + s - 1 ) < n :\n",
      "        Merge(initList, resultList, i, i+s-1, n)\n",
      "    else:\n",
      "        copy(initList, i, n, resultList, i)"
     ],
     "language": "python",
     "metadata": {},
     "outputs": [],
     "prompt_number": 12
    },
    {
     "cell_type": "heading",
     "level": 2,
     "metadata": {},
     "source": [
      "PROGRAM 7.9, PAGE 410"
     ]
    },
    {
     "cell_type": "code",
     "collapsed": false,
     "input": [
      "# Merge Sort\n",
      "def MergeSort(a, n, debug = False):\n",
      "    \"\"\"\n",
      "    Sort a[1:n] into non decreasing order using MergeSort algorithm\n",
      "    \"\"\"\n",
      "    tempList = [None]*(n+1)\n",
      "    \n",
      "    # l is the length of the sublist currently being merged\n",
      "    l = 1\n",
      "    while ( l < n ):\n",
      "        MergePass(a, tempList, n, l)\n",
      "        if ( debug ):\n",
      "            print tempList[1:]\n",
      "        \n",
      "        l *= 2\n",
      "        MergePass(tempList, a, n, l)\n",
      "        # Interchange role of a and empList\n",
      "    \n",
      "        l *= 2\n",
      "        \n",
      "        # debug is used to control printing of the list as it gets modified by the algorithm\n",
      "        # This is to illustrate the working of merge sort algorithm step by step.\n",
      "        if ( debug ):\n",
      "            print a[1:]\n",
      "        \n",
      "    del tempList  "
     ],
     "language": "python",
     "metadata": {},
     "outputs": [],
     "prompt_number": 13
    },
    {
     "cell_type": "heading",
     "level": 2,
     "metadata": {},
     "source": [
      "EXAMPLE 7.5, PAGE 409"
     ]
    },
    {
     "cell_type": "code",
     "collapsed": false,
     "input": [
      "n = 10\n",
      "a = [None, 26, 5, 77, 1, 61, 11, 59, 15, 48, 19]\n",
      "# NOTE: The index-0 element is None to comply with the standards of the Book\n",
      "\n",
      "MergeSort(a, 10)\n",
      "print a[1:]"
     ],
     "language": "python",
     "metadata": {},
     "outputs": [
      {
       "output_type": "stream",
       "stream": "stdout",
       "text": [
        "[1, 5, 11, 15, 19, 26, 48, 59, 61, 77]\n"
       ]
      }
     ],
     "prompt_number": 14
    },
    {
     "cell_type": "heading",
     "level": 2,
     "metadata": {},
     "source": [
      "FIGURE 7.4, PAGE 409"
     ]
    },
    {
     "cell_type": "code",
     "collapsed": false,
     "input": [
      "# Working of the MergeSort algorithm\n",
      "n = 10\n",
      "a = [None, 26, 5, 77, 1, 61, 11, 59, 15, 48, 19]\n",
      "# NOTE: The index-0 element is None to comply with the standards of the Book\n",
      "print \"The initial unsorted list is : \"\n",
      "print a[1:], \"\\n\"\n",
      "MergeSort(a, 10, debug=True)\n",
      "print \"\\nThe final sorted list is : \"\n",
      "print a[1:]"
     ],
     "language": "python",
     "metadata": {},
     "outputs": [
      {
       "output_type": "stream",
       "stream": "stdout",
       "text": [
        "The initial unsorted list is : \n",
        "[26, 5, 77, 1, 61, 11, 59, 15, 48, 19] \n",
        "\n",
        "[5, 26, 1, 77, 11, 61, 15, 59, 19, 48]\n",
        "[1, 5, 26, 77, 11, 15, 59, 61, 19, 48]\n",
        "[1, 5, 11, 15, 26, 59, 61, 77, 19, 48]\n",
        "[1, 5, 11, 15, 19, 26, 48, 59, 61, 77]\n",
        "\n",
        "The final sorted list is : \n",
        "[1, 5, 11, 15, 19, 26, 48, 59, 61, 77]\n"
       ]
      }
     ],
     "prompt_number": 15
    },
    {
     "cell_type": "heading",
     "level": 2,
     "metadata": {},
     "source": [
      "PROGRAM 7.10, PAGE 412"
     ]
    },
    {
     "cell_type": "code",
     "collapsed": false,
     "input": [
      "# Recursive Merge Sort\n",
      "def rMergeSort(a, link, left, right):\n",
      "    \"\"\"\n",
      "    a[left:right] will be sorted in a non decreasing order \n",
      "    using Merge Sort algorithm and recursive function call\n",
      "    \"\"\"\n",
      "    # a[left:right] is to be sorted, link[i] is initially 0 for all i\n",
      "    # rMergeSort returns the index of the first element in the sorted chain\n",
      "    \n",
      "    if ( left > right ):\n",
      "        return left\n",
      "    \n",
      "    mid = ( left + right ) / 2\n",
      "    return ListMerge(a, link, \n",
      "                     rMergeSort(a, link, left, mid),\n",
      "                     rMergeSort(a, link, mid+1, right))\n",
      "\n",
      "# The list merge function is defined in PROGRAM 7.11, PAGE 413"
     ],
     "language": "python",
     "metadata": {},
     "outputs": [],
     "prompt_number": 16
    },
    {
     "cell_type": "heading",
     "level": 2,
     "metadata": {},
     "source": [
      "PROGRAM 7.11, PAGE 413"
     ]
    },
    {
     "cell_type": "code",
     "collapsed": false,
     "input": [
      "# Merging sorted chains\n",
      "def ListMerge(a, link, start1, start2):\n",
      "    \"\"\"\n",
      "    Function to merge two chain start1 and  start2 in array a.\n",
      "    Returns the first position of the resulting chain that is linked \n",
      "    in nondecreasing order of key values.\n",
      "    \"\"\"\n",
      "    # The sorted chains beginning at start1 and start2, respectively, are merged.\n",
      "    # link[0] is used as a temporary header. Return start of merged chain\n",
      "    iResult = 0 # Last record of result chain\n",
      "    i1 = start1; i2 = start2\n",
      "    while ( i1 and i2 ):\n",
      "        if a[i1] <= a[i2]:\n",
      "            link.__setitem__(iResult, i1)\n",
      "            iResult = i1; i1 = link[i1]\n",
      "        else:\n",
      "            link[iResult] = i2\n",
      "            iResult = i2\n",
      "            i2 = link[i2]\n",
      "    \n",
      "    # Attach remaining records to result chain\n",
      "    if ( i1 == 0 ):\n",
      "        link.__setitem__(iResult, i2)\n",
      "    else:\n",
      "        link.__setitem__(iResult, i1)\n",
      "        \n",
      "    return link[0]"
     ],
     "language": "python",
     "metadata": {},
     "outputs": [],
     "prompt_number": 17
    },
    {
     "cell_type": "heading",
     "level": 2,
     "metadata": {},
     "source": [
      "MAX HEAP DATA STRUCTURE"
     ]
    },
    {
     "cell_type": "code",
     "collapsed": false,
     "input": [
      "# Max heap Class definition - From Chapter 5 ( Trees )\n",
      "# REFER PROGRAM 5.15, PAGE 282; PROGRAM 5.16, PAGE 285; PROGRAM 5.16, PAGE 286\n",
      "\n",
      "class MaxHeap(object):\n",
      "    def __init__(self, theCapacity = 10):\n",
      "        if theCapacity < 1:\n",
      "            raise Exception(\"Capacity must be >= 1\")\n",
      "\n",
      "        self.capacity = theCapacity\n",
      "        self.heapSize = 0\n",
      "        self.heap = dict()\n",
      "        \n",
      "    def IsEmpty(self):\n",
      "        return ( self.heapSize == 0 ) or ( len(self.heap) == 0 )\n",
      "    \n",
      "    def Push(self, e):\n",
      "        \"\"\" Insert e into max heap \"\"\"\n",
      "    \n",
      "        if self.heapSize == self.capacity:\n",
      "            # Double the capacity\n",
      "            self.capacity *= 2\n",
      "\n",
      "        self.heapSize += 1\n",
      "        currentNode = self.heapSize\n",
      "\n",
      "        while ( currentNode != 1 ) and ( self.heap[currentNode/2] < e) :\n",
      "            # Bubble up\n",
      "            self.heap[currentNode] = self.heap[currentNode / 2] # Move parent down\n",
      "            currentNode /= 2\n",
      "\n",
      "        self.heap[currentNode] = e\n",
      "    \n",
      "    def Pop(self):\n",
      "        \"\"\" Delete max element \"\"\"\n",
      "        \n",
      "        if self.IsEmpty():\n",
      "            raise Exception(\"Heap is empty. Cannot delete\")\n",
      "\n",
      "        # Remove last element from heap\n",
      "        lastE = self.heap[self.heapSize]\n",
      "        self.heapSize -= 1\n",
      "        \n",
      "        popped = self.heap.pop(1) # Store the popped item to return\n",
      "        \n",
      "        if ( self.IsEmpty() ):\n",
      "            return popped\n",
      "        \n",
      "        # Tricle down\n",
      "        currentNode = 1 # Root\n",
      "        \n",
      "        child = 2       # A child of the CurrentNode\n",
      "        while child <= self.heapSize:\n",
      "            # set child to larger child of currentNode\n",
      "            if child < self.heapSize and self.heap[child] < self.heap[child+1]:\n",
      "                child += 1\n",
      "\n",
      "            if lastE >= self.heap[child]:\n",
      "                # If lastE can be put in the currentNode, break out of the loop\n",
      "                break\n",
      "\n",
      "            # If not\n",
      "\n",
      "            self.heap[currentNode] = self.heap[child]\n",
      "            currentNode = child   # move child up\n",
      "            child *= 2  # Move down a level\n",
      "\n",
      "        self.heap[currentNode] = lastE\n",
      "        del self.heap[self.heapSize + 1]\n",
      "        \n",
      "        return popped"
     ],
     "language": "python",
     "metadata": {},
     "outputs": [],
     "prompt_number": 18
    },
    {
     "cell_type": "heading",
     "level": 2,
     "metadata": {},
     "source": [
      "PROGRAM 7.13, PAGE 415"
     ]
    },
    {
     "cell_type": "code",
     "collapsed": false,
     "input": [
      "# Adjusting a Max Heap\n",
      "\n",
      "def Adjust(a, root, n):\n",
      "    \"\"\"\n",
      "    Adjust binary tree with root 'root' to satisfy heap property.\n",
      "    The left and right subtrees of root already satisfy the heap property. No node index is > n\n",
      "    \"\"\"\n",
      "    e = a[root]\n",
      "    # Find a proper place for e\n",
      "    \n",
      "    j = 2*root\n",
      "    \n",
      "    while ( j <= n ):\n",
      "        if ( j < n ) and ( a[j] < a[j+1] ):\n",
      "            j += 1  # j is maxchild of its parent\n",
      "        \n",
      "        if ( e >= a[j] ):\n",
      "            break   # e may be inserted as parent of j\n",
      "            \n",
      "        a.__setitem__(j/2, a[j])  # Move the jth record up the tree\n",
      "        \n",
      "        j *= 2\n",
      "    \n",
      "    a.__setitem__(j/2, e)"
     ],
     "language": "python",
     "metadata": {},
     "outputs": [],
     "prompt_number": 19
    },
    {
     "cell_type": "heading",
     "level": 2,
     "metadata": {},
     "source": [
      "PROGRAM 7.14, PAGE 415"
     ]
    },
    {
     "cell_type": "code",
     "collapsed": false,
     "input": [
      "# Heap Sort\n",
      "\n",
      "def HeapSort(a, n):\n",
      "    \"\"\" Sort a[1:n] into non decreasing order using Heap Sort algorithm \"\"\"\n",
      "    \n",
      "    # Heapify\n",
      "    i = n/2\n",
      "    while ( i >= 1 ):\n",
      "        Adjust(a,i,n)\n",
      "        i -= 1\n",
      "    \n",
      "    # Sort\n",
      "    i = n-1\n",
      "    while ( i >= 1 ):\n",
      "        # Swap first and last of current heap\n",
      "        temp = a[1]\n",
      "        a.__setitem__(1, a[i+1])\n",
      "        a.__setitem__(i+1, temp)\n",
      "        \n",
      "        Adjust(a,1,i)  # Heapify\n",
      "        i -= 1"
     ],
     "language": "python",
     "metadata": {},
     "outputs": [],
     "prompt_number": 20
    },
    {
     "cell_type": "heading",
     "level": 2,
     "metadata": {},
     "source": [
      "EXAMPLE 7.7, PAGE 415"
     ]
    },
    {
     "cell_type": "code",
     "collapsed": false,
     "input": [
      "n = 10\n",
      "list_a = [None, 26, 5, 77, 1, 61, 11, 59, 15, 48, 19]\n",
      "dict_a = dict(zip(range(1,n+1), [26, 5, 77, 1, 61, 11, 59, 15, 48, 19]))\n",
      "dict_a_cpy = dict_a.copy()\n",
      "# NOTE: The index-0 element is None to comply with the standards of the Book\n",
      "\n",
      "print \"The input list ( unsorted ) : \"\n",
      "print list_a\n",
      "print \"\\nThe input list ( represented as a dictionary ) : \"\n",
      "print dict_a\n",
      "print \"\\nThe sorted dictionary using HeapSort Function : \"\n",
      "HeapSort(dict_a, 10)\n",
      "print dict_a\n",
      "print \"\\nThe list representation of the sorted dictionary : \"\n",
      "print list(dict_a.itervalues())"
     ],
     "language": "python",
     "metadata": {},
     "outputs": [
      {
       "output_type": "stream",
       "stream": "stdout",
       "text": [
        "The input list ( unsorted ) : \n",
        "[None, 26, 5, 77, 1, 61, 11, 59, 15, 48, 19]\n",
        "\n",
        "The input list ( represented as a dictionary ) : \n",
        "{1: 26, 2: 5, 3: 77, 4: 1, 5: 61, 6: 11, 7: 59, 8: 15, 9: 48, 10: 19}\n",
        "\n",
        "The sorted dictionary using HeapSort Function : \n",
        "{1: 1, 2: 5, 3: 11, 4: 15, 5: 19, 6: 26, 7: 48, 8: 59, 9: 61, 10: 77}\n",
        "\n",
        "The list representation of the sorted dictionary : \n",
        "[1, 5, 11, 15, 19, 26, 48, 59, 61, 77]\n"
       ]
      }
     ],
     "prompt_number": 21
    },
    {
     "cell_type": "heading",
     "level": 2,
     "metadata": {},
     "source": [
      "FIGURE 7.7, PAGE 416"
     ]
    },
    {
     "cell_type": "code",
     "collapsed": false,
     "input": [
      "# Array interpreted as binary tree\n",
      "\n",
      "# Imports to graphically visualize the Heap\n",
      "# Requires graphviz and pydot2 libraries to be pre-installed\n",
      "import networkx as nx\n",
      "import numpy as np\n",
      "import matplotlib.pyplot as plt\n",
      "import collections # For using OrderedDict with nx.Graph objects\n",
      "%matplotlib inline\n",
      "plt.axis('off')\n",
      "\n",
      "# NOT IN TEXTBOOK\n",
      "# Function to convert the array representation of tree to networkx edges\n",
      "def to_edge_pairs(tree_array):\n",
      "    \"\"\" Convert array representation of tree to edge pair tuples to add to networkx graph \"\"\"\n",
      "    edges = []\n",
      "    size = len(tree_array)\n",
      "    # NOTE: index starts from 1 for the tree_array.\n",
      "    for i in range(1,size+1):\n",
      "        if ( 2*i <= size ): # If Left child exists\n",
      "            edges.append((tree_array[i], tree_array[2*i]))\n",
      "        if ( 2*i + 1 ) <= size : # If Right child exists\n",
      "            edges.append((tree_array[i], tree_array[2*i + 1]))\n",
      "    return edges\n",
      "\n",
      "\n",
      "print \"The input array ( Represented as dictionary ) : \"\n",
      "print dict_a_cpy\n",
      "\n",
      "G = nx.DiGraph()\n",
      "G.node = collections.OrderedDict() \n",
      "# To preserve the order of edges ( Right / Left subtree will be displayed in the correct order )\n",
      "G.add_edges_from(to_edge_pairs(dict_a_cpy))\n",
      "nx.draw(G, nx.graphviz_layout(G,prog='dot'), arrows=False, with_labels=True)\n",
      "plt.title(\"Input array\")\n",
      "plt.show()\n",
      "\n",
      "print \"Heap representation using the MaxHeap data structure ( Chapter 5 ): \"\n",
      "heap_a = MaxHeap()\n",
      "sorted_arr = list()\n",
      "[ heap_a.Push(list_a[i]) for i in range(1, n+1) ]\n",
      "print heap_a.heap\n",
      "\n",
      "G.clear()\n",
      "G.add_edges_from(to_edge_pairs(heap_a.heap))\n",
      "nx.draw(G, nx.graphviz_layout(G,prog='dot'), arrows=False, with_labels=True, node_color='b')\n",
      "plt.title(\"Initial Heap\")\n",
      "plt.show()\n",
      "\n",
      "sorted_arr.append(heap_a.Pop())\n",
      "\n",
      "while ( not heap_a.IsEmpty()):\n",
      "    G.clear()\n",
      "    G.add_nodes_from( list(heap_a.heap.itervalues()) )\n",
      "    G.add_edges_from(to_edge_pairs(heap_a.heap))\n",
      "    nx.draw(G, nx.graphviz_layout(G,prog='dot'), arrows=False, with_labels=True, node_color='b')\n",
      "    plt.title(\"Heap Size = \" + str(heap_a.heapSize))\n",
      "    plt.show()\n",
      "    print \"Sorted : \", sorted_arr\n",
      "    sorted_arr.append(heap_a.Pop())\n",
      "    \n",
      "print \"The final sorted array is : \", sorted_arr"
     ],
     "language": "python",
     "metadata": {},
     "outputs": [
      {
       "output_type": "stream",
       "stream": "stdout",
       "text": [
        "The input array ( Represented as dictionary ) : \n",
        "{1: 26, 2: 5, 3: 77, 4: 1, 5: 61, 6: 11, 7: 59, 8: 15, 9: 48, 10: 19}\n"
       ]
      },
      {
       "metadata": {},
       "output_type": "display_data",
       "png": "[encoded data removed]",
       "text": [
        "<matplotlib.figure.Figure at 0x7fd6e42fe310>"
       ]
      },
      {
       "output_type": "stream",
       "stream": "stdout",
       "text": [
        "Heap representation using the MaxHeap data structure ( Chapter 5 ): \n",
        "{1: 77, 2: 61, 3: 59, 4: 48, 5: 19, 6: 11, 7: 26, 8: 1, 9: 15, 10: 5}\n"
       ]
      },
      {
       "metadata": {},
       "output_type": "display_data",
       "png": "[encoded data removed]",
       "text": [
        "<matplotlib.figure.Figure at 0x7fd6c30298d0>"
       ]
      },
      {
       "metadata": {},
       "output_type": "display_data",
       "png": "[encoded data removed]",
       "text": [
        "<matplotlib.figure.Figure at 0x7fd6c7916a10>"
       ]
      },
      {
       "output_type": "stream",
       "stream": "stdout",
       "text": [
        "Sorted :  [77]\n"
       ]
      },
      {
       "metadata": {},
       "output_type": "display_data",
       "png": "[encoded data removed]",
       "text": [
        "<matplotlib.figure.Figure at 0x7fd6c30bc210>"
       ]
      },
      {
       "output_type": "stream",
       "stream": "stdout",
       "text": [
        "Sorted :  [77, 61]\n"
       ]
      },
      {
       "metadata": {},
       "output_type": "display_data",
       "png": "[encoded data removed]",
       "text": [
        "<matplotlib.figure.Figure at 0x7fd6e42fe310>"
       ]
      },
      {
       "output_type": "stream",
       "stream": "stdout",
       "text": [
        "Sorted :  [77, 61, 59]\n"
       ]
      },
      {
       "metadata": {},
       "output_type": "display_data",
       "png": "[encoded data removed]",
       "text": [
        "<matplotlib.figure.Figure at 0x7fd6cea0e850>"
       ]
      },
      {
       "output_type": "stream",
       "stream": "stdout",
       "text": [
        "Sorted :  [77, 61, 59, 48]\n"
       ]
      },
      {
       "metadata": {},
       "output_type": "display_data",
       "png": "[encoded data removed]",
       "text": [
        "<matplotlib.figure.Figure at 0x7fd6e42fe310>"
       ]
      },
      {
       "output_type": "stream",
       "stream": "stdout",
       "text": [
        "Sorted :  [77, 61, 59, 48, 26]\n"
       ]
      },
      {
       "metadata": {},
       "output_type": "display_data",
       "png": "[encoded data removed]",
       "text": [
        "<matplotlib.figure.Figure at 0x7fd6c30bccd0>"
       ]
      },
      {
       "output_type": "stream",
       "stream": "stdout",
       "text": [
        "Sorted :  [77, 61, 59, 48, 26, 19]\n"
       ]
      },
      {
       "metadata": {},
       "output_type": "display_data",
       "png": "[encoded data removed]",
       "text": [
        "<matplotlib.figure.Figure at 0x7fd6c1ee5c90>"
       ]
      },
      {
       "output_type": "stream",
       "stream": "stdout",
       "text": [
        "Sorted :  [77, 61, 59, 48, 26, 19, 15]\n"
       ]
      },
      {
       "metadata": {},
       "output_type": "display_data",
       "png": "[encoded data removed]",
       "text": [
        "<matplotlib.figure.Figure at 0x7fd6ec421b10>"
       ]
      },
      {
       "output_type": "stream",
       "stream": "stdout",
       "text": [
        "Sorted :  [77, 61, 59, 48, 26, 19, 15, 11]\n"
       ]
      },
      {
       "metadata": {},
       "output_type": "display_data",
       "png": "[encoded data removed]",
       "text": [
        "<matplotlib.figure.Figure at 0x7fd6c1ee5050>"
       ]
      },
      {
       "output_type": "stream",
       "stream": "stdout",
       "text": [
        "Sorted :  [77, 61, 59, 48, 26, 19, 15, 11, 5]\n",
        "The final sorted array is :  [77, 61, 59, 48, 26, 19, 15, 11, 5, 1]\n"
       ]
      }
     ],
     "prompt_number": 22
    },
    {
     "cell_type": "heading",
     "level": 2,
     "metadata": {},
     "source": [
      "PROGRAM 7.15, PAGE 420"
     ]
    },
    {
     "cell_type": "code",
     "collapsed": false,
     "input": [
      "# LSD Radix Sort\n",
      "\n",
      "# Use debug to understand the working of Radix sort step by step.\n",
      "def RadixSort(a, link, d, r, n, debug=False):\n",
      "    \"\"\"\n",
      "    Sort a[1:n] ( both 1 and n inclusive ) using a d-digit radix-r sort. digit(a[i], j, r) returns the jth radix-r\n",
      "    digit ( from the left ) of a[i]'s key. Each digit is in the range is [0,r)\n",
      "    Sorting within a digit is done using bin sort.\n",
      "    \"\"\"\n",
      "    # NOTE: a[n] is the last element and a[1] is the first element. Pythonically speaking a[1:n+1] is being sorted\n",
      "    \n",
      "    # Queue front and end pointers\n",
      "    e = [0]*r\n",
      "    f = [0]*r\n",
      "    \n",
      "    # Create initial chain of records starting at first\n",
      "    first = 1\n",
      "    for i in range(1, n):\n",
      "        link.__setitem__(i, i+1)\n",
      "        \n",
      "    link.__setitem__(n, 0) # Terminating the chain of records\n",
      "\n",
      "    for i in range(d-1, -1, -1):\n",
      "        # Sort on digit i\n",
      "        f = [0]*r # Initial bins to empty spaces\n",
      "        e = [0]*r\n",
      "        \n",
      "        current = first\n",
      "        \n",
      "        while current != 0:\n",
      "            # Put the record into queues\n",
      "            k = digit(a[current], i, r, d)\n",
      "            \n",
      "            if f[k] == 0:\n",
      "                f[k] = current\n",
      "            else:\n",
      "                link.__setitem__(e[k], current)\n",
      "                \n",
      "            e[k] = current\n",
      "            \n",
      "            current = link[current]\n",
      "        \n",
      "        if debug:\n",
      "            print \"PASS \", (d-1) - i, \" The f[ ] list is   : \", f\n",
      "            print \"         The e[ ] list is   : \", e\n",
      "\n",
      "        # Finding the first non-empty bin\n",
      "        \n",
      "        j = 0\n",
      "        \n",
      "        while f[j] == 0:\n",
      "            j += 1\n",
      "\n",
      "        # The folowing code contatenates the rest of the queue.\n",
      "        print \"         First non empty chain is at :\", j\n",
      "        first = f[j]\n",
      "        last = e[j]\n",
      "\n",
      "        for k in range(j+1, r):\n",
      "            if f[k] != 0:\n",
      "                link.__setitem__(last, f[k])\n",
      "                last = e[k]\n",
      "            \n",
      "        link.__setitem__(last, 0)\n",
      "        \n",
      "        if debug:\n",
      "            print \"         The links are      : \", link\n",
      "            current_copy = first\n",
      "            print \"         First is at :\", current_copy\n",
      "            print \"         Resulting Chain is :\",\n",
      "            while current_copy != 0:\n",
      "                print a[current_copy], \n",
      "                current_copy = link[current_copy]\n",
      "            print \"\\n\"\n",
      "            \n",
      "        \n",
      "    return first\n",
      "\n",
      "def digit(number, i, radix, number_of_digits):\n",
      "    \"\"\"\n",
      "    Returns the ith digit ( from the right of the number having a length of number_of_digits ).\n",
      "    \"\"\"\n",
      "    numerals = \"0123456789abcdefghijklmnopqrstuvwxyz\"\n",
      "    number_base_radix = _toBaseRadix(number, radix)\n",
      "    \n",
      "    if i > len(number_base_radix):\n",
      "        return numerals.find(number_base_radix[-1])\n",
      "    \n",
      "    try:\n",
      "        digit_value = numerals.find(number_base_radix[ i - number_of_digits ])\n",
      "    except:\n",
      "        digit_value = -1            \n",
      "    \n",
      "    if digit_value < 0:\n",
      "        return 0\n",
      "    else:\n",
      "        return digit_value\n",
      "\n",
      "\n",
      "def _toBaseRadix(number, radix):\n",
      "    \"\"\"\n",
      "    Convert decimal number to string of the number in base radix representation.\n",
      "    \"\"\"\n",
      "    \n",
      "    if number < 0:\n",
      "        return \"-\" + _toBaseRadix(-number, radix)\n",
      "    \n",
      "    number_radix = \"\"\n",
      "    numerals = \"0123456789abcdefghijklmnopqrstuvwxyz\"\n",
      "    \n",
      "    while number > 0:\n",
      "        number_radix = numerals[(number % radix)] + number_radix\n",
      "        number /= radix\n",
      "        \n",
      "    return number_radix"
     ],
     "language": "python",
     "metadata": {},
     "outputs": [],
     "prompt_number": 23
    },
    {
     "cell_type": "heading",
     "level": 2,
     "metadata": {},
     "source": [
      "EXAMPLE 7.8, PAGE 419"
     ]
    },
    {
     "cell_type": "code",
     "collapsed": false,
     "input": [
      "a = [None, 179, 208, 306, 93, 859, 984, 55, 9, 271, 33]\n",
      "n = len(a)\n",
      "indices = [0]*n\n",
      "current = RadixSort(a, indices, 3, 10, 10, debug=True)\n",
      "print \"The first element\", a[current], \"is at\", current\n",
      "print \"The sorted list is :\", \n",
      "while current != 0:\n",
      "    print a[current],\n",
      "    current = indices[current]\n",
      "print \"\""
     ],
     "language": "python",
     "metadata": {},
     "outputs": [
      {
       "output_type": "stream",
       "stream": "stdout",
       "text": [
        "PASS  0  The f[ ] list is   :  [0, 9, 0, 4, 6, 7, 3, 0, 2, 1]\n",
        "         The e[ ] list is   :  [0, 9, 0, 10, 6, 7, 3, 0, 2, 8]\n",
        "         First non empty chain is at : 1\n",
        "         The links are      :  [0, 5, 1, 2, 10, 8, 7, 3, 0, 4, 6]\n",
        "         First is at : 9\n",
        "         Resulting Chain is : 271 93 33 984 55 306 208 179 859 9 \n",
        "\n",
        "PASS  1  The f[ ] list is   :  [3, 0, 0, 10, 0, 7, 0, 9, 6, 4]\n",
        "         The e[ ] list is   :  [8, 0, 0, 10, 0, 5, 0, 1, 6, 4]\n",
        "         First non empty chain is at : 0\n",
        "         The links are      :  [0, 6, 8, 2, 0, 9, 4, 5, 10, 1, 7]\n",
        "         First is at : 3\n",
        "         Resulting Chain is : 306 208 9 33 55 859 271 179 984 93 \n",
        "\n",
        "PASS  2  The f[ ] list is   :  [8, 1, 2, 3, 0, 0, 0, 0, 5, 6]\n",
        "         The e[ ] list is   :  [4, 1, 9, 3, 0, 0, 0, 0, 5, 6]\n",
        "         First non empty chain is at : 0\n",
        "         The links are      :  [0, 2, 9, 5, 1, 6, 0, 4, 10, 3, 7]\n",
        "         First is at : 8\n",
        "         Resulting Chain is : 9 33 55 93 179 208 271 306 859 984 \n",
        "\n",
        "The first element 9 is at 8\n",
        "The sorted list is : 9 33 55 93 179 208 271 306 859 984 \n"
       ]
      }
     ],
     "prompt_number": 24
    },
    {
     "cell_type": "heading",
     "level": 2,
     "metadata": {},
     "source": [
      "PROGRAM 7.16, PAGE 424"
     ]
    },
    {
     "cell_type": "code",
     "collapsed": false,
     "input": [
      "# Rearranging records using a doubly linked list\n",
      "\n",
      "def List1(a, linka, n, first):\n",
      "    \"\"\"\n",
      "    Rearranges the sorted chain beginning at first so that the records a[1:n] ( both inclusive )\n",
      "    are in sorted order.\n",
      "    Note that actual sorting does not take place. The input is assumed to be sorted already. The sorted \n",
      "    order is specified by linka.\n",
      "    \"\"\"\n",
      "    \n",
      "    linkb = [0]*(n+1) # Array to use as backward links \n",
      "    # NOTE: There will be n + 1 elements in linkb. The first element will remain unused.\n",
      "    # This is in accordance with the approach followed in the text book.\n",
      "    \n",
      "    prev = 0\n",
      "    current = first\n",
      "    while current != 0:\n",
      "        # Converting the singly linked list chain to a dll form\n",
      "        linkb[current] = prev\n",
      "        prev = current\n",
      "        current = linka[current]\n",
      "    \n",
      "    # Positioning a[first] to i while maintiaining the list\n",
      "    for i in range(1, n):\n",
      "        \n",
      "        if first != i:\n",
      "            if linka[i] != 0:\n",
      "                linkb[linka[i]] = first\n",
      "            linka.__setitem__(linkb[i], first) # Inplace modification of the list linka\n",
      "            \n",
      "            # Swapping a[first] and a[i]\n",
      "            temp = a[i]\n",
      "            a.__setitem__(i, a[first])\n",
      "            a.__setitem__(first, temp)\n",
      "            \n",
      "            # Swapping linka[first] and linka[i]\n",
      "            temp = linka[i]\n",
      "            linka.__setitem__(i, linka[first])\n",
      "            linka.__setitem__(first, temp)\n",
      "            \n",
      "            # Swapping linkb[first] and linkb[i]\n",
      "            linkb[first], linkb[i] = linkb[i], linkb[first]\n",
      "        \n",
      "        first = linka[i]\n",
      "        \n",
      "        print \"PASS\", i\n",
      "        print \"       key   : \", a\n",
      "        print \"       linka : \", linka\n",
      "        print \"       linkb : \", linkb\n",
      "        print \"       first : \", first\n",
      "        print \"\"\n",
      "            \n",
      "        "
     ],
     "language": "python",
     "metadata": {},
     "outputs": [],
     "prompt_number": 5
    },
    {
     "cell_type": "heading",
     "level": 2,
     "metadata": {},
     "source": [
      "EXAMPLE 7.9, PAGE 424"
     ]
    },
    {
     "cell_type": "code",
     "collapsed": false,
     "input": [
      "array = [None, 26, 5, 77, 1, 61, 11, 59, 15, 48, 19]\n",
      "n = len(array)\n",
      "order = [ 0, 9, 6, 0, 2, 3, 8, 5, 10, 7, 1 ]\n",
      "print \"The linking order is :\", order\n",
      "print \"The input array is :\", array\n",
      "print \"\"\n",
      "\n",
      "List1(array, order, n-1, 4)\n",
      "\n",
      "print \"After rearranging the order is :\", order\n",
      "print \"After rearranging the array is :\", array\n",
      "print array"
     ],
     "language": "python",
     "metadata": {},
     "outputs": [
      {
       "output_type": "stream",
       "stream": "stdout",
       "text": [
        "The linking order is : [0, 9, 6, 0, 2, 3, 8, 5, 10, 7, 1]\n",
        "The input array is : [None, 26, 5, 77, 1, 61, 11, 59, 15, 48, 19]\n",
        "\n",
        "PASS 1\n",
        "       key   :  [None, 1, 5, 77, 26, 61, 11, 59, 15, 48, 19]\n",
        "       linka :  [0, 2, 6, 0, 9, 3, 8, 5, 10, 7, 4]\n",
        "       linkb :  [0, 0, 4, 5, 10, 7, 2, 9, 6, 4, 8]\n",
        "       first :  2\n",
        "\n",
        "PASS 2\n",
        "       key   :  [None, 1, 5, 77, 26, 61, 11, 59, 15, 48, 19]\n",
        "       linka :  [0, 2, 6, 0, 9, 3, 8, 5, 10, 7, 4]\n",
        "       linkb :  [0, 0, 4, 5, 10, 7, 2, 9, 6, 4, 8]\n",
        "       first :  6\n",
        "\n",
        "PASS 3\n",
        "       key   :  [None, 1, 5, 11, 26, 61, 77, 59, 15, 48, 19]\n",
        "       linka :  [0, 2, 6, 8, 9, 6, 0, 5, 10, 7, 4]\n",
        "       linkb :  [0, 0, 4, 2, 10, 7, 5, 9, 6, 4, 8]\n",
        "       first :  8\n",
        "\n",
        "PASS 4\n",
        "       key   :  [None, 1, 5, 11, 15, 61, 77, 59, 26, 48, 19]\n",
        "       linka :  [0, 2, 6, 8, 10, 6, 0, 5, 9, 7, 8]\n",
        "       linkb :  [0, 0, 4, 2, 6, 7, 5, 9, 10, 8, 8]\n",
        "       first :  10\n",
        "\n",
        "PASS 5\n",
        "       key   :  [None, 1, 5, 11, 15, 19, 77, 59, 26, 48, 61]\n",
        "       linka :  [0, 2, 6, 8, 10, 8, 0, 10, 9, 7, 6]\n",
        "       linkb :  [0, 0, 4, 2, 6, 8, 10, 9, 10, 8, 7]\n",
        "       first :  8\n",
        "\n",
        "PASS 6\n",
        "       key   :  [None, 1, 5, 11, 15, 19, 26, 59, 77, 48, 61]\n",
        "       linka :  [0, 2, 6, 8, 10, 8, 9, 10, 0, 7, 8]\n",
        "       linkb :  [0, 0, 4, 2, 6, 8, 10, 9, 10, 8, 7]\n",
        "       first :  9\n",
        "\n",
        "PASS 7\n",
        "       key   :  [None, 1, 5, 11, 15, 19, 26, 48, 77, 59, 61]\n",
        "       linka :  [0, 2, 6, 8, 10, 8, 9, 9, 0, 10, 8]\n",
        "       linkb :  [0, 0, 4, 2, 6, 8, 10, 8, 10, 9, 9]\n",
        "       first :  9\n",
        "\n",
        "PASS 8\n",
        "       key   :  [None, 1, 5, 11, 15, 19, 26, 48, 59, 77, 61]\n",
        "       linka :  [0, 2, 6, 8, 10, 8, 9, 9, 10, 0, 9]\n",
        "       linkb :  [0, 0, 4, 2, 6, 8, 10, 8, 9, 10, 9]\n",
        "       first :  10\n",
        "\n",
        "PASS 9\n",
        "       key   :  [None, 1, 5, 11, 15, 19, 26, 48, 59, 61, 77]\n",
        "       linka :  [0, 2, 6, 8, 10, 8, 9, 9, 10, 10, 0]\n",
        "       linkb :  [0, 0, 4, 2, 6, 8, 10, 8, 9, 9, 10]\n",
        "       first :  10\n",
        "\n",
        "After rearranging the order is : [0, 2, 6, 8, 10, 8, 9, 9, 10, 10, 0]\n",
        "After rearranging the array is : [None, 1, 5, 11, 15, 19, 26, 48, 59, 61, 77]\n",
        "[None, 1, 5, 11, 15, 19, 26, 48, 59, 61, 77]\n"
       ]
      }
     ],
     "prompt_number": 6
    },
    {
     "cell_type": "heading",
     "level": 2,
     "metadata": {},
     "source": [
      "PROGRAM 7.17, PAGE 427"
     ]
    },
    {
     "cell_type": "code",
     "collapsed": false,
     "input": [
      "# Rearranging records using only one link field\n",
      "def List2(a, link, n, first):\n",
      "    \"\"\"\n",
      "    Rearranges a of n elements, using the order given in list link.\n",
      "    \"\"\"\n",
      "    # Does not use backward linking list linkb as used in List1\n",
      "    for i in range(1, n):\n",
      "        # Position ith record aptly.\n",
      "        # Note that its index will be greater than i, since records till i have\n",
      "        # already been positioned\n",
      "        \n",
      "        while first < i:\n",
      "            first = link[first]\n",
      "                \n",
      "        q = link[first] # a[q] is next record in sorted order.\n",
      "        if first != i:\n",
      "            # a[first] has the ith smallest key. Move record to ith position\n",
      "            # Also set link from old position of a[i] to new one\n",
      "            \n",
      "            # swap a[i] and a[first]\n",
      "            temp = a[i]\n",
      "            a.__setitem__(i, a[first])\n",
      "            a.__setitem__(first, temp)\n",
      "            \n",
      "            link.__setitem__(first, link[i])\n",
      "            link.__setitem__(i, first)\n",
      "            \n",
      "        first = q\n",
      "        \n",
      "        print \"PASS\", i\n",
      "        print \"       key   : \", a\n",
      "        print \"       link : \", link\n",
      "        print \"       first : \", first\n",
      "        print \"\""
     ],
     "language": "python",
     "metadata": {},
     "outputs": [],
     "prompt_number": 15
    },
    {
     "cell_type": "code",
     "collapsed": false,
     "input": [
      "array = [None, 26, 5, 77, 1, 61, 11, 59, 15, 48, 19]\n",
      "n = len(array)\n",
      "link = [ 0, 9, 6, 0, 2, 3, 8, 5, 10, 7, 1 ]\n",
      "print \"The linking order is :\", link\n",
      "print \"The input array is :\", array\n",
      "print \"\"\n",
      "\n",
      "List2(array, link, n-1, 4)\n",
      "\n",
      "print \"After rearranging the link is :\", link\n",
      "print \"After rearranging the array is :\", array"
     ],
     "language": "python",
     "metadata": {},
     "outputs": [
      {
       "output_type": "stream",
       "stream": "stdout",
       "text": [
        "The linking order is : [0, 9, 6, 0, 2, 3, 8, 5, 10, 7, 1]\n",
        "The input array is : [None, 26, 5, 77, 1, 61, 11, 59, 15, 48, 19]\n",
        "\n",
        "PASS 1\n",
        "       key   :  [None, 1, 5, 77, 26, 61, 11, 59, 15, 48, 19]\n",
        "       link :  [0, 4, 6, 0, 9, 3, 8, 5, 10, 7, 1]\n",
        "       first :  2\n",
        "\n",
        "PASS 2\n",
        "       key   :  [None, 1, 5, 77, 26, 61, 11, 59, 15, 48, 19]\n",
        "       link :  [0, 4, 6, 0, 9, 3, 8, 5, 10, 7, 1]\n",
        "       first :  6\n",
        "\n",
        "PASS 3\n",
        "       key   :  [None, 1, 5, 11, 26, 61, 77, 59, 15, 48, 19]\n",
        "       link :  [0, 4, 6, 6, 9, 3, 0, 5, 10, 7, 1]\n",
        "       first :  8\n",
        "\n",
        "PASS 4\n",
        "       key   :  [None, 1, 5, 11, 15, 61, 77, 59, 26, 48, 19]\n",
        "       link :  [0, 4, 6, 6, 8, 3, 0, 5, 9, 7, 1]\n",
        "       first :  10\n",
        "\n",
        "PASS 5\n",
        "       key   :  [None, 1, 5, 11, 15, 19, 77, 59, 26, 48, 61]\n",
        "       link :  [0, 4, 6, 6, 8, 10, 0, 5, 9, 7, 3]\n",
        "       first :  1\n",
        "\n",
        "PASS 6\n",
        "       key   :  [None, 1, 5, 11, 15, 19, 26, 59, 77, 48, 61]\n",
        "       link :  [0, 4, 6, 6, 8, 10, 8, 5, 0, 7, 3]\n",
        "       first :  9\n",
        "\n",
        "PASS 7\n",
        "       key   :  [None, 1, 5, 11, 15, 19, 26, 48, 77, 59, 61]\n",
        "       link :  [0, 4, 6, 6, 8, 10, 8, 9, 0, 5, 3]\n",
        "       first :  7\n",
        "\n",
        "PASS 8\n",
        "       key   :  [None, 1, 5, 11, 15, 19, 26, 48, 59, 77, 61]\n",
        "       link :  [0, 4, 6, 6, 8, 10, 8, 9, 9, 0, 3]\n",
        "       first :  5\n",
        "\n",
        "PASS 9\n",
        "       key   :  [None, 1, 5, 11, 15, 19, 26, 48, 59, 61, 77]\n",
        "       link :  [0, 4, 6, 6, 8, 10, 8, 9, 9, 10, 0]\n",
        "       first :  3\n",
        "\n",
        "After rearranging the link is : [0, 4, 6, 6, 8, 10, 8, 9, 9, 10, 0]\n",
        "After rearranging the array is : [None, 1, 5, 11, 15, 19, 26, 48, 59, 61, 77]\n"
       ]
      }
     ],
     "prompt_number": 16
    },
    {
     "cell_type": "heading",
     "level": 2,
     "metadata": {},
     "source": [
      "PROGRAM 7.18, PAGE 429"
     ]
    },
    {
     "cell_type": "code",
     "collapsed": false,
     "input": [
      "# Table Sort\n",
      "def Table(a, n, t, debug = False):\n",
      "    \"\"\"\n",
      "    Rearrange a[1:n] ( both inclusive ) corresponding to the sequence a[t[1]], ...., a[t[n]]]; n >= 1\n",
      "    \"\"\"\n",
      "    cycle = 0\n",
      "    t_copy = t[:]\n",
      "    key_copy = key[:]\n",
      "    \n",
      "    for i in range(1, n):\n",
      "        if t[i] != 1:\n",
      "            # There is a non-trivial cycle starting at i\n",
      "            p = a[i]\n",
      "            j = i\n",
      "            \n",
      "            while True:\n",
      "                k = t[j]\n",
      "                a.__setitem__(j, a[k])\n",
      "                t.__setitem__(j, j)\n",
      "                j = k\n",
      "                if t[j] == i:\n",
      "                    break\n",
      "            \n",
      "            a.__setitem__(j, p) # j is the position for record p\n",
      "            t.__setitem__(j, j)\n",
      "            \n",
      "            if ( t_copy != t ) or ( key_copy != key ):\n",
      "                t_copy = t[:]\n",
      "                key_copy = key[:]\n",
      "                cycle += 1\n",
      "                \n",
      "                if debug:\n",
      "                    print \"\\nAfter cycle\", cycle, \":\"\n",
      "                    print \"Key :\", key\n",
      "                    print \"t   :\", t, \"\\n\""
     ],
     "language": "python",
     "metadata": {},
     "outputs": [],
     "prompt_number": 42
    },
    {
     "cell_type": "heading",
     "level": 2,
     "metadata": {},
     "source": [
      "EXAMPLE 7.11, PAGE 430"
     ]
    },
    {
     "cell_type": "code",
     "collapsed": false,
     "input": [
      "# Table Sort Example\n",
      "key = [None, 35, 14, 12, 42, 26, 50, 31, 18]\n",
      "t = [0, 3, 2, 8, 5, 7, 1, 4, 6]\n",
      "n = len(key) - 1\n",
      "\n",
      "\n",
      "print \"\\nInitial configuration : \"\n",
      "print \"key: \", key\n",
      "print \"t  : \", t, \"\\n\"\n",
      "\n",
      "Table(key, n, t, debug=True)\n",
      "\n",
      "print \"\\nFinal configuration : \"\n",
      "print \"Key : \", key\n",
      "print \"t   : \", t, \"\\n\""
     ],
     "language": "python",
     "metadata": {},
     "outputs": [
      {
       "output_type": "stream",
       "stream": "stdout",
       "text": [
        "\n",
        "Initial configuration : \n",
        "key:  [None, 35, 14, 12, 42, 26, 50, 31, 18]\n",
        "t  :  [0, 3, 2, 8, 5, 7, 1, 4, 6] \n",
        "\n",
        "\n",
        "After cycle 1 :\n",
        "Key : [None, 12, 14, 18, 42, 26, 35, 31, 50]\n",
        "t   : [0, 1, 2, 3, 5, 7, 6, 4, 8] \n",
        "\n",
        "\n",
        "After cycle 2 :\n",
        "Key : [None, 12, 14, 18, 26, 31, 35, 42, 50]\n",
        "t   : [0, 1, 2, 3, 4, 5, 6, 7, 8] \n",
        "\n",
        "\n",
        "Final configuration : \n",
        "Key :  [None, 12, 14, 18, 26, 31, 35, 42, 50]\n",
        "t   :  [0, 1, 2, 3, 4, 5, 6, 7, 8] \n",
        "\n"
       ]
      }
     ],
     "prompt_number": 43
    },
    {
     "cell_type": "heading",
     "level": 2,
     "metadata": {},
     "source": [
      "PROGRAM 7.20, PAGE 436"
     ]
    },
    {
     "cell_type": "code",
     "collapsed": false,
     "input": [
      "from random import randint\n",
      "\n",
      "def Permute(a, n):\n",
      "    \"\"\"Random permutations generator\"\"\"\n",
      "    for i in range(n-1, -1, -1):\n",
      "        j = randint(0, i)\n",
      "        \n",
      "        # Swapping a[j] and a[i]\n",
      "        temp = a[i]\n",
      "        a.__setitem__(i, a[j])\n",
      "        a.__setitem__(j, temp)"
     ],
     "language": "python",
     "metadata": {},
     "outputs": [],
     "prompt_number": 22
    },
    {
     "cell_type": "code",
     "collapsed": false,
     "input": [
      "# Sample example of random permutation generator\n",
      "\n",
      "a = [1,2,3,4,5]\n",
      "Permute(a, len(a))\n",
      "print a"
     ],
     "language": "python",
     "metadata": {},
     "outputs": [
      {
       "output_type": "stream",
       "stream": "stdout",
       "text": [
        "[5, 4, 1, 2, 3]\n"
       ]
      }
     ],
     "prompt_number": 27
    },
    {
     "cell_type": "heading",
     "level": 2,
     "metadata": {},
     "source": [
      "PROGRAM 7.22, PAGE 452"
     ]
    },
    {
     "cell_type": "code",
     "collapsed": false,
     "input": [
      "# Run generation using Loser Tree\n",
      "\n",
      "# This method of Run generation using Loser Tree was devised by Walters, Painter and Zalk.\n",
      "\n",
      "\n",
      "\n"
     ],
     "language": "python",
     "metadata": {},
     "outputs": []
    }
   ],
   "metadata": {}
  }
 ]
}