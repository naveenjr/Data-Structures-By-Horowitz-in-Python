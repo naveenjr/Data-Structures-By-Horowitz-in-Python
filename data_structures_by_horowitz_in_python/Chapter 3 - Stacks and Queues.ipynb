{
 "metadata": {
  "name": "",
  "signature": "sha256:44b54fb1fd14d6735dba1b11d6e67b5bb26265f7c730c29e178c4939bd141d0d"
 },
 "nbformat": 3,
 "nbformat_minor": 0,
 "worksheets": [
  {
   "cells": [
    {
     "cell_type": "heading",
     "level": 1,
     "metadata": {},
     "source": [
      "CHAPTER 3 - STACKS AND QUEUES"
     ]
    },
    {
     "cell_type": "code",
     "collapsed": false,
     "input": [
      "# Imports:\n",
      "import numpy as np # Array manipulations\n",
      "import Queue as qu # Queue implementation\n",
      "import matplotlib.pyplot as plt # To plot the maze"
     ],
     "language": "python",
     "metadata": {},
     "outputs": [],
     "prompt_number": 1
    },
    {
     "cell_type": "heading",
     "level": 2,
     "metadata": {},
     "source": [
      "PROGRAM 3.1, PAGE 129"
     ]
    },
    {
     "cell_type": "code",
     "collapsed": false,
     "input": [
      "# Selection sort\n",
      "\n",
      "def selection_sort(a,n):\n",
      "    # Sort a[0] to a[n-1]\n",
      "    for i in range(n):\n",
      "        j = i\n",
      "        # Find smallest integer in a[i] to a[n-1]\n",
      "        for k in range(i+1,n):\n",
      "            if a[k] < a[j]:\n",
      "                j = k\n",
      "        \n",
      "        a[i], a[j] = a[j], a[i]"
     ],
     "language": "python",
     "metadata": {},
     "outputs": [],
     "prompt_number": 2
    },
    {
     "cell_type": "heading",
     "level": 2,
     "metadata": {},
     "source": [
      "PROGRAM 3.2, PAGE 129"
     ]
    },
    {
     "cell_type": "code",
     "collapsed": false,
     "input": [
      "# Code Fragment to illustrate template instantiation\n",
      "farray = [ float(j)/2 for j in range(10,0,-1) ]\n",
      "intarray = [ j for j in range(25,0,-1) ]\n",
      "print \"Before sorting : \"\n",
      "print farray\n",
      "print intarray\n",
      "\n",
      "selection_sort(farray,len(farray))\n",
      "selection_sort(intarray,len(intarray))\n",
      "\n",
      "print \"After sorting : \"\n",
      "print farray\n",
      "print intarray"
     ],
     "language": "python",
     "metadata": {},
     "outputs": [
      {
       "output_type": "stream",
       "stream": "stdout",
       "text": [
        "Before sorting : \n",
        "[5.0, 4.5, 4.0, 3.5, 3.0, 2.5, 2.0, 1.5, 1.0, 0.5]\n",
        "[25, 24, 23, 22, 21, 20, 19, 18, 17, 16, 15, 14, 13, 12, 11, 10, 9, 8, 7, 6, 5, 4, 3, 2, 1]\n",
        "After sorting : \n",
        "[0.5, 1.0, 1.5, 2.0, 2.5, 3.0, 3.5, 4.0, 4.5, 5.0]\n",
        "[1, 2, 3, 4, 5, 6, 7, 8, 9, 10, 11, 12, 13, 14, 15, 16, 17, 18, 19, 20, 21, 22, 23, 24, 25]\n"
       ]
      }
     ],
     "prompt_number": 3
    },
    {
     "cell_type": "heading",
     "level": 2,
     "metadata": {},
     "source": [
      "PROGRAM 3.4, PAGE 131 &nbsp; & &nbsp; PROGRAM 3.5, PAGE 132"
     ]
    },
    {
     "cell_type": "code",
     "collapsed": false,
     "input": [
      "# Definition of the class Bag containing integers\n",
      "\n",
      "# The concept of capacity is not necessary in python since\n",
      "# list size and memory management is done automatically by python\n",
      "\n",
      "class Bag(object):\n",
      "    def __init__(self):\n",
      "        \n",
      "        self._array = []\n",
      "        self._top = -1\n",
      "        \n",
      "    def size(self):\n",
      "        '''returns the number of elements in the  bag'''\n",
      "        return self._top + 1\n",
      "    \n",
      "    def is_empty(self):\n",
      "        '''return true if the bag is empty; false otherwise'''\n",
      "        return size == 0\n",
      "    \n",
      "    def element(self):\n",
      "        '''Return an element that is in the bag'''\n",
      "        if self.is_empty():\n",
      "            raise Exception('Bag is empty')\n",
      "        else:\n",
      "            return self._array[0]\n",
      "        \n",
      "    def push(self,elt):\n",
      "        '''Add an integer to the end of the bag'''\n",
      "        self._array.append(elt)\n",
      "        self._top += 1\n",
      "        \n",
      "    def pop(self):\n",
      "        '''Delete an integer from the bag'''\n",
      "        self._top -= 1 \n",
      "        return self._array.pop()"
     ],
     "language": "python",
     "metadata": {},
     "outputs": [],
     "prompt_number": 4
    },
    {
     "cell_type": "code",
     "collapsed": false,
     "input": [
      "bg = Bag()\n",
      "bg.push(5)\n",
      "bg.push(6)\n",
      "bg.push(7)\n",
      "bg.push(8)\n",
      "print \"Popped Item : \", bg.pop()\n",
      "print \"The contents of the bag : \", bg._array"
     ],
     "language": "python",
     "metadata": {},
     "outputs": [
      {
       "output_type": "stream",
       "stream": "stdout",
       "text": [
        "Popped Item :  8\n",
        "The contents of the bag :  [5, 6, 7]\n"
       ]
      }
     ],
     "prompt_number": 5
    },
    {
     "cell_type": "markdown",
     "metadata": {},
     "source": [
      "<hr>\n",
      "PROGRAM 3.6, PAGE 133 &nbsp; & &nbsp; PROGRAM 3.7, PAGE 134\n",
      "\n",
      "Python uses [duck typing](http://en.wikipedia.org/wiki/Duck_typing), so it doesn't need special syntax to handle multiple types.\n",
      "Hence template class for Bag is not required. The above defined class Bag will suffice.\n",
      "<hr>"
     ]
    },
    {
     "cell_type": "heading",
     "level": 2,
     "metadata": {},
     "source": [
      "ADT 3.1, PAGE 137  &nbsp; & &nbsp; PROGRAM 3.8, PAGE 138 &nbsp; & &nbsp; PROGRAM 3.9, PAGE 138"
     ]
    },
    {
     "cell_type": "code",
     "collapsed": false,
     "input": [
      "# Abstract data type Stack\n",
      "\n",
      "# NOTE: This is done just to understand the working of various methods\n",
      "# Python list is very much versatile and can be readily used as a sophisticated stack\n",
      "# for all practical purposes\n",
      "\n",
      "class Stack:\n",
      "    def __init__(self):\n",
      "        self._stack = []\n",
      "        self._top = -1\n",
      "        \n",
      "    def is_empty(self):\n",
      "        '''If number of elements in the stack is 0, return True\n",
      "           else return False'''\n",
      "        return self._top == -1\n",
      "    \n",
      "    def top(self):\n",
      "        return self._top\n",
      "    \n",
      "    def push(self, item):\n",
      "        '''Insert item into the top of the stack'''\n",
      "        \n",
      "        self._stack.append(item)\n",
      "        self._top += 1\n",
      "        \n",
      "    def pop(self):\n",
      "        '''Delete the top element of the stack'''\n",
      "        \n",
      "        if self.is_empty():\n",
      "            raise Exception('Stack is empty. Cannot delete.')\n",
      "        \n",
      "        self._stack.pop()\n",
      "        self._top -= 1"
     ],
     "language": "python",
     "metadata": {},
     "outputs": [],
     "prompt_number": 6
    },
    {
     "cell_type": "heading",
     "level": 2,
     "metadata": {},
     "source": [
      "ADT 3.2, PAGE 140  &nbsp; &nbsp; - &nbsp; &nbsp; Program 3.2, PAGE 144 &nbsp; &nbsp; - &nbsp; &nbsp; Program 3.11 &amp; 3.12 PAGE 146 &amp; 147"
     ]
    },
    {
     "cell_type": "code",
     "collapsed": false,
     "input": [
      "# Abstract data type Queue\n",
      "\n",
      "# NOTE: Inbuilt library Queue can be used for all practical purposes.\n",
      "# Again the concept of capacity is unnecessary in python, since the \n",
      "# queue containers lists are automatically managed\n",
      "\n",
      "class Queue:\n",
      "    '''Abstract Data type Queue'''\n",
      "    def __init__(self):\n",
      "        self._queue = []\n",
      "        \n",
      "    def is_empty(self):\n",
      "        return len(self._queue) == 0\n",
      "    \n",
      "    def front(self):\n",
      "        '''Return the element at the rear of the queue'''\n",
      "        try:\n",
      "            return self._queue[0]\n",
      "        except:\n",
      "            return None\n",
      "        \n",
      "    def rear(self):\n",
      "        '''Return the element at the rear of the queue'''\n",
      "        try:\n",
      "            return self._queue[-1]\n",
      "        except:\n",
      "            return None\n",
      "        \n",
      "    def push(self, item):\n",
      "        '''Add item to the rear of queue'''\n",
      "        self._queue.append(item)\n",
      "        \n",
      "    def pop(self):\n",
      "        '''Delete the front element of the queue'''\n",
      "        if self.is_empty():\n",
      "            raise Exception('Queue is empty. Cannot delete')\n",
      "        else:\n",
      "            self._queue.pop()"
     ],
     "language": "python",
     "metadata": {},
     "outputs": [],
     "prompt_number": 7
    },
    {
     "cell_type": "code",
     "collapsed": false,
     "input": [
      "# Sample I/O\n",
      "\n",
      "a = Queue()\n",
      "a.push(5)\n",
      "a.push(6)\n",
      "a.push(9)\n",
      "a.push(8)\n",
      "a.pop()\n",
      "print \"The contents of the queue : \", a._queue\n",
      "print \"The front of the queue : \", a.front()\n",
      "print \"The rear of the queue : \", a.rear()"
     ],
     "language": "python",
     "metadata": {},
     "outputs": [
      {
       "output_type": "stream",
       "stream": "stdout",
       "text": [
        "The contents of the queue :  [5, 6, 9]\n",
        "The front of the queue :  5\n",
        "The rear of the queue :  9\n"
       ]
      }
     ],
     "prompt_number": 8
    },
    {
     "cell_type": "heading",
     "level": 2,
     "metadata": {},
     "source": [
      "PROGRAM 3.13, PAGE 149 - PROGRAM 3.14, PAGE 150"
     ]
    },
    {
     "cell_type": "code",
     "collapsed": false,
     "input": [
      "# Implementataion of stack operations.\n",
      "# Here the concept of capacity is not neglected\n",
      "# This allows fixed stack sizes which have many practical applications\n",
      "# Again, lists can be used as stacks for all practical purposes\n",
      "\n",
      "# Stack class inherits from class Bag\n",
      "\n",
      "class Stack(Bag):\n",
      "\n",
      "    def __init__(self, stack_capacity = 10):\n",
      "        '''Create an empty stack whose initial capacity is stackCapacity'''\n",
      "        self._stack_capacity = stack_capacity\n",
      "        self._stack = []\n",
      "        self._top = -1\n",
      "    \n",
      "    def is_empty(self):\n",
      "        '''If number of elements in the stack is 0, return True\n",
      "           else return False'''\n",
      "        return len(self._stack)==0\n",
      "\n",
      "    def top(self):\n",
      "        if self._top != -1:\n",
      "            return self._stack[self._top]\n",
      "        else:\n",
      "            return None\n",
      "\n",
      "    def push(self, item):\n",
      "        '''Insert item into the top of the stack'''\n",
      "        # Adding to a stack, Page 138\n",
      "        if self._stack_capacity == self._top + 1:\n",
      "            self._stack_capacity *= 2\n",
      "        self._stack.append(item)\n",
      "        self._top += 1\n",
      "\n",
      "    def pop(self):\n",
      "        '''Delete the top element of the stack'''\n",
      "        # Deleting from a stack, Page 138\n",
      "        self._top -= 1\n",
      "        if self.is_empty():\n",
      "            raise Exception('Stack is empty. Cannot delete.')\n",
      "        return self._stack.pop()\n",
      "     \n",
      "    def __str__(self):\n",
      "        '''Print contents of stack'''\n",
      "        \n",
      "        # Based on PROGRAM 3.17, PAGE 159\n",
      "        \n",
      "        strval = ''\n",
      "        for elt in self._stack:\n",
      "            strval += str(elt)+' , '\n",
      "        return strval.strip(' , ')\n",
      "    \n",
      "        # This is similar to overloading operator << in C++ for printing the contents of the stack\n",
      "        # In python __str__ provides a method for returning the data elements as a string.\n",
      "\n",
      "    # To iterate through the stack elements\n",
      "    def __iter__(self):\n",
      "        return iter(self._stack)"
     ],
     "language": "python",
     "metadata": {},
     "outputs": [],
     "prompt_number": 9
    },
    {
     "cell_type": "heading",
     "level": 2,
     "metadata": {},
     "source": [
      "PROGRAM 3.15 [ Algorithm ], PAGE 156 &nbsp; & &nbsp; PROGRAM 3.16, PAGE 158"
     ]
    },
    {
     "cell_type": "code",
     "collapsed": false,
     "input": [
      "# A Simple application of Stack\n",
      "# Finding a Path through a Maze. Storing the path in a stack. \n",
      "# Path is found through brute force search with backtracking\n",
      "\n",
      "def Path(maze, mark, path_stack, m, p, startij = (0,0) ):\n",
      "    '''Output a path, if any, in the maze'''\n",
      "    \n",
      "    # direction array [Increment required to move from current cell ]\n",
      "    d_array = [(0,1), (0,-1), (-1,0), (1,0), (-1,1), (1,1), (-1,-1), (1,-1)]\n",
      "    #           E,      W,      N,     S,     NE,     SE,    NW,      SW   \n",
      "\n",
      "    si, sj = startij\n",
      "    \n",
      "    for di in d_array:      \n",
      "        try:\n",
      "            # Navigate to new cell\n",
      "            i = si + di[0]\n",
      "            j = sj + di[1]\n",
      "            \n",
      "            if (i<0) or (j<0):\n",
      "                raise IndexError\n",
      "                \n",
      "            if (i,j) == (m,p):\n",
      "                path_stack.push((i,j))\n",
      "                return path_stack                \n",
      "            \n",
      "            if (maze[i][j] == 0) and (mark[i][j] == 0):\n",
      "                mark[i][j] = 1\n",
      "                path_stack.push((i,j))\n",
      "                return Path(maze, mark, path_stack, m, p, (i,j) )\n",
      "            \n",
      "            if (maze[i][j] == 1) and (mark[i][j] == 0):\n",
      "                mark[i][j] = 1\n",
      "                # revert to prev valid cell if new cell address is not a part of the path\n",
      "                \n",
      "        except IndexError:\n",
      "            continue\n",
      "    try:\n",
      "        return Path(maze, mark, path_stack, m, p, path_stack.pop())\n",
      "    \n",
      "    except Exception, e:\n",
      "        print 'No Path in Maze'\n",
      "        return None"
     ],
     "language": "python",
     "metadata": {},
     "outputs": [],
     "prompt_number": 10
    },
    {
     "cell_type": "code",
     "collapsed": false,
     "input": [
      "maze = np.array([   [ 0, 0, 0, 0, 0, 0, 0, 0, 1 ],\n",
      "                    [ 1, 0, 1, 1, 1, 1 ,1, 1, 0 ],\n",
      "                    [ 1, 0, 0, 0, 1, 1 ,0, 1, 0 ],\n",
      "                    [ 1, 0, 1, 0, 1, 1 ,0, 0, 0 ],\n",
      "                    [ 0, 0, 1, 0, 0, 0 ,1, 0, 1 ],\n",
      "                    [ 0, 1, 1, 1, 1, 1 ,1, 0, 1 ],\n",
      "                    [ 0, 0, 0, 0, 0, 1 ,1, 1, 1 ],\n",
      "                    [ 1, 1, 1, 1, 1, 0 ,1, 1, 0 ],\n",
      "                    [ 1, 1, 1, 1, 1, 1 ,0, 0, 0 ]    ])\n",
      "\n",
      "mark = np.zeros(maze.shape,int)\n",
      "\n",
      "path_stack = Stack(maze.size)\n",
      "\n",
      "path_stack.push((0,0))\n",
      "\n",
      "print Path(maze, mark, path_stack, 8, 8)"
     ],
     "language": "python",
     "metadata": {},
     "outputs": [
      {
       "output_type": "stream",
       "stream": "stdout",
       "text": [
        "(0, 0) , (0, 1) , (1, 1) , (2, 1) , (3, 1) , (4, 1) , (4, 0) , (5, 0) , (6, 0) , (6, 1) , (6, 2) , (6, 3) , (6, 4) , (7, 5) , (8, 6) , (8, 7) , (8, 8)\n"
       ]
      }
     ],
     "prompt_number": 11
    },
    {
     "cell_type": "code",
     "collapsed": false,
     "input": [
      "%matplotlib inline\n",
      "plt.figure().set_size_inches(10, 10); plt.axis('off'); plt.axis('equal')\n",
      "\n",
      "plt.scatter(*np.where(maze == 1), s = 3000, marker = \"s\", c = \"black\", edgecolors = \"w\")\n",
      "plt.plot(*(zip(*path_stack)), marker = \"o\", linestyle = \"--\", c = \"r\")\n",
      "\n",
      "plt.show()"
     ],
     "language": "python",
     "metadata": {},
     "outputs": [
      {
       "metadata": {},
       "output_type": "display_data",
       "png": "[encoded data removed]",
       "text": [
        "<matplotlib.figure.Figure at 0x7f961c82a950>"
       ]
      }
     ],
     "prompt_number": 12
    },
    {
     "cell_type": "heading",
     "level": 2,
     "metadata": {},
     "source": [
      "PROGRAM 3.18, PAGE 162"
     ]
    },
    {
     "cell_type": "code",
     "collapsed": false,
     "input": [
      "# Evaluating Postfix Expressions\n",
      "def postfixvalue(a,b,expr):\n",
      "    if expr == '+':\n",
      "        return a + b \n",
      "    elif expr == '-':\n",
      "        return a - b\n",
      "    elif expr == '/':\n",
      "        return a / b\n",
      "    elif expr == '*':\n",
      "        return a * b\n",
      "\n",
      "def Eval(stack_e):\n",
      "    '''Evaluate a Postfix expression e. It is assumed that the last token is either an operator, operand or #'''\n",
      "    stack_operations = Stack()    \n",
      "    while not stack_e.is_empty():\n",
      "        a = stack_e.pop()\n",
      "        if str(a).isdigit() != True:\n",
      "            stack_operations.push(a)\n",
      "        else:\n",
      "            b = stack_e.pop()            \n",
      "            val = postfixvalue(a,b,stack_operations.pop())\n",
      "            if stack_e.is_empty():\n",
      "                return val\n",
      "            else:\n",
      "                stack_e.push(val)\n",
      "            \n",
      "            \n",
      "    if stack_e.is_empty() == False:\n",
      "        stack_e.pop() \n",
      "    else:\n",
      "        None              "
     ],
     "language": "python",
     "metadata": {},
     "outputs": [],
     "prompt_number": 13
    },
    {
     "cell_type": "code",
     "collapsed": false,
     "input": [
      "#Sample I/O - Not in textbook\n",
      "exp = Stack()\n",
      "exp.push(3)\n",
      "exp.push(4)\n",
      "exp.push(5)\n",
      "exp.push('+')\n",
      "exp.push('-')\n",
      "print Eval(exp)"
     ],
     "language": "python",
     "metadata": {},
     "outputs": [
      {
       "output_type": "stream",
       "stream": "stdout",
       "text": [
        "6\n"
       ]
      }
     ],
     "prompt_number": 14
    },
    {
     "cell_type": "heading",
     "level": 2,
     "metadata": {},
     "source": [
      "PROGRAM 3.19, PAGE 165"
     ]
    },
    {
     "cell_type": "code",
     "collapsed": false,
     "input": [
      "# Converting from Infix to postfix form\n",
      "\n",
      "def isp(op):\n",
      "    '''Returns the In-Stack Priority of the operator'''\n",
      "    # Refer Page 160\n",
      "    # Note - Unary operators are not considered they cannot be parsed by our function.\n",
      "    if op in ['!']:\n",
      "        return 1\n",
      "    elif op in ['*','/','%']:\n",
      "        return 2\n",
      "    elif op in ['+','-']:\n",
      "        return 3\n",
      "    elif op in ['<','<=','>=','>']:\n",
      "        return 4\n",
      "    elif op in ['==','!=']:\n",
      "        return 5\n",
      "    elif op in ['&&']:\n",
      "        return 6\n",
      "    elif op in ['||']:\n",
      "        return 7\n",
      "    elif (op == '#') or (op == '('):\n",
      "        return 8\n",
      "\n",
      "def icp(op):\n",
      "    '''Incoming priority of the operator'''\n",
      "    if (op == '('):\n",
      "        return 0\n",
      "    else:\n",
      "        return isp(op)\n",
      "    \n",
      "def Postfix(e):\n",
      "    '''Output the postfix form of the infix expression '''\n",
      "    stack = Stack()\n",
      "    stack.push('#')\n",
      "    for x in e._stack:\n",
      "        if x in ['+','-','/','*']:\n",
      "            # If x is an operator\n",
      "            while isp(stack.top()) <= icp(x):\n",
      "                print stack.pop(),\n",
      "            stack.push(x)\n",
      "        elif x == ')':\n",
      "            # unstack untill '('\n",
      "            while stack.top() != '(':\n",
      "                print stack.pop(),            \n",
      "                # Unstack and print it\n",
      "        else:\n",
      "            # If x is an operand\n",
      "            print x,\n",
      "    # End of expression, empty the stack\n",
      "    while not stack.is_empty():\n",
      "        print stack.pop(),"
     ],
     "language": "python",
     "metadata": {},
     "outputs": [],
     "prompt_number": 15
    },
    {
     "cell_type": "code",
     "collapsed": false,
     "input": [
      "e = Stack()\n",
      "map(e.push, \"A/B*C+D*E\") # Push the infix expression characters one by one ( left to right ) into the e stack\n",
      "Postfix(e)"
     ],
     "language": "python",
     "metadata": {},
     "outputs": [
      {
       "output_type": "stream",
       "stream": "stdout",
       "text": [
        "A B / C * D E * + #\n"
       ]
      }
     ],
     "prompt_number": 16
    }
   ],
   "metadata": {}
  }
 ]
}