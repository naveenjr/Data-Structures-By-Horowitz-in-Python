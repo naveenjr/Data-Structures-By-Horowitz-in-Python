{
 "metadata": {
  "name": "",
  "signature": "sha256:0cdf200479cb45c126f9773bd9d617dc0324ef8c22b43c0364a14404bd5eb8cb"
 },
 "nbformat": 3,
 "nbformat_minor": 0,
 "worksheets": [
  {
   "cells": [
    {
     "cell_type": "code",
     "collapsed": false,
     "input": [
      "# Imports\n",
      "import numpy\n",
      "# For random string generation\n",
      "from string import ascii_letters\n",
      "from random import choice\n",
      "from time import time # For analysis of the running time\n",
      "import matplotlib.pyplot as plt # to plot the run time analysis"
     ],
     "language": "python",
     "metadata": {},
     "outputs": [],
     "prompt_number": 1
    },
    {
     "cell_type": "heading",
     "level": 1,
     "metadata": {},
     "source": [
      "CHAPTER 2 - ARRAYS"
     ]
    },
    {
     "cell_type": "heading",
     "level": 2,
     "metadata": {},
     "source": [
      "PROGRAM 2.1, PAGE 75"
     ]
    },
    {
     "cell_type": "code",
     "collapsed": false,
     "input": [
      "# Definition of Class Rectangle\n",
      "\n",
      "class Rectangle:\n",
      "    def __init__(self,x=None,y=None,h=None,w=None):\n",
      "        '''Constructor of Rectangle'''\n",
      "        pass\n",
      "    def __del__(self):\n",
      "        '''Destructor of Rectangle'''\n",
      "        pass\n",
      "    def get_height(self):\n",
      "        '''returns Height of rectangle'''\n",
      "        pass\n",
      "    def get_width(self):\n",
      "        '''Returns Width of rectangle'''\n",
      "        pass\n",
      "    _x_low = None\n",
      "    _y_low = None\n",
      "    _height = None\n",
      "    _width = None\n",
      "    # In python attributes starting with an underscore are conventionaly understood to be private attributes."
     ],
     "language": "python",
     "metadata": {},
     "outputs": [],
     "prompt_number": 2
    },
    {
     "cell_type": "heading",
     "level": 2,
     "metadata": {},
     "source": [
      "PROGRAM 2.2, PAGE 76"
     ]
    },
    {
     "cell_type": "code",
     "collapsed": false,
     "input": [
      "# Implementations of Operations on Rectangle\n",
      "def get_height(self):\n",
      "    return self._height\n",
      "def get_width(self):\n",
      "    return self._width\n",
      "\n",
      "Rectangle.get_height = get_height\n",
      "Rectangle.get_width = get_width\n",
      "\n",
      "# This is the closest C++ equivalent to defining class methods outside the class. [ using class::member() {} ]\n",
      "\n",
      "# Though THIS IS NOT AN ACCEPTED PRACTICE IN PYTHON. This would be an workaround to define \n",
      "# the member functions outside of the class definition as and when the functionality of the method in defined\n",
      "# in the text"
     ],
     "language": "python",
     "metadata": {},
     "outputs": [],
     "prompt_number": 3
    },
    {
     "cell_type": "heading",
     "level": 2,
     "metadata": {},
     "source": [
      "PROGRAM 2.4, PAGE 78"
     ]
    },
    {
     "cell_type": "code",
     "collapsed": false,
     "input": [
      "# Definition Of Constructor For Rectangle\n",
      "\n",
      "def constructor_for_Rectangle_class(self,x=None,y=None,h=None,w=None):\n",
      "    '''Constructor for class Rectangle'''\n",
      "    self._x_low = x\n",
      "    self._y_low = x\n",
      "    self._height = h\n",
      "    self._width = w\n",
      "\n",
      "# __init__ method is invoked in python when a member of the class is instantiated\n",
      "Rectangle.__init__ = constructor_for_Rectangle_class"
     ],
     "language": "python",
     "metadata": {},
     "outputs": [],
     "prompt_number": 4
    },
    {
     "cell_type": "heading",
     "level": 2,
     "metadata": {},
     "source": [
      "PROGRAM 2.3, PAGE 77"
     ]
    },
    {
     "cell_type": "code",
     "collapsed": false,
     "input": [
      "r = Rectangle(1,2,5,6)\n",
      "s = Rectangle(1,2,8,9)\n",
      "\n",
      "t = s\n",
      "\n",
      "if ( r.get_height() * r.get_width() ) > ( t.get_height() * t.get_width() ):\n",
      "    print 'r',\n",
      "else:\n",
      "    print 's',\n",
      "\n",
      "print 'has the greater area'"
     ],
     "language": "python",
     "metadata": {},
     "outputs": [
      {
       "output_type": "stream",
       "stream": "stdout",
       "text": [
        "s has the greater area\n"
       ]
      }
     ],
     "prompt_number": 5
    },
    {
     "cell_type": "heading",
     "level": 2,
     "metadata": {},
     "source": [
      "PROGRAM 2.6, PAGE 80"
     ]
    },
    {
     "cell_type": "code",
     "collapsed": false,
     "input": [
      "s._x_low"
     ],
     "language": "python",
     "metadata": {},
     "outputs": [
      {
       "metadata": {},
       "output_type": "pyout",
       "prompt_number": 6,
       "text": [
        "1"
       ]
      }
     ],
     "prompt_number": 6
    },
    {
     "cell_type": "code",
     "collapsed": false,
     "input": [
      "# Overloading the equality check operator\n",
      "\n",
      "# Operator == is specified as a function __eq__(op1,op2)\n",
      "\n",
      "def __eq__(self,rhs):\n",
      "    if (self._x_low == rhs._x_low) and (self._y_low == rhs._y_low) and ( self._height == rhs._height ) and ( self._width == rhs._width ) :\n",
      "        return True\n",
      "    else:\n",
      "        return False\n",
      "    \n",
      "# Overriding the default behaviour of == by defining a __eq__ memeber function\n",
      "Rectangle.__eq__ = __eq__\n",
      "\n",
      "# SAMPLE O/P\n",
      "print r == s"
     ],
     "language": "python",
     "metadata": {},
     "outputs": [
      {
       "output_type": "stream",
       "stream": "stdout",
       "text": [
        "False\n"
       ]
      }
     ],
     "prompt_number": 7
    },
    {
     "cell_type": "heading",
     "level": 2,
     "metadata": {},
     "source": [
      "PROGRAM 2.7, PAGE 80"
     ]
    },
    {
     "cell_type": "code",
     "collapsed": false,
     "input": [
      "# Overloading the right shift operator <<\n",
      "import operator, sys, io, IPython\n",
      "\n",
      "\n",
      "class MyStdout(IPython.kernel.zmq.iostream.OutStream):\n",
      "    \"\"\"\n",
      "    MyStdout class inherits from the OutStream of IPython kernel.\n",
      "    This is done to simulate the C++ OutStream \"cout\"\n",
      "    \"\"\"    \n",
      "    def __init__(self):\n",
      "        self.__dict__ = sys.stdout.__dict__.copy()\n",
      "        # All elements of sys.stdout are copied to the MyStdout [inherited class]\n",
      "\n",
      "    def __lshift__(self,rect_instance):\n",
      "        # lshift ( << ) operator is overloaded to allow printing of Rectangle\n",
      "        \n",
      "        if isinstance(rect_instance, Rectangle):    \n",
      "            self.write('Position is:'+str(rect_instance._x_low)+' '+str(rect_instance._y_low))\n",
      "            self.write('\\nHeight is: '+str(rect_instance._height))\n",
      "            self.write('\\nWidth is: '+str(rect_instance._width))\n",
      "        else:\n",
      "            self.write(rect_instance)\n",
      "            \n",
      "# A new MyStdout Class inheriting the elements of stdout <file class> [OutStream Object Class] is created with the \n",
      "# overloaded operator function __lshift__. \n",
      "\n",
      "sys.stdout = MyStdout()\n",
      "\n",
      "#an instance of MyStdout is then assigned to sys.stdout\n",
      "\n",
      "#Operator << is specified as a function __lshift__() [Equivalent to c++ style 'operator<<'"
     ],
     "language": "python",
     "metadata": {},
     "outputs": [],
     "prompt_number": 8
    },
    {
     "cell_type": "code",
     "collapsed": false,
     "input": [
      "# C++ Style I/O using << operator overloading in python !\n",
      "\n",
      "cout = sys.stdout\n",
      "endl = '\\n'\n",
      "\n",
      "cout<<r\n",
      "\n",
      "#r is an instance of the Rectangle Class Defined earlier\n",
      "\n",
      "cout<<endl\n",
      "cout<<'Sample Text to emphasize the fact that base functionality of sys.stdout remains unchanged'"
     ],
     "language": "python",
     "metadata": {},
     "outputs": [
      {
       "output_type": "stream",
       "stream": "stdout",
       "text": [
        "Position is:1 1\n",
        "Height is: 5\n",
        "Width is: 6\n",
        "Sample Text to emphasize the fact that base functionality of sys.stdout remains unchanged"
       ]
      }
     ],
     "prompt_number": 9
    },
    {
     "cell_type": "heading",
     "level": 2,
     "metadata": {},
     "source": [
      "ADT 2.1, PAGE NO 82"
     ]
    },
    {
     "cell_type": "code",
     "collapsed": false,
     "input": [
      "# Abstract Data Type NaturalNumber : \n",
      "class NaturalNumber():\n",
      "    def __init__(self,value = 0):\n",
      "        self.value = 0\n",
      "        \n",
      "    def is_zero(self):\n",
      "        if self.value == 0 : \n",
      "            return True\n",
      "        return False\n",
      "    \n",
      "    def __add__(self,y):\n",
      "        # overloading + operator\n",
      "        if isinstance(y, NaturalNumber):\n",
      "            return self.value + y.value\n",
      "        elif type(y) in [int, float, long]:\n",
      "            return self.value + int(y)\n",
      "        else:\n",
      "            raise(TypeError)\n",
      "            \n",
      "    def __eq__(self,y):\n",
      "        # overloading == operator\n",
      "        if isinstance(y, NaturalNumber):\n",
      "            return self.value == y.value\n",
      "        elif type(y) in [int,float,long]:\n",
      "            return self.value == y\n",
      "        else:\n",
      "            raise(TypeError)\n",
      "            \n",
      "    def successor(self):\n",
      "        return self.value+1\n",
      "    \n",
      "    # Python has no limit on number size [virtually]. The max no can be understood as float(\"inf\")\n",
      "    \n",
      "    def __sub__(self,y):\n",
      "        '''overloading + operator'''\n",
      "        if isinstance(y, NaturalNumber):\n",
      "            res = self.value - y.value\n",
      "        elif type(y) in [int,float,long]:\n",
      "            res = self.value + y\n",
      "        else:\n",
      "            raise(TypeError)\n",
      "        return res if res >= 0 else 0"
     ],
     "language": "python",
     "metadata": {},
     "outputs": [],
     "prompt_number": 10
    },
    {
     "cell_type": "heading",
     "level": 2,
     "metadata": {},
     "source": [
      "ADT 2.2, PAGE 85"
     ]
    },
    {
     "cell_type": "code",
     "collapsed": false,
     "input": [
      "# Abstract Data Type GeneralArray\n",
      "default_value = 0\n",
      "\n",
      "class GeneralArray:\n",
      "    def __init__(self, j, List, init_value = default_value):\n",
      "        pass\n",
      "    def retrieve(self,index):\n",
      "        pass\n",
      "    def store(self,index,x):\n",
      "        x = float(x)\n",
      "        pass   "
     ],
     "language": "python",
     "metadata": {},
     "outputs": [],
     "prompt_number": 11
    },
    {
     "cell_type": "heading",
     "level": 2,
     "metadata": {},
     "source": [
      "ADT 2.3, PAGE 88 &nbsp; & &nbsp; PROGRAM 2.8, PAGE 91 &nbsp; & &nbsp; PROGRAM 2.9, PAGE 92"
     ]
    },
    {
     "cell_type": "code",
     "collapsed": false,
     "input": [
      "# Adding two Polynomials\n",
      "\n",
      "# Declaring and Defining Prerequisites Term and Polynomial\n",
      "\n",
      "# Class Terms to define a single term of a polynomial.\n",
      "\n",
      "# Refer Page 90\n",
      "\n",
      "# NOTE : This is just to illustrate how a Polynomial data type can be constructed in Python\n",
      "# For all practical purposes, use sympy, an efficient symbolic math and Computer Algebra System library in Python\n",
      "\n",
      "class Term:\n",
      "    def __init__(self):\n",
      "        self.coef = 0.0\n",
      "        self.exp = 0\n",
      "\n",
      "        \n",
      "# Abstract data type Polynomial - Representation 3 [ Refer Page 89 ]\n",
      "class Polynomial:\n",
      "    def __init__(self,d=0):\n",
      "        self.degree = d\n",
      "        self.coeff = [0.0]\n",
      "        self.term_array = []\n",
      "        self.terms = 0\n",
      "        pass\n",
      "\n",
      "    # Method new_term to add a new term to the polynomial [ Refer Page 92 ]\n",
      "\n",
      "    def new_term(self,coef,exp):\n",
      "        NewTrm = Term()\n",
      "        NewTrm.coef = coef\n",
      "        NewTrm.exp = exp\n",
      "        pos = 0\n",
      "        # Compute the position of the new term ( sorted by exponents )\n",
      "        while ( pos < self.terms ) and ( self.term_array[pos].exp < NewTrm.exp ):\n",
      "            pos += 1\n",
      "            \n",
      "        # If there is already a term with the given exponent, add the coefficient\n",
      "        if ( pos < self.terms ) and ( self.term_array[pos].exp == NewTrm.exp ):\n",
      "            self.term_array[pos].coef += coef\n",
      "            return\n",
      "                \n",
      "        self.term_array.insert(pos, NewTrm)\n",
      "        self.terms += 1\n",
      "        self.degree = max(self.degree, exp)        \n",
      "        \n",
      "    # Method Add to add two polynomials\n",
      "\n",
      "    def add(self,Polynomial_b):\n",
      "        if isinstance(Polynomial_b, Polynomial):\n",
      "            c = Polynomial()\n",
      "            a_pos = 0\n",
      "            b_pos = 0\n",
      "            while ( a_pos < self.terms ) and ( b_pos < Polynomial_b.terms ) :\n",
      "                # Similar Power terms\n",
      "                if self.term_array[a_pos].exp == Polynomial_b.term_array[b_pos].exp :\n",
      "                    t = float(term_array[a_pos].coef) + float(Polynomial_b.term_array[b_pos].coef)\n",
      "                    if t != 0 :\n",
      "                        c.new_term(t, self.term_array[a_pos].exp)\n",
      "                        a_pos += 1\n",
      "                        b_pos += 1\n",
      "                        \n",
      "                # Dissimilar Power terms\n",
      "                elif self.term_array[a_pos].exp < Polynomial_b.term_array[b_pos].exp:\n",
      "                    c.new_term(Polynomial_b.term_array[b_pos].coef, Polynomial_b.term_array[b_pos].exp)\n",
      "                    b_pos += 1\n",
      "                else:\n",
      "                    c.new_term(self.term_array[a_pos].coef, self.term_array[a_pos].exp)\n",
      "                    c.display()\n",
      "                    a_pos += 1\n",
      "                    \n",
      "            # Leftover terms of a\n",
      "            while a_pos < self.terms:\n",
      "                c.new_term(self.term_array[a_pos].coef, self.term_array[a_pos].exp)\n",
      "                a_pos += 1\n",
      "                \n",
      "            # Leftover terms of b\n",
      "            while b_pos < Polynomial_b.terms:\n",
      "                c.new_term(Polynomial_b.term_array[b_pos].coef, Polynomial_b.term_array[b_pos].exp)\n",
      "                b_pos += 1\n",
      "                \n",
      "            # C contains the resulting polynomial\n",
      "            return c\n",
      "        else:\n",
      "            raise(TypeError)\n",
      "\n",
      "    # Overloading Operator + to do the same funcition as Polynomial_a.add(Polynomial_b)\n",
      "\n",
      "    def __add__(self,Polynomial_b):\n",
      "        return Polynomial.add(self,Polynomial_b)\n",
      "    \n",
      "    def display(self):\n",
      "        \"\"\"Display the polynomial using the latex display in IPython notebook. \n",
      "        Note that this works only inside IPython notebook\"\"\"\n",
      "        \n",
      "        from IPython.display import display, Math, Latex\n",
      "        \n",
      "        latex = \"{\"\n",
      "        \n",
      "        for t in reversed(self.term_array):\n",
      "            if t.coef >= 0 and latex != \"{\" :\n",
      "                latex += \" + \"\n",
      "                \n",
      "            if t.exp == 0:\n",
      "                latex += \" {coef} \".format(coef=t.coef)\n",
      "            elif t.exp == 1:\n",
      "                latex += \" {coef}x \".format(coef=t.coef)\n",
      "            else:\n",
      "                latex += \" {coef}x^{exp} \".format(coef=t.coef, exp=t.exp)\n",
      "            \n",
      "        latex += \"}\"\n",
      "        \n",
      "        display(Math(latex))"
     ],
     "language": "python",
     "metadata": {},
     "outputs": [],
     "prompt_number": 12
    },
    {
     "cell_type": "markdown",
     "metadata": {},
     "source": [
      "### Example Usage\n",
      "$f = {2.5x^2 - 3x + 5}$<br>\n",
      "$g = {3.2x^3 - 4x}$<br><br>\n",
      "$h = f + g$<br><br>\n",
      "$h = {3.2x^3 + 2.5x^2 - 7x + 5}$<br>"
     ]
    },
    {
     "cell_type": "code",
     "collapsed": false,
     "input": [
      "# Example Usage :\n",
      "\n",
      "f = Polynomial()\n",
      "f.new_term(2.5, 2); f.new_term(-3, 1); f.new_term(5,0)\n",
      "f .display()"
     ],
     "language": "python",
     "metadata": {},
     "outputs": [
      {
       "latex": [
        "$${ 2.5x^2  -3x  +  5 }$$"
       ],
       "metadata": {},
       "output_type": "display_data",
       "text": [
        "<IPython.core.display.Math at 0x7f4c4e95c4d0>"
       ]
      }
     ],
     "prompt_number": 13
    },
    {
     "cell_type": "code",
     "collapsed": false,
     "input": [
      "g = Polynomial()\n",
      "g.new_term(3.2, 3); g.new_term(-4, 1);\n",
      "g.display()"
     ],
     "language": "python",
     "metadata": {},
     "outputs": [
      {
       "latex": [
        "$${ 3.2x^3  -4x }$$"
       ],
       "metadata": {},
       "output_type": "display_data",
       "text": [
        "<IPython.core.display.Math at 0x7f4c4e9b8910>"
       ]
      }
     ],
     "prompt_number": 14
    },
    {
     "cell_type": "code",
     "collapsed": false,
     "input": [
      "h = f + g\n",
      "h.display()"
     ],
     "language": "python",
     "metadata": {},
     "outputs": [
      {
       "latex": [
        "$${ 3.2x^3  +  2.5x^2  -7x  +  5 }$$"
       ],
       "metadata": {},
       "output_type": "display_data",
       "text": [
        "<IPython.core.display.Math at 0x7f4c4e9b8fd0>"
       ]
      }
     ],
     "prompt_number": 15
    },
    {
     "cell_type": "heading",
     "level": 2,
     "metadata": {},
     "source": [
      "ADT 2.4, PAGE 97  "
     ]
    },
    {
     "cell_type": "code",
     "collapsed": false,
     "input": [
      "# Abstract Data Type SparseMatrix\n",
      "\n",
      "class MatrixTerm(object):\n",
      "    def __init__(self,row=None,col=None,value=None):\n",
      "        self.row = row\n",
      "        self.col = col\n",
      "        self.value = value\n",
      "    def set_value(self, row=None, col=None, value=None):\n",
      "        if row is not None:\n",
      "            self.row = row\n",
      "        if col is not None:\n",
      "            self.col = col\n",
      "        if value is not None:\n",
      "            self.value = value                \n",
      "\n",
      "class SparseMatrix(object):\n",
      "    '''A Set of triples <row, column, value>, where row and column are non-negative integers\n",
      "       and form a unique combination; value is also an integer '''\n",
      "    def __init__(self, rows, cols, terms):\n",
      "        '''The constructor function creates a SparseMatrix with\n",
      "           r rows c columns and a capacity of t nonzero terms.'''\n",
      "        self._rows = rows # No of rows\n",
      "        self._cols = cols # No of cols\n",
      "        self._terms = terms # No of terms\n",
      "        # self._capacity = t # This term is not used since in python lists can be extended\n",
      "        self._sm_array = [ MatrixTerm() for i in range(terms) ] # List which stores the <row, col, value> triplet\n",
      "        \n",
      "    def Transpose(self):\n",
      "        '''Returns the transpose of the SparseMatrix'''\n",
      "        # self is comparable with *this in c++\n",
      "        pass\n",
      "    \n",
      "    def add(self, b):\n",
      "        '''Performs matrix addition of self with the b SpareMatrix'''\n",
      "        pass\n",
      "    \n",
      "    def Multiply(self, b):\n",
      "        '''\n",
      "        If the number of columns in self equals the number of rows in b, then returns the\n",
      "        multiplication matrix of self and b.\n",
      "        If not an exception is thrown\n",
      "        '''\n",
      "        pass"
     ],
     "language": "python",
     "metadata": {},
     "outputs": [],
     "prompt_number": 16
    },
    {
     "cell_type": "heading",
     "level": 2,
     "metadata": {},
     "source": [
      "PROGRAM 2.10, PAGE 100"
     ]
    },
    {
     "cell_type": "code",
     "collapsed": false,
     "input": [
      "# Transposing a Matrix\n",
      "# Runs in O(terms*cols)\n",
      "# In comparison, the naive method runs in O(rows*cols)\n",
      "\n",
      "def transpose(self):\n",
      "    '''Returns the transpose of self'''\n",
      "    \n",
      "    tran = SparseMatrix(self._cols, self._rows, self._terms)\n",
      "    \n",
      "    if(self._terms < 0):\n",
      "        # If self is a zero matrix\n",
      "        return tran\n",
      "    \n",
      "    # If self is a Non Zero matrix\n",
      "    \n",
      "    tran_term_index = 0\n",
      "    \n",
      "    for c in range(self._cols):\n",
      "        for i in range(self._terms):\n",
      "            # Find and move terms in column c\n",
      "            if self._sm_array[i].col == c:\n",
      "                # Add the i-th term with row number and col number interchanged to the tran matrix\n",
      "                tran._sm_array[tran_term_index].set_value(row = c, \n",
      "                                                          col = self._sm_array[i].row,\n",
      "                                                          value = self._sm_array[i].value\n",
      "                                                          )\n",
      "                tran_term_index += 1\n",
      "    return tran\n",
      "\n",
      "SparseMatrix.transpose = transpose"
     ],
     "language": "python",
     "metadata": {},
     "outputs": [],
     "prompt_number": 17
    },
    {
     "cell_type": "heading",
     "level": 2,
     "metadata": {},
     "source": [
      "PROGRAM 2.11, PAGE 102"
     ]
    },
    {
     "cell_type": "code",
     "collapsed": false,
     "input": [
      "# A faster method for transposing of Sparse Matrices\n",
      "# Runs in O(terms + cols)\n",
      "\n",
      "def fast_transpose(self):\n",
      "    \n",
      "    tran = SparseMatrix(self._cols, self._rows, self._terms)\n",
      "    \n",
      "    if self._terms>0:\n",
      "        cols = self._cols\n",
      "        terms = self._terms\n",
      "        sm_array = self._sm_array\n",
      "        \n",
      "        # No. of terms in the i-th column => row_size[i] => no of terms in the i-th row of transpose\n",
      "        row_size = [0]*cols\n",
      "        \n",
      "        # Starting index of the sm_array for row i of tran array => row_start[i]\n",
      "        row_start = [0]*cols\n",
      "        \n",
      "        for i in range(terms):\n",
      "            row_size[sm_array[i].col] += 1\n",
      "        \n",
      "        # Based on the no. of terms in the previous row the row start index table can\n",
      "        # be computed. This helps in speeding up the transpose method.\n",
      "        for i in range(1,cols):\n",
      "            row_start[i] = row_start[i-1] + row_size[i-1]\n",
      "        \n",
      "        for i in range(terms):\n",
      "            j = row_start[sm_array[i].col]\n",
      "            tran._sm_array[j].row = sm_array[i].col\n",
      "            tran._sm_array[j].col = sm_array[i].row\n",
      "            tran._sm_array[j].value = sm_array[i].value\n",
      "            row_start[sm_array[i].col] += 1\n",
      "            \n",
      "    return tran\n",
      "\n",
      "SparseMatrix.fast_transpose = fast_transpose"
     ],
     "language": "python",
     "metadata": {},
     "outputs": [],
     "prompt_number": 18
    },
    {
     "cell_type": "code",
     "collapsed": false,
     "input": [
      "def get_matrix(self,array):\n",
      "    \"\"\"\n",
      "    Stores the <row, col, value> triplets in the array to self\n",
      "    \"\"\"\n",
      "    try:\n",
      "        for i in range(len(array)):\n",
      "            tupl = array[i]\n",
      "            a._sm_array[i] = MatrixTerm(tupl[0],tupl[1],tupl[2])\n",
      "    except Exception,e:\n",
      "        pass\n",
      "        \n",
      "def print_matrix(self):\n",
      "    bmat = numpy.zeros((self._rows,self._cols))\n",
      "    for term in self._sm_array:\n",
      "        try:\n",
      "            bmat[term.row][term.col] = term.value\n",
      "        except Exception, e:\n",
      "            pass\n",
      "    print bmat\n",
      "\n",
      "# Helper methods to input an array of <row, col, value> triplets and to print the sparse matrix\n",
      "SparseMatrix.get_matrix = get_matrix\n",
      "SparseMatrix.print_matrix = print_matrix\n",
      "\n",
      "a = SparseMatrix(6,6,8)\n",
      "get_matrix(a,[(0,0,-15),(0,3,12),(0,5,-5),(1,1,1),(1,2,13),(2,3,-16),(4,0,9),(5,2,12)])\n",
      "print  'Matrix a\\n'\n",
      "print_matrix(a)"
     ],
     "language": "python",
     "metadata": {},
     "outputs": [
      {
       "output_type": "stream",
       "stream": "stdout",
       "text": [
        "Matrix a\n",
        "\n",
        "[[-15.   0.   0.  12.   0.  -5.]\n",
        " [  0.   1.  13.   0.   0.   0.]\n",
        " [  0.   0.   0. -16.   0.   0.]\n",
        " [  0.   0.   0.   0.   0.   0.]\n",
        " [  9.   0.   0.   0.   0.   0.]\n",
        " [  0.   0.  12.   0.   0.   0.]]\n"
       ]
      }
     ],
     "prompt_number": 19
    },
    {
     "cell_type": "code",
     "collapsed": false,
     "input": [
      "# Technically timeit should be run on different sized / valued inputs but here the same matrix a\n",
      "# is transposed repetitively instead to avoid complexity of generating a random sparse matrix\n",
      "\n",
      "%timeit a.transpose()\n",
      "tra = a.transpose()\n",
      "print '\\nTranspose of a\\n'\n",
      "print_matrix(tra)"
     ],
     "language": "python",
     "metadata": {},
     "outputs": [
      {
       "output_type": "stream",
       "stream": "stdout",
       "text": [
        "100000 loops, best of 3: 17.8 \u00b5s per loop\n",
        "\n",
        "Transpose of a\n",
        "\n",
        "[[-15.   0.   0.   0.   9.   0.]\n",
        " [  0.   1.   0.   0.   0.   0.]\n",
        " [  0.  13.   0.   0.   0.  12.]\n",
        " [ 12.   0. -16.   0.   0.   0.]\n",
        " [  0.   0.   0.   0.   0.   0.]\n",
        " [ -5.   0.   0.   0.   0.   0.]]\n"
       ]
      }
     ],
     "prompt_number": 20
    },
    {
     "cell_type": "code",
     "collapsed": false,
     "input": [
      "%timeit a.fast_transpose()\n",
      "tra = a.fast_transpose()\n",
      "print '\\nFast Transpose of a\\n'\n",
      "print_matrix(tra)"
     ],
     "language": "python",
     "metadata": {},
     "outputs": [
      {
       "output_type": "stream",
       "stream": "stdout",
       "text": [
        "100000 loops, best of 3: 13.8 \u00b5s per loop\n",
        "\n",
        "Fast Transpose of a\n",
        "\n",
        "[[-15.   0.   0.   0.   9.   0.]\n",
        " [  0.   1.   0.   0.   0.   0.]\n",
        " [  0.  13.   0.   0.   0.  12.]\n",
        " [ 12.   0. -16.   0.   0.   0.]\n",
        " [  0.   0.   0.   0.   0.   0.]\n",
        " [ -5.   0.   0.   0.   0.   0.]]\n"
       ]
      }
     ],
     "prompt_number": 21
    },
    {
     "cell_type": "code",
     "collapsed": false,
     "input": [
      "# Note that the sm_array has all the triplets ordered by row number.\n",
      "print \"Row\\tCol\\tValue\"\n",
      "print \"=======================\"\n",
      "for t in tra._sm_array:\n",
      "    print \"%d\\t%d\\t%d\"%(t.row, t.col, t.value)"
     ],
     "language": "python",
     "metadata": {},
     "outputs": [
      {
       "output_type": "stream",
       "stream": "stdout",
       "text": [
        "Row\tCol\tValue\n",
        "=======================\n",
        "0\t0\t-15\n",
        "0\t4\t9\n",
        "1\t1\t1\n",
        "2\t1\t13\n",
        "2\t5\t12\n",
        "3\t0\t12\n",
        "3\t2\t-16\n",
        "5\t0\t-5\n"
       ]
      }
     ],
     "prompt_number": 22
    },
    {
     "cell_type": "heading",
     "level": 2,
     "metadata": {},
     "source": [
      "PROGRAM 2.12, PAGE 103"
     ]
    },
    {
     "cell_type": "code",
     "collapsed": false,
     "input": [
      "# Storing a Matrix Term\n",
      "\n",
      "def add_term(self,val,r,c):\n",
      "    # If sum != 0, then it is stored along with r and c as last term in self\n",
      "    if val != 0:\n",
      "        # Compute the index where the new Term must be inserted into the \n",
      "        # sm_array which is ordered by row no\n",
      "        \n",
      "        i = 0\n",
      "        while i < self._terms:\n",
      "            if self._sm_array[i].row > r:\n",
      "                break\n",
      "            i += 1\n",
      "                \n",
      "        self._sm_array.insert(i, MatrixTerm(row = r, col = c, value = val))\n",
      "        self._terms += 1\n",
      "        \n",
      "SparseMatrix.add_term = add_term"
     ],
     "language": "python",
     "metadata": {},
     "outputs": [],
     "prompt_number": 23
    },
    {
     "cell_type": "heading",
     "level": 2,
     "metadata": {},
     "source": [
      "PROGRAM 2.14, PAGE 104 - 106"
     ]
    },
    {
     "cell_type": "code",
     "collapsed": false,
     "input": [
      "# Multiply Sparse Matrices\n",
      "# Works in O(b.cols * a.terms + a.rows * b.terms)\n",
      "# This outperforms the standard O(a.rows * a.cols * b.cols) time if b.terms and a.terms are relatively low\n",
      "\n",
      "def multiply(self,b):\n",
      "    '''Return the product of sparse matrices self and b'''\n",
      "    \n",
      "    if self._cols != b._rows:\n",
      "        raise Exception('Incompatible Matrices.')\n",
      "\n",
      "    # b transpose makes the sm_array contain terms ordered by columns of b ( rows of b\u1d40 )\n",
      "    bXpose = b.fast_transpose()\n",
      "    \n",
      "    # The product matrix\n",
      "    product = SparseMatrix(self._rows, b._cols, 0)\n",
      "    \n",
      "    curr_row_index = 0\n",
      "    curr_row_begin = 0\n",
      "    curr_row_a = self._sm_array[0].row   # Current row of a that is being multiplied with the col of b\n",
      "    \n",
      "    # Introducing terms to help deal with the end condition\n",
      "    self._sm_array.append(MatrixTerm(row = self._rows, col = -1, value = None))\n",
      "    bXpose._sm_array.append(MatrixTerm(row = b._cols, col = -1, value = None))\n",
      "    \n",
      "    Sum = 0\n",
      "    \n",
      "    while curr_row_index < self._terms :\n",
      "        # Generate row current_row_a of d\n",
      "        curr_col_b = bXpose._sm_array[0].row\n",
      "        curr_col_index = 0\n",
      "        \n",
      "        while curr_col_index <= b._terms:\n",
      "            # Multiply row curr_row_a of self by column curr_col_b of b\n",
      "            \n",
      "            if self._sm_array[curr_row_index].row != curr_row_a:\n",
      "                # End of row curr_row_a\n",
      "                \n",
      "                # Add the sum to the product matrix at position { curr_row_a, curr_col_b }\n",
      "                product.add_term(Sum,curr_row_a,curr_col_b)\n",
      "                \n",
      "                Sum = 0 # Reset sum to 0\n",
      "                \n",
      "                # Reset to the beginning of current row ( of a ) for multiplication with next column ( of b )\n",
      "                curr_row_index = curr_row_begin\n",
      "                \n",
      "                # Advance to next column ( of b )\n",
      "                while bXpose._sm_array[curr_col_index].row == curr_col_b:\n",
      "                    curr_col_index += 1\n",
      "                \n",
      "                # Note that in Sparse Matrix the terms are arranged in rows\n",
      "                # bXpose's terms are arranged in columns of b ( or rows of bXpose )\n",
      "                curr_col_b = bXpose._sm_array[curr_col_index].row\n",
      "                \n",
      "            elif bXpose._sm_array[curr_col_index].row != curr_col_b :\n",
      "                # End of column curr_col_b of b\n",
      "                \n",
      "                # Add the sum to the product matrix at position { curr_row_a, curr_col_b }\n",
      "                product.add_term(Sum,curr_row_a,curr_col_b)\n",
      "                \n",
      "                Sum = 0 # Reset sum to 0\n",
      "                \n",
      "                # Reset to the beginning of current row ( of a ) for multiplication with next column ( of b )\n",
      "                curr_row_index = curr_row_begin\n",
      "                \n",
      "                # Advance to the next column in b \n",
      "                # ( note that bXpose._sm_array[curr_col_index].row points to the next column already )\n",
      "                curr_col_b = bXpose._sm_array[curr_col_index].row\n",
      "                \n",
      "            elif self._sm_array[curr_row_index].col < bXpose._sm_array[curr_col_index].col :\n",
      "                curr_row_index += 1 # Advance to the next term in row\n",
      "            \n",
      "            # FOLLOWING EXPLANATION DIAGRAMS NOT IN TEXTBOOK\n",
      "            #\n",
      "            # ( If the following  diagrams appear in two lines shrink your page size to below 100% )\n",
      "            #\n",
      "            # In the row curr_row_a, if the current column of the current term is \n",
      "            # same as the current row of b ( col of bXpose ) in the curr_col_b column\n",
      "            # multiply the terms and add to the Sum\n",
      "            #\n",
      "            #\n",
      "            #      a                      b               bXpose            product\n",
      "            #   \n",
      "            #   . . 0 .                 . . . 0          . . 0 .            . . . .\n",
      "            #   0 x . 0 \u25c0\u2015\u2015 curr_row_a  . 0 0 .          . 0 . 0            . . x .  \u25c0\u2015\u2015 Result row\n",
      "            #   . 0 . .                 0 . . .          . 0 . x \u25c0\u2500\u2510        . . . .\n",
      "            #   0 . 0 .                 . 0 x .          0 . . .   \u2502        . . . . \n",
      "            #                               \u25b2                      \u2502            \u25b2\n",
      "            #                               \u2502                curr_col_b         \u2502 \n",
      "            #                          curr_col_b                           Result col\n",
      "            #      \n",
      "            #    in a       : x = a._sm_matrix[curr_row_index]\n",
      "            #    in b       : x = b._sm_matrix[curr_col_index]\n",
      "            #    in product : x is the new term to be added for which the Sum is being computed\n",
      "            #\n",
      "            \n",
      "            elif self._sm_array[curr_row_index].col == bXpose._sm_array[curr_col_index].col :\n",
      "                # Add to sum\n",
      "                Sum += self._sm_array[curr_row_index].value * bXpose._sm_array[curr_col_index].value\n",
      "                curr_row_index += 1\n",
      "                curr_col_index += 1\n",
      "                \n",
      "            else: \n",
      "                curr_col_index += 1\n",
      "                # Next term in curr_col_b\n",
      "                \n",
      "        while self._sm_array[curr_row_index].row == curr_row_a :\n",
      "            # Advance to next row ( of a )\n",
      "            curr_row_index += 1\n",
      "            \n",
      "        curr_row_begin = curr_row_index\n",
      "        curr_row_a = self._sm_array[curr_row_index].row\n",
      "        \n",
      "    # To remove the last terms in a and d since the terms are empty:\n",
      "    del product._sm_array[-1]\n",
      "    del self._sm_array[-1]\n",
      "    del b._sm_array [-1]\n",
      "    \n",
      "    return product\n",
      "\n",
      "SparseMatrix.multiply = multiply"
     ],
     "language": "python",
     "metadata": {},
     "outputs": [],
     "prompt_number": 24
    },
    {
     "cell_type": "code",
     "collapsed": false,
     "input": [
      "mult = a.multiply(tra)\n",
      "print 'Matrix a is \\n'\n",
      "print_matrix(a)\n",
      "print \"\\nMatrix a . a' is :\\n\"\n",
      "print_matrix(mult)"
     ],
     "language": "python",
     "metadata": {},
     "outputs": [
      {
       "output_type": "stream",
       "stream": "stdout",
       "text": [
        "Matrix a is \n",
        "\n",
        "[[-15.   0.   0.  12.   0.  -5.]\n",
        " [  0.   1.  13.   0.   0.   0.]\n",
        " [  0.   0.   0. -16.   0.   0.]\n",
        " [  0.   0.   0.   0.   0.   0.]\n",
        " [  9.   0.   0.   0.   0.   0.]\n",
        " [  0.   0.  12.   0.   0.   0.]]\n",
        "\n",
        "Matrix a . a' is :\n",
        "\n",
        "[[ 394.    0. -192.    0. -135.    0.]\n",
        " [   0.  170.    0.    0.    0.  156.]\n",
        " [-192.    0.  256.    0.    0.    0.]\n",
        " [   0.    0.    0.    0.    0.    0.]\n",
        " [-135.    0.    0.    0.   81.    0.]\n",
        " [   0.  156.    0.    0.    0.    0.]]\n"
       ]
      }
     ],
     "prompt_number": 25
    },
    {
     "cell_type": "heading",
     "level": 2,
     "metadata": {},
     "source": [
      "ADT 2.5, PAGE 114"
     ]
    },
    {
     "cell_type": "code",
     "collapsed": false,
     "input": [
      "# Abstract Datatype String\n",
      "class String(object):\n",
      "    def __init__(self,init):\n",
      "        # Constructor that initializes self to string init of length of m\n",
      "        self._str = init\n",
      "        self._length = len(init)\n",
      "        self.failure_function()\n",
      "        \n",
      "    def __eq__(self,t):\n",
      "        # overloading == operators\n",
      "        return self._str == t._str\n",
      "    \n",
      "    def __not__(self):\n",
      "        if self._length <= 0:\n",
      "            print True\n",
      "        else:\n",
      "            print False\n",
      "            \n",
      "    def length(self):\n",
      "        return self._length\n",
      "    \n",
      "    def concat(self,left):\n",
      "        self._str += t\n",
      "        return self\n",
      "    \n",
      "    def substr(self,i,j):\n",
      "        \"\"\"\n",
      "        Return a substring whose starting index is i and length is j\n",
      "        \"\"\"\n",
      "        try:\n",
      "            substr = self._str[i:i+j]\n",
      "            return substr\n",
      "        \n",
      "        except IndexError:\n",
      "            print 'Invalid index / length to get Substring'\n",
      "        \n",
      "    def find(self, pat):\n",
      "        '''Returns an index i such that pat matches the substring of self that begins at position of i\n",
      "           Returns -1 if pat is either empty or not a substring'''\n",
      "        pass    "
     ],
     "language": "python",
     "metadata": {},
     "outputs": [],
     "prompt_number": 26
    },
    {
     "cell_type": "heading",
     "level": 2,
     "metadata": {},
     "source": [
      "PROGRAM 2.15, PAGE 115"
     ]
    },
    {
     "cell_type": "code",
     "collapsed": false,
     "input": [
      "# Exhaustive Pattern Matching\n",
      "\n",
      "def find(self,pat):\n",
      "    '''Return -1 if pat does not occur in self\n",
      "       otherwise return the first position in self, where pat begins'''\n",
      "    \n",
      "    for start in range(self.length()-pat.length()+1) :\n",
      "        # Check for match beginning at str[start]\n",
      "        for j in range(pat.length()) :\n",
      "            # Character by character checking\n",
      "            \n",
      "            if self._str[start + j] != pat._str[j]:\n",
      "                break\n",
      "                \n",
      "            if j == pat.length()-1:\n",
      "                # Match found\n",
      "                return start\n",
      "    \n",
      "    # Pat is empty or does not occur in string\n",
      "    return -1  \n",
      "\n",
      "# NOTE : The entire program can be implemented using python string function as follows: \n",
      "# self._str.find(pat)\n",
      "\n",
      "String.find = find"
     ],
     "language": "python",
     "metadata": {},
     "outputs": [],
     "prompt_number": 27
    },
    {
     "cell_type": "heading",
     "level": 2,
     "metadata": {},
     "source": [
      "PROGRAM 2.16, PAGE 117"
     ]
    },
    {
     "cell_type": "code",
     "collapsed": false,
     "input": [
      "# Faster implementation of the find method using the failure array and failure function to \n",
      "# allow resuming search at partial matches. The failure vector is stored at String.f\n",
      "\n",
      "# Runs in O( LengthP + LengthS )\n",
      "\n",
      "def fast_find(self, pat):\n",
      "    posP = 0\n",
      "    posS = 0\n",
      "\n",
      "    lengthP = pat.length()\n",
      "    lengthS = self.length()\n",
      "    \n",
      "    while ( posP < lengthP ) and ( posS < lengthS ):\n",
      "        if pat._str[posP] == self._str[posS] :\n",
      "            posP += 1\n",
      "            posS += 1\n",
      "            \n",
      "        elif posP == 0:\n",
      "            posS += 1\n",
      "            \n",
      "        else:\n",
      "            posP = pat.f[posP - 1] + 1\n",
      "            \n",
      "    if posP < lengthP :\n",
      "        return -1\n",
      "    else:\n",
      "        return posS-lengthP\n",
      "    \n",
      "String.fast_find = fast_find"
     ],
     "language": "python",
     "metadata": {},
     "outputs": [],
     "prompt_number": 28
    },
    {
     "cell_type": "heading",
     "level": 2,
     "metadata": {},
     "source": [
      "PROGRAM 2.17, PAGE 118"
     ]
    },
    {
     "cell_type": "code",
     "collapsed": false,
     "input": [
      "# Computing the failure function\n",
      "\n",
      "def failure_function(self):\n",
      "    lengthP = self.length()\n",
      "    self.f = [0]*lengthP\n",
      "    self.f[0] = -1\n",
      "    for j in range(1,lengthP):\n",
      "        i = self.f[j-1]\n",
      "        while ( self._str[j] != self._str[i+1] ) and  ( i >= 0 ):\n",
      "            i = self.f[i]\n",
      "        if self._str[j] == self._str[i+1]:\n",
      "            self.f[j] = i + 1\n",
      "        else:\n",
      "            self.f[j-1] = -1\n",
      "            \n",
      "String.failure_function = failure_function"
     ],
     "language": "python",
     "metadata": {},
     "outputs": [],
     "prompt_number": 29
    },
    {
     "cell_type": "code",
     "collapsed": false,
     "input": [
      "str1 = String('hello world')\n",
      "str2 = String('sdf')\n",
      "print str1.find(str2), str1.fast_find(str2)"
     ],
     "language": "python",
     "metadata": {},
     "outputs": [
      {
       "output_type": "stream",
       "stream": "stdout",
       "text": [
        "-1 -1\n"
       ]
      }
     ],
     "prompt_number": 30
    },
    {
     "cell_type": "code",
     "collapsed": false,
     "input": [
      "str2 = String('ell')\n",
      "print str1.find(str2), str1.fast_find(str2)"
     ],
     "language": "python",
     "metadata": {},
     "outputs": [
      {
       "output_type": "stream",
       "stream": "stdout",
       "text": [
        "1 1\n"
       ]
      }
     ],
     "prompt_number": 31
    },
    {
     "cell_type": "code",
     "collapsed": false,
     "input": [
      "# Analysing the above two find methods\n",
      "x_axis = range(10, 1000, 50)\n",
      "find_run_time = []\n",
      "fast_find_run_time = []\n",
      "\n",
      "\n",
      "for i in x_axis:\n",
      "    string = String(''.join(choice(ascii_letters) for _ in range(i))) # Generates a random string of i chars\n",
      "    pattern = String(''.join(choice(ascii_letters) for _ in range(i/2))) # Generates a random pattern string of i chars\n",
      "    start = time()\n",
      "    for i in range(10):\n",
      "        string.find(pattern)\n",
      "    find_run_time.append((time() - start) / 10) # Takes average over 10 runs\n",
      "    start = time()\n",
      "    for i in range(10):\n",
      "        string.fast_find(pattern)\n",
      "    fast_find_run_time.append((time() - start) / 10)\n",
      "    \n",
      "\n",
      "# NOTE: All these are typically failure / worst case run times, \n",
      "# since the probability of a random pattern matching with a random string is very low\n",
      "\n",
      "# Note the quadratic run time of find and linear run time of fast_find\n",
      "    \n",
      "%matplotlib inline    \n",
      "plt.figure().set_size_inches(10,10)\n",
      "plt.xlabel(\"Size of the input string : n \")\n",
      "plt.ylabel(\"Time in ms for the find operation\")\n",
      "\n",
      "plt.plot(x_axis, find_run_time, marker = \"o\", linestyle = \"--\", c=\"b\", label=\"find\")\n",
      "plt.plot(x_axis, fast_find_run_time, marker = \"o\", linestyle = \"--\", c=\"r\", label=\"fast_find\")\n",
      "plt.legend()\n",
      "plt.show()"
     ],
     "language": "python",
     "metadata": {},
     "outputs": [
      {
       "metadata": {},
       "output_type": "display_data",
       "png": "[encoded data removed]",
       "text": [
        "<matplotlib.figure.Figure at 0x7f4c4e92c9d0>"
       ]
      }
     ],
     "prompt_number": 32
    }
   ],
   "metadata": {}
  }
 ]
}