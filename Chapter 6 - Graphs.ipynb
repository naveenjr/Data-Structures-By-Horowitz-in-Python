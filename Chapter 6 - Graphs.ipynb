{
 "metadata": {
  "name": "",
  "signature": "sha256:43a9354001c83189e570a9c2c7574faee340a75df29385a34abed713b1c30d56"
 },
 "nbformat": 3,
 "nbformat_minor": 0,
 "worksheets": [
  {
   "cells": [
    {
     "cell_type": "heading",
     "level": 2,
     "metadata": {},
     "source": [
      "ADT 6.1, PAGE 331"
     ]
    },
    {
     "cell_type": "code",
     "collapsed": false,
     "input": [
      "# For practical implementation into bigger projects, one may refer to\n",
      "# standard libraries such as networkx - https://networkx.github.io/\n",
      "\n",
      "class Graph(object):\n",
      "    def __init__():\n",
      "        pass\n",
      "    \n",
      "    def is_empty():\n",
      "        \"\"\"Returns true if the Graph is empty.\"\"\"\n",
      "        \n",
      "        \n",
      "        \n",
      "        \n",
      "    "
     ],
     "language": "python",
     "metadata": {},
     "outputs": []
    }
   ],
   "metadata": {}
  }
 ]
}