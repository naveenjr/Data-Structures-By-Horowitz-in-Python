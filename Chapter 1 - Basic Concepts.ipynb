{
 "metadata": {
  "name": "",
  "signature": "sha256:0c2ae041d5e4ce259d6a2757d7deb28f88431e4d63fa2e9319d3dafb0d0e5fbd"
 },
 "nbformat": 3,
 "nbformat_minor": 0,
 "worksheets": [
  {
   "cells": [
    {
     "cell_type": "code",
     "collapsed": false,
     "input": [
      "# Imports\n",
      "import numpy as np # numpy for matrix calculations and randomized vector generation\n",
      "from itertools import chain # To flatten lists of list\n",
      "# For inline plot of the matplotlib graphs\n",
      "%matplotlib inline\n",
      "import matplotlib.pyplot as plt\n",
      "from matplotlib.patches import Rectangle, Arc # For the fibonacci squares and spiral patches\n",
      "from matplotlib.text import Text # For setting the color of y ticks in the last example"
     ],
     "language": "python",
     "metadata": {},
     "outputs": [],
     "prompt_number": 1
    },
    {
     "cell_type": "heading",
     "level": 1,
     "metadata": {},
     "source": [
      "CHAPTER 1 - BASIC CONCEPTS"
     ]
    },
    {
     "cell_type": "heading",
     "level": 2,
     "metadata": {},
     "source": [
      "PROGRAM 1.1, PAGE 17"
     ]
    },
    {
     "cell_type": "code",
     "collapsed": false,
     "input": [
      "# Variable Declaration\n",
      "\n",
      "n = 50\n",
      "f = 20.3\n",
      "\n",
      "# Printing the variables\n",
      "\n",
      "print 'n: ', n\n",
      "print 'f: ', f"
     ],
     "language": "python",
     "metadata": {},
     "outputs": [
      {
       "output_type": "stream",
       "stream": "stdout",
       "text": [
        "n:  50\n",
        "f:  20.3\n"
       ]
      }
     ],
     "prompt_number": 2
    },
    {
     "cell_type": "heading",
     "level": 2,
     "metadata": {},
     "source": [
      "PROGRAM 1.2, PAGE 18"
     ]
    },
    {
     "cell_type": "code",
     "collapsed": false,
     "input": [
      "# Accepting inputs\n",
      "\n",
      "a = input()\n",
      "b = input()\n",
      "\n",
      "# The input values are stored in a and b"
     ],
     "language": "python",
     "metadata": {},
     "outputs": [
      {
       "name": "stdout",
       "output_type": "stream",
       "stream": "stdout",
       "text": [
        "6\n"
       ]
      },
      {
       "name": "stdout",
       "output_type": "stream",
       "stream": "stdout",
       "text": [
        "5\n"
       ]
      }
     ],
     "prompt_number": 3
    },
    {
     "cell_type": "heading",
     "level": 2,
     "metadata": {},
     "source": [
      "PROGRAM 1.3, PAGE 19"
     ]
    },
    {
     "cell_type": "code",
     "collapsed": false,
     "input": [
      "# File I/O\n",
      "\n",
      "try:\n",
      "    outFile = open('my.out','w')\n",
      "    n = 50\n",
      "    f = 20.3\n",
      "    outFile.write('n: '+str(n)+'\\n')\n",
      "    outFile.write('f: '+str(f)+'\\n')\n",
      "    outFile.close()\n",
      "    \n",
      "# Error handling\n",
      "\n",
      "except IOError:\n",
      "    print 'cannot open my.out'"
     ],
     "language": "python",
     "metadata": {},
     "outputs": [],
     "prompt_number": 4
    },
    {
     "cell_type": "heading",
     "level": 2,
     "metadata": {},
     "source": [
      "PROGRAM 1.4, PAGE 19"
     ]
    },
    {
     "cell_type": "code",
     "collapsed": false,
     "input": [
      "# An Example of a function\n",
      "\n",
      "# max returns the maximum of two numbers passed to it \n",
      "# [ Note that we are overriding the default definition for max provided by the language]\n",
      "\n",
      "def max(a,b):\n",
      "    if(a>b):\n",
      "        return a\n",
      "    else:\n",
      "        return b"
     ],
     "language": "python",
     "metadata": {},
     "outputs": [],
     "prompt_number": 5
    },
    {
     "cell_type": "heading",
     "level": 2,
     "metadata": {},
     "source": [
      "PROGRAM 1.5, PAGE 23"
     ]
    },
    {
     "cell_type": "code",
     "collapsed": false,
     "input": [
      "# Throwing an exception of type str\n",
      "\n",
      "def div_zero(a,b,c):\n",
      "    if a<=0 or b<=0 or c<=0 :\n",
      "        raise Exception('All parameters should be >0')\n",
      "        # raise an exception when a or b or c = 0\n",
      "    return a+b*c+b/c"
     ],
     "language": "python",
     "metadata": {},
     "outputs": [],
     "prompt_number": 6
    },
    {
     "cell_type": "heading",
     "level": 2,
     "metadata": {},
     "source": [
      "PROGRAM 1.6, PAGE 24"
     ]
    },
    {
     "cell_type": "code",
     "collapsed": false,
     "input": [
      "# Catching an exception.\n",
      "\n",
      "try:\n",
      "    print div_zero(2,0,4)\n",
      "    \n",
      "except Exception, e:\n",
      "    print 'The parameters to DivZero were 2,0,4'\n",
      "    print 'An exception has been thrown'\n",
      "    print e"
     ],
     "language": "python",
     "metadata": {},
     "outputs": [
      {
       "output_type": "stream",
       "stream": "stdout",
       "text": [
        "The parameters to DivZero were 2,0,4\n",
        "An exception has been thrown\n",
        "All parameters should be >0\n"
       ]
      }
     ],
     "prompt_number": 7
    },
    {
     "cell_type": "heading",
     "level": 2,
     "metadata": {},
     "source": [
      "PROGRAM 1.8, PAGE 27"
     ]
    },
    {
     "cell_type": "code",
     "collapsed": false,
     "input": [
      "# Selection Sort\n",
      "\n",
      "def sel_sort(a,n):\n",
      "    for i in range(n):\n",
      "        j = i\n",
      "        for k in range(i+1,n):\n",
      "            if(a[k]<a[j]):\n",
      "                j = k\n",
      "        a[i],a[j] = a[j],a[i]\n",
      "        # a[j] is the smallest no in a[i] to a[n-1]\n",
      "       \n",
      "a = [5,4,3,2,1]\n",
      "sel_sort(a,len(a))\n",
      "print a"
     ],
     "language": "python",
     "metadata": {},
     "outputs": [
      {
       "output_type": "stream",
       "stream": "stdout",
       "text": [
        "[1, 2, 3, 4, 5]\n"
       ]
      }
     ],
     "prompt_number": 8
    },
    {
     "cell_type": "heading",
     "level": 2,
     "metadata": {},
     "source": [
      "PROGRAM 1.10, PAGE 28"
     ]
    },
    {
     "cell_type": "code",
     "collapsed": false,
     "input": [
      "# Binary search\n",
      "# Time complexity - O(log(n))\n",
      "\n",
      "def binary_search(a,x,n=None):\n",
      "    \"\"\"Search the sorted array a[0] to a[n-1] for x\"\"\"\n",
      "    n = len(a) if n is None else n\n",
      "    left = 0\n",
      "    right = n-1\n",
      "    while left <= right:\n",
      "        # While there are more elements to search\n",
      "        middle = (left + right)/2\n",
      "        if x<a[middle]:\n",
      "            right = middle - 1\n",
      "        elif x>a[middle]:\n",
      "            left = middle + 1\n",
      "        else: \n",
      "            return middle\n",
      "            # Returns index (starting from 0) of the element in the array.\n",
      "        \n",
      "    # If not found\n",
      "    return -1\n",
      "\n",
      "a = [1,3,4,5,65,7,2234,23,32,342]\n",
      "n = len(a)\n",
      "x = 65\n",
      "\n",
      "print binary_search(a,x,n)"
     ],
     "language": "python",
     "metadata": {},
     "outputs": [
      {
       "output_type": "stream",
       "stream": "stdout",
       "text": [
        "4\n"
       ]
      }
     ],
     "prompt_number": 9
    },
    {
     "cell_type": "heading",
     "level": 2,
     "metadata": {},
     "source": [
      "PROGRAM 1.11, PAGE 31"
     ]
    },
    {
     "cell_type": "code",
     "collapsed": false,
     "input": [
      "# Recursive implementation of binary search\n",
      "\n",
      "def binary_search_rec(a,x,left,right):\n",
      "    \"\"\"Search sorted array a[left] ... a[right] for x\"\"\"\n",
      "    if left<=right:\n",
      "        middle = (left + right)/2\n",
      "        if x<a[middle]:\n",
      "            return binary_search_rec(a,x,left,middle-1)\n",
      "        elif x>a[middle]:\n",
      "            return binary_search_rec(a,x,middle+1,right)\n",
      "        else:\n",
      "            return middle\n",
      "    # If the value is not found\n",
      "    else:\n",
      "        return -1\n",
      "\n",
      "print binary_search_rec(a,x,0,n-1)"
     ],
     "language": "python",
     "metadata": {},
     "outputs": [
      {
       "output_type": "stream",
       "stream": "stdout",
       "text": [
        "4\n"
       ]
      }
     ],
     "prompt_number": 10
    },
    {
     "cell_type": "heading",
     "level": 2,
     "metadata": {},
     "source": [
      "PROGRAM 1.12, PAGE 32"
     ]
    },
    {
     "cell_type": "code",
     "collapsed": false,
     "input": [
      "# Recursive Permutation generator\n",
      "\n",
      "def permutations(a,k,m):\n",
      "    \"\"\"\n",
      "    Generate all the  permutations of a[k] ... a[m]\n",
      "    \"\"\"\n",
      "    \n",
      "    # The result of this if statement is used only internally \n",
      "    # ( except when the main ( first / root ) function call parameters k and m are themselves equal )\n",
      "    if k == m: # For partition size 1\n",
      "        yield a[:m+1]\n",
      "        \n",
      "    else:\n",
      "        # a[k:m] has more than one permutation. Generate these recursively\n",
      "        for i in range (k,m+1):\n",
      "            # Permutation is performed in place, no additional space is used\n",
      "            a[k],a[i] = a[i],a[k]\n",
      "            # Perform the sub permutations recursively and combine them together.\n",
      "            for permuted_item in permutations(a,k+1,m):\n",
      "                yield permuted_item\n",
      "            # Reverting the swap, to perform the next permutation\n",
      "            a[i],a[k] = a[k],a[i]\n",
      "\n",
      "a = [1,5,2,6]\n",
      "list(permutations(a,0,len(a)-1))"
     ],
     "language": "python",
     "metadata": {},
     "outputs": [
      {
       "metadata": {},
       "output_type": "pyout",
       "prompt_number": 11,
       "text": [
        "[[1, 5, 2, 6],\n",
        " [1, 5, 6, 2],\n",
        " [1, 2, 5, 6],\n",
        " [1, 2, 6, 5],\n",
        " [1, 6, 2, 5],\n",
        " [1, 6, 5, 2],\n",
        " [5, 1, 2, 6],\n",
        " [5, 1, 6, 2],\n",
        " [5, 2, 1, 6],\n",
        " [5, 2, 6, 1],\n",
        " [5, 6, 2, 1],\n",
        " [5, 6, 1, 2],\n",
        " [2, 5, 1, 6],\n",
        " [2, 5, 6, 1],\n",
        " [2, 1, 5, 6],\n",
        " [2, 1, 6, 5],\n",
        " [2, 6, 1, 5],\n",
        " [2, 6, 5, 1],\n",
        " [6, 5, 2, 1],\n",
        " [6, 5, 1, 2],\n",
        " [6, 2, 5, 1],\n",
        " [6, 2, 1, 5],\n",
        " [6, 1, 2, 5],\n",
        " [6, 1, 5, 2]]"
       ]
      }
     ],
     "prompt_number": 11
    },
    {
     "cell_type": "heading",
     "level": 2,
     "metadata": {},
     "source": [
      "PROGRAM 1.13, PAGE 35"
     ]
    },
    {
     "cell_type": "code",
     "collapsed": false,
     "input": [
      "# Compute the product of the elements a[0:n-1]\n",
      "\n",
      "import operator\n",
      "\n",
      "def accumulate(a, start, end, initialValue, op):\n",
      "    \"\"\"returns op(sum or product or difference etc ) of values\"\"\"\n",
      "\n",
      "    # start -> index of first element of array a\n",
      "    # end -> index of last element of array a\n",
      "\n",
      "    for e in range(start,end+1):\n",
      "        initialValue = op(initialValue,a[e])\n",
      "    return initialValue\n",
      "\n",
      "# Returns the product of numbers a[0] ... a[n-1]\n",
      "def product(a,n):\n",
      "    initVal = 1\n",
      "    return accumulate(a,0,n-1,initVal,operator.mul)"
     ],
     "language": "python",
     "metadata": {},
     "outputs": [],
     "prompt_number": 12
    },
    {
     "cell_type": "heading",
     "level": 2,
     "metadata": {},
     "source": [
      "PROGRAM 1.14, PAGE 36"
     ]
    },
    {
     "cell_type": "code",
     "collapsed": false,
     "input": [
      "# Permutations using library functions\n",
      "\n",
      "import itertools\n",
      "# contains support for permutations() which is python equivalent of \n",
      "# C++ STL function next_permutation\n",
      "\n",
      "def print_permutation(string):\n",
      "    for permutation in itertools.permutations(string):\n",
      "        print \"\".join(permutation)\n",
      "        \n",
      "print_permutation(\"ABCD\")"
     ],
     "language": "python",
     "metadata": {},
     "outputs": [
      {
       "output_type": "stream",
       "stream": "stdout",
       "text": [
        "ABCD\n",
        "ABDC\n",
        "ACBD\n",
        "ACDB\n",
        "ADBC\n",
        "ADCB\n",
        "BACD\n",
        "BADC\n",
        "BCAD\n",
        "BCDA\n",
        "BDAC\n",
        "BDCA\n",
        "CABD\n",
        "CADB\n",
        "CBAD\n",
        "CBDA\n",
        "CDAB\n",
        "CDBA\n",
        "DABC\n",
        "DACB\n",
        "DBAC\n",
        "DBCA\n",
        "DCAB\n",
        "DCBA\n"
       ]
      }
     ],
     "prompt_number": 13
    },
    {
     "cell_type": "heading",
     "level": 2,
     "metadata": {},
     "source": [
      "PROGRAM 1.6, PAGE 38"
     ]
    },
    {
     "cell_type": "code",
     "collapsed": false,
     "input": [
      "# Function to compute a+b+b*c+(a+b-c)/(a+b)+4.0\n",
      "\n",
      "def abc(a,b,c):\n",
      "    a = float(a)\n",
      "    b = float(b)\n",
      "    c = float(c)\n",
      "    return a+b+b*c+(a+b-c)/(a+b)+4.0"
     ],
     "language": "python",
     "metadata": {},
     "outputs": [],
     "prompt_number": 14
    },
    {
     "cell_type": "heading",
     "level": 2,
     "metadata": {},
     "source": [
      "PROGRAM 1.17, PAGE 39"
     ]
    },
    {
     "cell_type": "code",
     "collapsed": false,
     "input": [
      "# Iterative function for sum\n",
      "# NOTE that this overrides the sum function of python\n",
      "\n",
      "def sum(a,n):\n",
      "    s = 0\n",
      "    for i in range(n):\n",
      "        s += a[i]\n",
      "    return s"
     ],
     "language": "python",
     "metadata": {},
     "outputs": [],
     "prompt_number": 15
    },
    {
     "cell_type": "heading",
     "level": 2,
     "metadata": {},
     "source": [
      "PROGRAM 1.18, PAGE 39"
     ]
    },
    {
     "cell_type": "code",
     "collapsed": false,
     "input": [
      "# Recursive function for sum\n",
      "\n",
      "def rsum(a,n):\n",
      "    if n<=0:\n",
      "        return 0\n",
      "    else:\n",
      "        return rsum(a,n-1)+a[n-1]"
     ],
     "language": "python",
     "metadata": {},
     "outputs": [],
     "prompt_number": 16
    },
    {
     "cell_type": "heading",
     "level": 2,
     "metadata": {},
     "source": [
      "PROGRAM 1.19, PAGE 44"
     ]
    },
    {
     "cell_type": "code",
     "collapsed": false,
     "input": [
      "# Program 1.17 with count statements added (to compute time complexity)\n",
      "# Note that this overrides the default definition of sum in python\n",
      "\n",
      "count = 0\n",
      "def sum(a,n):\n",
      "    global count\n",
      "    \n",
      "    s = 0    \n",
      "    count += 1\n",
      "    for i in range(n):\n",
      "        count += 1    # for loop\n",
      "        s += a[i]\n",
      "        count += 1    # for assignment\n",
      "    count += 1        # for last iteration of for loop\n",
      "    count += 1        # for return\n",
      "    return s\n",
      "\n",
      "count = 0\n",
      "sum(np.random.rand(100,1), n = 100)\n",
      "print count"
     ],
     "language": "python",
     "metadata": {},
     "outputs": [
      {
       "output_type": "stream",
       "stream": "stdout",
       "text": [
        "203\n"
       ]
      }
     ],
     "prompt_number": 17
    },
    {
     "cell_type": "heading",
     "level": 2,
     "metadata": {},
     "source": [
      "PROGRAM 1.20, PAGE 44"
     ]
    },
    {
     "cell_type": "code",
     "collapsed": false,
     "input": [
      "# Simplified version of Program 1.19\n",
      "\n",
      "count = 0\n",
      "def sum(a,n):\n",
      "    s =0\n",
      "    global count\n",
      "    for i in range(n):\n",
      "        s += a[i]\n",
      "        count +=2\n",
      "    count +=3\n",
      "    return s"
     ],
     "language": "python",
     "metadata": {},
     "outputs": [],
     "prompt_number": 18
    },
    {
     "cell_type": "heading",
     "level": 2,
     "metadata": {},
     "source": [
      "PROGRAM 1.21, PAGE 45"
     ]
    },
    {
     "cell_type": "code",
     "collapsed": false,
     "input": [
      "# Program 1.18 with count statements added\n",
      "count = 0\n",
      "def rsum(a,n):\n",
      "    if n<=0:\n",
      "        global count\n",
      "        count += 1     # for return\n",
      "        return 0\n",
      "    else:\n",
      "        count += 1     # for return\n",
      "        return rsum(a,n-1)+a[n-1]"
     ],
     "language": "python",
     "metadata": {},
     "outputs": [],
     "prompt_number": 19
    },
    {
     "cell_type": "heading",
     "level": 2,
     "metadata": {},
     "source": [
      "PROGRAM 1.22, PAGE 46"
     ]
    },
    {
     "cell_type": "code",
     "collapsed": false,
     "input": [
      "# Matrix Addition - Without using numpy\n",
      "def add(a,b,c,m,n):\n",
      "    for i in range(m):\n",
      "        c[i] = [ a[i][j]+b[i][j] for j in range(n)]\n",
      "        \n",
      "a = [[1,2,3],[4,5,6],[7,8,9]]\n",
      "b = [[1,2,3],[4,5,6],[7,8,9]]\n",
      "c = [[],[],[]]\n",
      "add(a,b,c,3,3)\n",
      "\n",
      "# Displaying the output in latex\n",
      "\n",
      "matrix_latex = lambda a : r\"\"\"\n",
      "\\mathbf{}\n",
      "\\begin{bmatrix} \n",
      "%d & %d & %d \\\\\n",
      "%d & %d & %d \\\\\n",
      "%d & %d & %d \\\\\n",
      "\\end{bmatrix}\"\"\"%tuple(a[0] + a[1] + a[2])\n",
      "\n",
      "from IPython.display import Math\n",
      "\n",
      "Math(matrix_latex(a) + \" + \" + matrix_latex(b) + \" = \" + matrix_latex(c))"
     ],
     "language": "python",
     "metadata": {},
     "outputs": [
      {
       "latex": [
        "$$\n",
        "\\mathbf{}\n",
        "\\begin{bmatrix} \n",
        "1 & 2 & 3 \\\\\n",
        "4 & 5 & 6 \\\\\n",
        "7 & 8 & 9 \\\\\n",
        "\\end{bmatrix} + \n",
        "\\mathbf{}\n",
        "\\begin{bmatrix} \n",
        "1 & 2 & 3 \\\\\n",
        "4 & 5 & 6 \\\\\n",
        "7 & 8 & 9 \\\\\n",
        "\\end{bmatrix} = \n",
        "\\mathbf{}\n",
        "\\begin{bmatrix} \n",
        "2 & 4 & 6 \\\\\n",
        "8 & 10 & 12 \\\\\n",
        "14 & 16 & 18 \\\\\n",
        "\\end{bmatrix}$$"
       ],
       "metadata": {},
       "output_type": "pyout",
       "prompt_number": 20,
       "text": [
        "<IPython.core.display.Math at 0x7fbd2e4301d0>"
       ]
      }
     ],
     "prompt_number": 20
    },
    {
     "cell_type": "heading",
     "level": 2,
     "metadata": {},
     "source": [
      "PROGRAM 1.23, PAGE 47"
     ]
    },
    {
     "cell_type": "code",
     "collapsed": false,
     "input": [
      "# Matrix addition with counting statements\n",
      "\n",
      "def matrix_add(a,b,c,m,n):\n",
      "    count = 1\n",
      "    #for for loop i\n",
      "    for i in range(m):\n",
      "        count += 1    #for for loop j\n",
      "        s = [a[i,j]+b[i,j] for j in range(n)]\n",
      "        c[i] = s\n",
      "        count += 1    # for assignment\n",
      "        count += 1    # for last time for j\n",
      "    count += 1 # for last time for i    \n",
      "    return count"
     ],
     "language": "python",
     "metadata": {},
     "outputs": [],
     "prompt_number": 21
    },
    {
     "cell_type": "heading",
     "level": 2,
     "metadata": {},
     "source": [
      "PROGRAM 1.24, PAGE 47"
     ]
    },
    {
     "cell_type": "code",
     "collapsed": false,
     "input": [
      "# Simplified program with counting only\n",
      "\n",
      "def matrix_add_count_only(m,n):\n",
      "    count = 0\n",
      "    for i in range(m):\n",
      "        for j in range(n):\n",
      "            count += 2\n",
      "        count += 2\n",
      "    count += 1\n",
      "    return count\n",
      "    \n",
      "matrix_add_count_only(5,5)"
     ],
     "language": "python",
     "metadata": {},
     "outputs": [
      {
       "metadata": {},
       "output_type": "pyout",
       "prompt_number": 22,
       "text": [
        "61"
       ]
      }
     ],
     "prompt_number": 22
    },
    {
     "cell_type": "heading",
     "level": 2,
     "metadata": {},
     "source": [
      "PROGRAM 1.25, PAGE 50"
     ]
    },
    {
     "cell_type": "code",
     "collapsed": false,
     "input": [
      "# Fibonacci Number\n",
      "def fibonacci(n):\n",
      "    \"\"\"\n",
      "    Compute the Fibonacci number Fn for the given n.\n",
      "    Refer : http://en.wikipedia.org/wiki/Fibonacci_number\n",
      "    \"\"\"\n",
      "    # F0 = 0 F1 = 1\n",
      "    if n < 2:\n",
      "        return n\n",
      "    else:\n",
      "        # Recursively define the fibonacci series\n",
      "         return fibonacci(n-1) + fibonacci(n-2)\n",
      "        \n",
      "for i in range(20):\n",
      "    print fibonacci(i),"
     ],
     "language": "python",
     "metadata": {},
     "outputs": [
      {
       "output_type": "stream",
       "stream": "stdout",
       "text": [
        "0 1 1 2 3 5 8 13 21 34 55 89 144 233 377 610 987 1597 2584 4181\n"
       ]
      }
     ],
     "prompt_number": 23
    },
    {
     "cell_type": "code",
     "collapsed": false,
     "input": [
      "# NOT IN TEXTBOOK\n",
      "# Fibonacci spiral\n",
      "# NOTE : Requires matplotlib installed\n",
      "\n",
      "fig, ax = plt.subplots(); patches = []\n",
      "\n",
      "fig.set_size_inches(15,15)\n",
      "#fig.set_facecolor('#C39630')     #C39630 - Golden brown color in Hex format\n",
      "\n",
      "def fib_squares_and_spiral(n, square_color = \"grey\", spiral_color = \"brown\", clockwise = True, square = True, spiral = True, offset_angle = 0):\n",
      "    \"\"\"\n",
      "    Generate matplotlib.patches.Rectange object for all fibonacci squares \n",
      "    ( spirally placed ) upto the nth square\n",
      "    \"\"\"\n",
      "    \n",
      "    if not ( square or spiral ):\n",
      "        raise Exception(\"Both square and spiral cannot be set to False\")\n",
      "    \n",
      "    direction = 1 if clockwise else -1\n",
      "    \n",
      "    # Initialization for square \n",
      "    # =========================\n",
      "    \n",
      "    # Changes in sign in the del x, del y for the 4 basic incremental steps for the\n",
      "    # x, y coordinates of the square's diagonal\n",
      "    signs_del_x = [ 1, 1, -1, -1 ]    \n",
      "    signs_del_y = [ -1, 1, 1, -1 ]\n",
      "    \n",
      "    # Initalizing the coordinates of the diagonals for the square of 1x1\n",
      "    d1_x, d1_y     =  0,  0\n",
      "    del_x, del_y   =  0,  0\n",
      "    \n",
      "    # Initialization for the arc\n",
      "    # ==========================\n",
      "    \n",
      "    # The changes in coordinates of the center for the 4 basic incremental steps\n",
      "    changes_cx = [ 0, 1, 0, -1 ]\n",
      "    changes_cy = [ -1, 0, 1, 0 ]\n",
      "    # These lists are called changes instead of signs to emphasize the fact that \n",
      "    # while the coordinates of the dimensions of the square's diagonals change in both x and y\n",
      "    # for every step, the center of the arc changes only by one coordinate every step\n",
      "    # NOTE: This is also true for the center of square, which can also be used to plot the \n",
      "    # squares in a different method.\n",
      "    \n",
      "    # Initializing the coordinates of the center of arc\n",
      "    center_x, center_y = 0, direction\n",
      "    \n",
      "    # i refers to the ith square of dimenstions { f(i) X f(i) } ( or ) the ith arc of radius f(i)\n",
      "    \n",
      "    for i in range(1, n+1):\n",
      "        \n",
      "        f_i = fibonacci(i)   # i-th fibonacci number\n",
      "        step_no = i%4        # index of the sign vector\n",
      "        \n",
      "        # print  f_i, \"step=\", step_no, \"dir\", direction, \"arc :\", center_x, center_y\n",
      "        \n",
      "        if square:\n",
      "            # Compute the difference in the coordinates of the extremes of the square's diagonal\n",
      "        \n",
      "            # Other end is computed based on the fibonacci number and the sign vector\n",
      "            del_x = signs_del_x[step_no] * direction * f_i\n",
      "            del_y = signs_del_y[step_no] * direction * f_i\n",
      "\n",
      "            # Square Patch\n",
      "            # Rectangle whose one diagonal is { (d1_x, d1_y), (d1_x + del_x, d1_y + del_y) }\n",
      "            square_patch = Rectangle([d1_x,d1_y], \n",
      "                                     width = del_x,\n",
      "                                     height = del_y,\n",
      "                                     facecolor = 'none',\n",
      "                                     edgecolor = square_color,\n",
      "                                     )\n",
      "            \n",
      "            # The end point of the diagonal of the old square is the starting point of the diagonal for the new square\n",
      "            d1_x, d1_y = d1_x + del_x, d1_y + del_y\n",
      "            \n",
      "        if spiral:\n",
      "            # \n",
      "            \n",
      "            # Arc patch generation\n",
      "            \n",
      "            # The axis width and height is twice the i-th fibonacci number\n",
      "            # Rotation angle is incremented by 90\u00b0 every successive step\n",
      "            arc_patch = Arc(xy = [center_x, center_y],\n",
      "                            width = 2 * fibonacci(i),\n",
      "                            height = 2 * fibonacci(i),\n",
      "                            theta1 = 0,\n",
      "                            theta2 = 90,\n",
      "                            angle = 90 * i - int(clockwise)*180 - direction * offset_angle,\n",
      "                            edgecolor = spiral_color\n",
      "                            )\n",
      "            \n",
      "            # The new center is computed from the increment changes vector and fibonacci of the (i-2)nd term\n",
      "            center_x, center_y = center_x - direction * changes_cx[step_no] * fibonacci(i-1), center_y - direction * changes_cy[step_no] * fibonacci(i-1)\n",
      "\n",
      "        if square and spiral:\n",
      "            yield ( square_patch, arc_patch )\n",
      "            \n",
      "        elif square:\n",
      "            yield ( square_patch, )\n",
      "            \n",
      "        else:\n",
      "            yield ( arc_patch, )\n",
      "                    \n",
      "\n",
      "# Chain together all the ( square_patch, arc_patch ) tuples into one long list and \n",
      "# apply the `ax.add_patch` on every item of the list containing the flattened list of all\n",
      "# the Rectangle patch objects and the Arc patch objects to add them to the axes object ( ax )\n",
      "\n",
      "# One clockwise spiral\n",
      "map(ax.add_patch, chain.from_iterable(fib_squares_and_spiral(9, clockwise = True, spiral_color = \"Red\")))\n",
      "# One Anticlockwise spiral\n",
      "map(ax.add_patch, chain.from_iterable(fib_squares_and_spiral(9, clockwise = False, spiral_color = \"blue\")))\n",
      "\n",
      "plt.axis('equal');\n",
      "plt.axis('off');\n",
      "plt.show();"
     ],
     "language": "python",
     "metadata": {},
     "outputs": [
      {
       "metadata": {},
       "output_type": "display_data",
       "png": "[encoded data removed]",
       "text": [
        "<matplotlib.figure.Figure at 0x7fbd2e3cc190>"
       ]
      }
     ],
     "prompt_number": 24
    },
    {
     "cell_type": "heading",
     "level": 2,
     "metadata": {},
     "source": [
      "PROGRAM 1.26, PAGE 58"
     ]
    },
    {
     "cell_type": "code",
     "collapsed": false,
     "input": [
      "# Magic Square\n",
      "\n",
      "def magic_square(n):\n",
      "    '''Return a magic square of size n, n is odd'''\n",
      "    max_size = 51\n",
      "    \n",
      "    # Check if n is within range\n",
      "    if ( n > max_size ) or ( n < 1 ):\n",
      "        raise Exception('Error!..n out of range')\n",
      "    elif (n%2) == 0:\n",
      "        raise Exception('Error!..n is even')\n",
      "    \n",
      "    # n is odd hence Coxeter's rule can be applied\n",
      "    square = np.zeros((n,n))\n",
      "    \n",
      "    square[0][(n-1)/2] = 1\n",
      "    # Start with middle row of 1st element\n",
      "            \n",
      "    # i and j are current positions\n",
      "    key = 2\n",
      "    i = 0\n",
      "    j = (n-1)/2\n",
      "    nsquared = n*n\n",
      "        \n",
      "    while key <= nsquared:\n",
      "        # Move up and left\n",
      "        k = (n-1) if (i-1)<0 else (i-1) # Wrap around, if the corners are reached\n",
      "        l = (n-1) if (j-1)<0 else (j-1) # Wrap around, if the corners are reached\n",
      "        \n",
      "        if square[k][l] != 0 :    \n",
      "            # if square occupied, move down\n",
      "            i = (i+1)%n\n",
      "        else:\n",
      "            # if Square is unoccupied\n",
      "            i = k\n",
      "            j = l\n",
      "            \n",
      "        square[i][j] = key\n",
      "        key +=  1\n",
      "        \n",
      "    return square\n",
      "\n",
      "print 'magic square of size 5'\n",
      "print magic_square(5)"
     ],
     "language": "python",
     "metadata": {},
     "outputs": [
      {
       "output_type": "stream",
       "stream": "stdout",
       "text": [
        "magic square of size 5\n",
        "[[ 15.   8.   1.  24.  17.]\n",
        " [ 16.  14.   7.   5.  23.]\n",
        " [ 22.  20.  13.   6.   4.]\n",
        " [  3.  21.  19.  12.  10.]\n",
        " [  9.   2.  25.  18.  11.]]\n"
       ]
      }
     ],
     "prompt_number": 25
    },
    {
     "cell_type": "heading",
     "level": 2,
     "metadata": {},
     "source": [
      "PROGRAM 1.27, PAGE 62"
     ]
    },
    {
     "cell_type": "code",
     "collapsed": false,
     "input": [
      "# Sequental Search - Time Complexity : O(n)\n",
      "i = 0\n",
      "def sequential_search(a,n,x):\n",
      "    global i\n",
      "    for i in range(n):\n",
      "        if(a[i] == x):\n",
      "            break\n",
      "    if(i==n):\n",
      "        return -1\n",
      "    else:\n",
      "        return i\n",
      "\n",
      "a = [1,3,4,5,65,7,2234,23,32,342]\n",
      "print sequential_search(a,len(a),32)"
     ],
     "language": "python",
     "metadata": {},
     "outputs": [
      {
       "output_type": "stream",
       "stream": "stdout",
       "text": [
        "8\n"
       ]
      }
     ],
     "prompt_number": 26
    },
    {
     "cell_type": "heading",
     "level": 2,
     "metadata": {},
     "source": [
      "PROGRAM 1.28, PAGE 63"
     ]
    },
    {
     "cell_type": "code",
     "collapsed": false,
     "input": [
      "# Program to time Program 1.27\n",
      "\n",
      "# For getting the current processor time\n",
      "import time as t\n",
      "\n",
      "def time_search():                \n",
      "    a = range(1,1001)\n",
      "    n = [10*j for j in range(10)] + [100*j+100 for j in range(10)]\n",
      "    for j in range(20):\n",
      "        # Obtain Computing times\n",
      "        start = t.clock()                      #Start timer\n",
      "        k = sequential_search(a,n[j],0)   #Unsuccessfull search\n",
      "        stop = t.clock()                       #Stop timer\n",
      "        run_time = (stop - start)\n",
      "        yield  ( n[j], run_time )\n",
      "    \n",
      "x_axis = list(); y_axis = list()\n",
      "\n",
      "print 'n \\ttime'\n",
      "print '==========================='\n",
      "for data in time_search():\n",
      "    print data[0],\"\\t\",data[1]\n",
      "    x_axis.append(data[0]); y_axis.append(data[1])\n",
      "print 'Times are in hundredths of a second'"
     ],
     "language": "python",
     "metadata": {},
     "outputs": [
      {
       "output_type": "stream",
       "stream": "stdout",
       "text": [
        "n \ttime\n",
        "===========================\n",
        "0 \t5.99999999906e-06\n",
        "10 \t3.99999999701e-06\n",
        "20 \t5.00000000159e-06\n",
        "30 \t5.99999999906e-06\n",
        "40 \t5.99999999906e-06\n",
        "50 \t7.00000000364e-06\n",
        "60 \t8.00000000112e-06\n",
        "70 \t8.99999999859e-06\n",
        "80 \t1.00000000032e-05\n",
        "90 \t9.99999999607e-06\n",
        "100 \t9.99999999607e-06\n",
        "200 \t2.00000000063e-05\n",
        "300 \t3.00000000024e-05\n",
        "400 \t3.89999999939e-05\n",
        "500 \t5.50000000032e-05\n",
        "600 \t5.90000000003e-05\n",
        "700 \t6.59999999968e-05\n",
        "800 \t7.50000000025e-05\n",
        "900 \t8.30000000036e-05\n",
        "1000 \t9.90000000058e-05\n",
        "Times are in hundredths of a second\n"
       ]
      }
     ],
     "prompt_number": 37
    },
    {
     "cell_type": "code",
     "collapsed": false,
     "input": [
      "# Plotting the graph : \n",
      "\n",
      "plt.figure().set_size_inches(10,10)\n",
      "plt.plot(x_axis, y_axis, marker = \"o\", linestyle = \"--\")\n",
      "plt.xlabel(\"Size of input : n\")\n",
      "plt.ylabel(\"Time taken for Sequential search in ms\")\n",
      "plt.show()"
     ],
     "language": "python",
     "metadata": {},
     "outputs": [
      {
       "metadata": {},
       "output_type": "display_data",
       "png": "[encoded data removed]",
       "text": [
        "<matplotlib.figure.Figure at 0x7fbd2d87d490>"
       ]
      }
     ],
     "prompt_number": 40
    },
    {
     "cell_type": "heading",
     "level": 2,
     "metadata": {},
     "source": [
      "PROGRAM 1.29, PAGE 65"
     ]
    },
    {
     "cell_type": "code",
     "collapsed": false,
     "input": [
      "# Timing Program - (Using repetitive testing)\n",
      "\n",
      "# For getting the current processor time\n",
      "import time as t\n",
      "\n",
      "def time_search():                \n",
      "    a = range(1,1001)\n",
      "    n = [10*j for j in range(10)] + [100*j+100 for j in range(10)]\n",
      "    r = [300000,300000,200000,200000,100000,100000,100000,80000,80000]\n",
      "    r += [50000,50000,25000,15000,15000,10000,7500,7000,6000,5000,5000]\n",
      "    \n",
      "    for j in range(20):\n",
      "        # Obtain Computing times\n",
      "        start = t.clock()                      # Start timer\n",
      "        for b in range (r[j]+1):\n",
      "            k = sequential_search(a,n[j],0)    # Unsuccessfull search\n",
      "        stop = t.clock()                       # Stop timer\n",
      "        total_time = (stop - start)*1000\n",
      "        run_time = float(total_time)/float(r[j])\n",
      "        yield (n[j], total_time, run_time)\n",
      "\n",
      "del x_axis[:] # Clearing out all the elements of the old x_axis and y_axis list\n",
      "del y_axis[:]\n",
      "\n",
      "y_axis1 = y_axis # Reusing the old list for y_axis1\n",
      "y_axis2 = list()\n",
      "\n",
      "print 'n \\tTotal Time \\tRun Time'\n",
      "print \"===========================================\"\n",
      "\n",
      "for data in time_search():\n",
      "    print data[0], \"\\t\", data[1], \"\\t\", data[2]\n",
      "    x_axis.append(data[0])\n",
      "    y_axis1.append(data[1])\n",
      "    y_axis2.append(data[2])\n",
      "\n",
      "print '\\nAll times are in milli second'"
     ],
     "language": "python",
     "metadata": {},
     "outputs": [
      {
       "output_type": "stream",
       "stream": "stdout",
       "text": [
        "n \tTotal Time \tRun Time\n",
        "===========================================\n",
        "0"
       ]
      },
      {
       "output_type": "stream",
       "stream": "stdout",
       "text": [
        " \t111.847 \t0.000372823333333\n",
        "10"
       ]
      },
      {
       "output_type": "stream",
       "stream": "stdout",
       "text": [
        " \t410.765 \t0.00136921666667\n",
        "20"
       ]
      },
      {
       "output_type": "stream",
       "stream": "stdout",
       "text": [
        " \t441.377 \t0.002206885\n",
        "30"
       ]
      },
      {
       "output_type": "stream",
       "stream": "stdout",
       "text": [
        " \t597.294 \t0.00298647\n",
        "40"
       ]
      },
      {
       "output_type": "stream",
       "stream": "stdout",
       "text": [
        " \t382.142 \t0.00382142\n",
        "50"
       ]
      },
      {
       "output_type": "stream",
       "stream": "stdout",
       "text": [
        " \t462.241 \t0.00462241\n",
        "60"
       ]
      },
      {
       "output_type": "stream",
       "stream": "stdout",
       "text": [
        " \t542.372 \t0.00542372\n",
        "70"
       ]
      },
      {
       "output_type": "stream",
       "stream": "stdout",
       "text": [
        " \t497.854 \t0.006223175\n",
        "80"
       ]
      },
      {
       "output_type": "stream",
       "stream": "stdout",
       "text": [
        " \t560.549 \t0.0070068625\n",
        "90"
       ]
      },
      {
       "output_type": "stream",
       "stream": "stdout",
       "text": [
        " \t391.517 \t0.00783034\n",
        "100"
       ]
      },
      {
       "output_type": "stream",
       "stream": "stdout",
       "text": [
        " \t431.272 \t0.00862544\n",
        "200"
       ]
      },
      {
       "output_type": "stream",
       "stream": "stdout",
       "text": [
        " \t418.013 \t0.01672052\n",
        "300"
       ]
      },
      {
       "output_type": "stream",
       "stream": "stdout",
       "text": [
        " \t375.314 \t0.0250209333333\n",
        "400"
       ]
      },
      {
       "output_type": "stream",
       "stream": "stdout",
       "text": [
        " \t503.893 \t0.0335928666667\n",
        "500"
       ]
      },
      {
       "output_type": "stream",
       "stream": "stdout",
       "text": [
        " \t422.067 \t0.0422067\n",
        "600"
       ]
      },
      {
       "output_type": "stream",
       "stream": "stdout",
       "text": [
        " \t381.923 \t0.0509230666667\n",
        "700"
       ]
      },
      {
       "output_type": "stream",
       "stream": "stdout",
       "text": [
        " \t416.878 \t0.059554\n",
        "800"
       ]
      },
      {
       "output_type": "stream",
       "stream": "stdout",
       "text": [
        " \t408.363 \t0.0680605\n",
        "900"
       ]
      },
      {
       "output_type": "stream",
       "stream": "stdout",
       "text": [
        " \t383.069 \t0.0766138\n",
        "1000"
       ]
      },
      {
       "output_type": "stream",
       "stream": "stdout",
       "text": [
        " \t425.869 \t0.0851738\n",
        "\n",
        "All times are in milli second\n"
       ]
      }
     ],
     "prompt_number": 41
    },
    {
     "cell_type": "code",
     "collapsed": false,
     "input": [
      "fig, ax1 = plt.subplots()\n",
      "\n",
      "fig.set_size_inches(10,10)\n",
      "\n",
      "ax1.plot(x_axis, y_axis2, c = \"b\", marker = \"o\", linestyle = \"--\")\n",
      "ax1.set_xlabel(\"Input size - n\")\n",
      "ax1.set_ylabel(\"Time taken per run ( in ms )\")\n",
      "\n",
      "# Apply the Text_object.set_color method on all the tick labels with 'r' as a parameter\n",
      "map(Text.set_color, ax1.get_yticklabels(), ['b']*len(ax1.get_yticklabels()) )\n",
      "\n",
      "ax2 = ax1.twinx()\n",
      "ax2.plot(x_axis, y_axis1, c = \"r\", marker = \"o\", linestyle = \"--\", label = \"Total time\")\n",
      "ax2.set_ylabel(\"Total time for multiple runs. ( in ms )\")\n",
      "\n",
      "map(Text.set_color, ax2.get_yticklabels(), ['r']*len(ax2.get_yticklabels()) )\n",
      "\n",
      "plt.legend()\n",
      "plt.show()"
     ],
     "language": "python",
     "metadata": {},
     "outputs": [
      {
       "metadata": {},
       "output_type": "display_data",
       "png": "[encoded data removed]",
       "text": [
        "<matplotlib.figure.Figure at 0x7fbd2d8e8e90>"
       ]
      }
     ],
     "prompt_number": 43
    }
   ],
   "metadata": {}
  }
 ]
}