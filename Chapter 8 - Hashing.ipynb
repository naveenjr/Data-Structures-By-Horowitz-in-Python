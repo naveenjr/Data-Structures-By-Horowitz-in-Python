{
 "metadata": {
  "name": "",
  "signature": "sha256:05acf96802166ea2c4ef9febcf6083742345b90c0490d6d23f8975f0d52fdb7e"
 },
 "nbformat": 3,
 "nbformat_minor": 0,
 "worksheets": [
  {
   "cells": [
    {
     "cell_type": "heading",
     "level": 2,
     "metadata": {},
     "source": [
      "EXAMPLE 8.1, PAGE 459"
     ]
    },
    {
     "cell_type": "code",
     "collapsed": false,
     "input": [
      "# Hash table with 2 Buckets\n",
      "\n",
      "b = 26 # No of buckets\n",
      "s = 2  # No of slots\n",
      "n = 10 # No of keys\n",
      "\n",
      "a = round(n / float( b*s ), 2) # a is \u03b1, the loading factor\n",
      "print unichr(0x3b1).encode('utf-8'), \"=\", a"
     ],
     "language": "python",
     "metadata": {},
     "outputs": [
      {
       "output_type": "stream",
       "stream": "stdout",
       "text": [
        "\u03b1 = 0.19\n"
       ]
      }
     ],
     "prompt_number": 1
    },
    {
     "cell_type": "code",
     "collapsed": false,
     "input": [
      "# Defining the hash function.\n",
      "\n",
      "def h(K):\n",
      "    \"\"\"Returns the alphabetical order of the String based on its first character\"\"\"\n",
      "    return ord(K[0].upper()) - 65\n",
      "\n",
      "# Testing the hash function\n",
      "\n",
      "print h('book'), h('apple')"
     ],
     "language": "python",
     "metadata": {},
     "outputs": [
      {
       "output_type": "stream",
       "stream": "stdout",
       "text": [
        "1 0\n"
       ]
      }
     ],
     "prompt_number": 2
    },
    {
     "cell_type": "code",
     "collapsed": false,
     "input": [
      "# Constructing the hash table\n",
      "\n",
      "hash_table = { i: [] for i in range(26) }"
     ],
     "language": "python",
     "metadata": {},
     "outputs": [],
     "prompt_number": 3
    },
    {
     "cell_type": "code",
     "collapsed": false,
     "input": [
      "# defining the hash_table populating function\n",
      "\n",
      "def build_hash(hash_table, value):\n",
      "    key = h(value)\n",
      "    \n",
      "    # Raise an exception if hash table overflow occurs\n",
      "    if len(hash_table[key]) == 2:\n",
      "        raise Exception(\"Hashtable overflow.\")\n",
      "        \n",
      "    hash_table[key].append(value)\n",
      "\n",
      "# hash_table clearing function\n",
      "    \n",
      "def clear_hash_table(hash_table):\n",
      "    \"\"\" Clears all the entries in each key of the hashtable \"\"\"\n",
      "    for key in hash_table:\n",
      "        del hash_table[key][:]\n",
      "        \n",
      "# hash_table printing function\n",
      "\n",
      "\n",
      "def print_hash_table(hash_table):\n",
      "    for key in hash_table:\n",
      "        print key, \"\\t\", hash_table[key]"
     ],
     "language": "python",
     "metadata": {},
     "outputs": [],
     "prompt_number": 4
    },
    {
     "cell_type": "code",
     "collapsed": false,
     "input": [
      "print_hash_table(hash_table)"
     ],
     "language": "python",
     "metadata": {},
     "outputs": [
      {
       "output_type": "stream",
       "stream": "stdout",
       "text": [
        "0 \t[]\n",
        "1 \t[]\n",
        "2 \t[]\n",
        "3 \t[]\n",
        "4 \t[]\n",
        "5 \t[]\n",
        "6 \t[]\n",
        "7 \t[]\n",
        "8 \t[]\n",
        "9 \t[]\n",
        "10 \t[]\n",
        "11 \t[]\n",
        "12 \t[]\n",
        "13 \t[]\n",
        "14 \t[]\n",
        "15 \t[]\n",
        "16 \t[]\n",
        "17 \t[]\n",
        "18 \t[]\n",
        "19 \t[]\n",
        "20 \t[]\n",
        "21 \t[]\n",
        "22 \t[]\n",
        "23 \t[]\n",
        "24 \t[]\n",
        "25 \t[]\n"
       ]
      }
     ],
     "prompt_number": 5
    },
    {
     "cell_type": "code",
     "collapsed": false,
     "input": [
      "# Non-overflow condition\n",
      "list_of_inputs = ['GA', 'D', 'A', 'G', 'L', 'A2', 'E']\n",
      "for item in list_of_inputs:\n",
      "    build_hash(hash_table, item)\n",
      "    \n",
      "print_hash_table(hash_table)"
     ],
     "language": "python",
     "metadata": {},
     "outputs": [
      {
       "output_type": "stream",
       "stream": "stdout",
       "text": [
        "0 \t['A', 'A2']\n",
        "1 \t[]\n",
        "2 \t[]\n",
        "3 \t['D']\n",
        "4 \t['E']\n",
        "5 \t[]\n",
        "6 \t['GA', 'G']\n",
        "7 \t[]\n",
        "8 \t[]\n",
        "9 \t[]\n",
        "10 \t[]\n",
        "11 \t['L']\n",
        "12 \t[]\n",
        "13 \t[]\n",
        "14 \t[]\n",
        "15 \t[]\n",
        "16 \t[]\n",
        "17 \t[]\n",
        "18 \t[]\n",
        "19 \t[]\n",
        "20 \t[]\n",
        "21 \t[]\n",
        "22 \t[]\n",
        "23 \t[]\n",
        "24 \t[]\n",
        "25 \t[]\n"
       ]
      }
     ],
     "prompt_number": 6
    },
    {
     "cell_type": "code",
     "collapsed": false,
     "input": [
      "# Clearing the old hash table\n",
      "\n",
      "clear_hash_table(hash_table)"
     ],
     "language": "python",
     "metadata": {},
     "outputs": [],
     "prompt_number": 7
    },
    {
     "cell_type": "code",
     "collapsed": false,
     "input": [
      "# Overflow condition\n",
      "list_of_inputs = ['GA', 'D', 'A', 'G', 'L', 'A2', 'A1', 'A3', 'A4', 'E']\n",
      "for item in list_of_inputs:\n",
      "    print \"Attempting to add item, '%s', to hash_table\\n\"%item\n",
      "    print \"Computed hash value :\", h(item)\n",
      "    build_hash(hash_table, item)\n",
      "    print \"Successfuly added to hash table\\n\""
     ],
     "language": "python",
     "metadata": {},
     "outputs": [
      {
       "output_type": "stream",
       "stream": "stdout",
       "text": [
        "Attempting to add item, 'GA', to hash_table\n",
        "\n",
        "Computed hash value : 6\n",
        "Successfuly added to hash table\n",
        "\n",
        "Attempting to add item, 'D', to hash_table\n",
        "\n",
        "Computed hash value : 3\n",
        "Successfuly added to hash table\n",
        "\n",
        "Attempting to add item, 'A', to hash_table\n",
        "\n",
        "Computed hash value : 0\n",
        "Successfuly added to hash table\n",
        "\n",
        "Attempting to add item, 'G', to hash_table\n",
        "\n",
        "Computed hash value : 6\n",
        "Successfuly added to hash table\n",
        "\n",
        "Attempting to add item, 'L', to hash_table\n",
        "\n",
        "Computed hash value : 11\n",
        "Successfuly added to hash table\n",
        "\n",
        "Attempting to add item, 'A2', to hash_table\n",
        "\n",
        "Computed hash value : 0\n",
        "Successfuly added to hash table\n",
        "\n",
        "Attempting to add item, 'A1', to hash_table\n",
        "\n",
        "Computed hash value : 0\n"
       ]
      },
      {
       "ename": "Exception",
       "evalue": "Hashtable overflow.",
       "output_type": "pyerr",
       "traceback": [
        "\u001b[1;31m---------------------------------------------------------------------------\u001b[0m\n\u001b[1;31mException\u001b[0m                                 Traceback (most recent call last)",
        "\u001b[1;32m<ipython-input-8-b5788229e327>\u001b[0m in \u001b[0;36m<module>\u001b[1;34m()\u001b[0m\n\u001b[0;32m      4\u001b[0m     \u001b[1;32mprint\u001b[0m \u001b[1;34m\"Attempting to add item, '%s', to hash_table\\n\"\u001b[0m\u001b[1;33m%\u001b[0m\u001b[0mitem\u001b[0m\u001b[1;33m\u001b[0m\u001b[0m\n\u001b[0;32m      5\u001b[0m     \u001b[1;32mprint\u001b[0m \u001b[1;34m\"Computed hash value :\"\u001b[0m\u001b[1;33m,\u001b[0m \u001b[0mh\u001b[0m\u001b[1;33m(\u001b[0m\u001b[0mitem\u001b[0m\u001b[1;33m)\u001b[0m\u001b[1;33m\u001b[0m\u001b[0m\n\u001b[1;32m----> 6\u001b[1;33m     \u001b[0mbuild_hash\u001b[0m\u001b[1;33m(\u001b[0m\u001b[0mhash_table\u001b[0m\u001b[1;33m,\u001b[0m \u001b[0mitem\u001b[0m\u001b[1;33m)\u001b[0m\u001b[1;33m\u001b[0m\u001b[0m\n\u001b[0m\u001b[0;32m      7\u001b[0m     \u001b[1;32mprint\u001b[0m \u001b[1;34m\"Successfuly added to hash table\\n\"\u001b[0m\u001b[1;33m\u001b[0m\u001b[0m\n",
        "\u001b[1;32m<ipython-input-4-d767746eba40>\u001b[0m in \u001b[0;36mbuild_hash\u001b[1;34m(hash_table, value)\u001b[0m\n\u001b[0;32m      6\u001b[0m     \u001b[1;31m# Raise an exception if hash table overflow occurs\u001b[0m\u001b[1;33m\u001b[0m\u001b[1;33m\u001b[0m\u001b[0m\n\u001b[0;32m      7\u001b[0m     \u001b[1;32mif\u001b[0m \u001b[0mlen\u001b[0m\u001b[1;33m(\u001b[0m\u001b[0mhash_table\u001b[0m\u001b[1;33m[\u001b[0m\u001b[0mkey\u001b[0m\u001b[1;33m]\u001b[0m\u001b[1;33m)\u001b[0m \u001b[1;33m==\u001b[0m \u001b[1;36m2\u001b[0m\u001b[1;33m:\u001b[0m\u001b[1;33m\u001b[0m\u001b[0m\n\u001b[1;32m----> 8\u001b[1;33m         \u001b[1;32mraise\u001b[0m \u001b[0mException\u001b[0m\u001b[1;33m(\u001b[0m\u001b[1;34m\"Hashtable overflow.\"\u001b[0m\u001b[1;33m)\u001b[0m\u001b[1;33m\u001b[0m\u001b[0m\n\u001b[0m\u001b[0;32m      9\u001b[0m \u001b[1;33m\u001b[0m\u001b[0m\n\u001b[0;32m     10\u001b[0m     \u001b[0mhash_table\u001b[0m\u001b[1;33m[\u001b[0m\u001b[0mkey\u001b[0m\u001b[1;33m]\u001b[0m\u001b[1;33m.\u001b[0m\u001b[0mappend\u001b[0m\u001b[1;33m(\u001b[0m\u001b[0mvalue\u001b[0m\u001b[1;33m)\u001b[0m\u001b[1;33m\u001b[0m\u001b[0m\n",
        "\u001b[1;31mException\u001b[0m: Hashtable overflow."
       ]
      }
     ],
     "prompt_number": 8
    },
    {
     "cell_type": "code",
     "collapsed": false,
     "input": [
      "print_hash_table(hash_table)"
     ],
     "language": "python",
     "metadata": {},
     "outputs": [
      {
       "output_type": "stream",
       "stream": "stdout",
       "text": [
        "0 \t['A', 'A2']\n",
        "1 \t[]\n",
        "2 \t[]\n",
        "3 \t['D']\n",
        "4 \t[]\n",
        "5 \t[]\n",
        "6 \t['GA', 'G']\n",
        "7 \t[]\n",
        "8 \t[]\n",
        "9 \t[]\n",
        "10 \t[]\n",
        "11 \t['L']\n",
        "12 \t[]\n",
        "13 \t[]\n",
        "14 \t[]\n",
        "15 \t[]\n",
        "16 \t[]\n",
        "17 \t[]\n",
        "18 \t[]\n",
        "19 \t[]\n",
        "20 \t[]\n",
        "21 \t[]\n",
        "22 \t[]\n",
        "23 \t[]\n",
        "24 \t[]\n",
        "25 \t[]\n"
       ]
      }
     ],
     "prompt_number": 9
    },
    {
     "cell_type": "heading",
     "level": 2,
     "metadata": {},
     "source": [
      "EXAMPLE 8.2, PAGE 463"
     ]
    },
    {
     "cell_type": "code",
     "collapsed": false,
     "input": [
      "# Computing the hash using the shift folding method.\n",
      "\n",
      "from math import ceil\n",
      "\n",
      "def shift_folding_hash(value, p = 3):\n",
      "    \"\"\" Compute the hash using shift folding method of partition size p = 3 \"\"\"\n",
      "    \n",
      "    str_value = str(value)\n",
      "    length = len(str_value)\n",
      "    \n",
      "    # Partitioning funciton\n",
      "    def P(i):\n",
      "        print str_value[(p*int(i)):(p*int(i)+p)], \n",
      "        return int(str_value[(p*int(i)):(p*int(i)+p)])\n",
      "    \n",
      "    hash_value = 0\n",
      "    hash_length = int(ceil(length / float(p)))\n",
      "    \n",
      "    for i in range(0, hash_length):\n",
      "        hash_value += P(i)\n",
      "    \n",
      "    return hash_value\n",
      "    \n",
      "shift_folding_hash(12320324111220)"
     ],
     "language": "python",
     "metadata": {},
     "outputs": [
      {
       "output_type": "stream",
       "stream": "stdout",
       "text": [
        "123 203 241 112 20"
       ]
      },
      {
       "metadata": {},
       "output_type": "pyout",
       "prompt_number": 10,
       "text": [
        "699"
       ]
      },
      {
       "output_type": "stream",
       "stream": "stdout",
       "text": [
        "\n"
       ]
      }
     ],
     "prompt_number": 10
    },
    {
     "cell_type": "heading",
     "level": 2,
     "metadata": {},
     "source": [
      "PROGRAM 8.1, PAGE 464"
     ]
    },
    {
     "cell_type": "code",
     "collapsed": false,
     "input": [
      "# Converting a string into a non-negative integer\n",
      "\n",
      "def StringToInt(s):\n",
      "    \"\"\" Convert the string to a non negative integer hash value \"\"\"\n",
      "    length = len(s)\n",
      "    hash_value = 0\n",
      "    \n",
      "    if length % 2:\n",
      "        # Length is odd \n",
      "        hash_value = ord(s[-1])\n",
      "        length -= 1\n",
      "        \n",
      "    for i in range(0, length, 2):\n",
      "        # Process 2 characters at a time\n",
      "        hash_value += ord(s[i])\n",
      "        hash_value += ord(s[i+1]) << 8\n",
      "        \n",
      "    return hash_value\n",
      "\n",
      "# Example usage of StringToInt [ Not in text book ]\n",
      "\n",
      "print StringToInt(\"A Sample Text\")"
     ],
     "language": "python",
     "metadata": {},
     "outputs": [
      {
       "output_type": "stream",
       "stream": "stdout",
       "text": [
        "140390\n"
       ]
      }
     ],
     "prompt_number": 11
    },
    {
     "cell_type": "code",
     "collapsed": false,
     "input": [
      "print StringToInt(\"Another Sample Text\")"
     ],
     "language": "python",
     "metadata": {},
     "outputs": [
      {
       "output_type": "stream",
       "stream": "stdout",
       "text": [
        "224431\n"
       ]
      }
     ],
     "prompt_number": 12
    },
    {
     "cell_type": "heading",
     "level": 2,
     "metadata": {},
     "source": [
      "PROGRAM 8.2, PAGE 465"
     ]
    },
    {
     "cell_type": "code",
     "collapsed": false,
     "input": [
      "# The specialization hash \n",
      "\n",
      "# Python has inbuild hash function like the hash<String> class of C++ STL\n",
      "\n",
      "hash"
     ],
     "language": "python",
     "metadata": {},
     "outputs": [
      {
       "metadata": {},
       "output_type": "pyout",
       "prompt_number": 13,
       "text": [
        "<function hash>"
       ]
      }
     ],
     "prompt_number": 13
    },
    {
     "cell_type": "code",
     "collapsed": false,
     "input": [
      "# Documentation of the hash\n",
      "\n",
      "print hash.__doc__"
     ],
     "language": "python",
     "metadata": {},
     "outputs": [
      {
       "output_type": "stream",
       "stream": "stdout",
       "text": [
        "hash(object) -> integer\n",
        "\n",
        "Return a hash value for the object.  Two objects with the same value have\n",
        "the same hash value.  The reverse is not necessarily true, but likely.\n"
       ]
      }
     ],
     "prompt_number": 14
    },
    {
     "cell_type": "code",
     "collapsed": false,
     "input": [
      "hash(\"Some Random Text\")"
     ],
     "language": "python",
     "metadata": {},
     "outputs": [
      {
       "metadata": {},
       "output_type": "pyout",
       "prompt_number": 15,
       "text": [
        "6088784263229587202"
       ]
      }
     ],
     "prompt_number": 15
    },
    {
     "cell_type": "code",
     "collapsed": false,
     "input": [
      "hash(\"Another Random Text\")"
     ],
     "language": "python",
     "metadata": {},
     "outputs": [
      {
       "metadata": {},
       "output_type": "pyout",
       "prompt_number": 16,
       "text": [
        "3144334941465197392"
       ]
      }
     ],
     "prompt_number": 16
    },
    {
     "cell_type": "heading",
     "level": 2,
     "metadata": {},
     "source": [
      "PROGRAM 8.3, PAGE 466"
     ]
    },
    {
     "cell_type": "code",
     "collapsed": false,
     "input": [
      "# SHA Algorithm\n",
      "\n",
      "# Computing the SHA-1 digest using inbuild hashlib library\n",
      "import hashlib\n",
      "print hashlib.sha1('67452301efcdab8998badcfe10325476c3d2e1f').hexdigest()"
     ],
     "language": "python",
     "metadata": {},
     "outputs": [
      {
       "output_type": "stream",
       "stream": "stdout",
       "text": [
        "aee7ec00bda87b68d0a55c34798fa932a3b82363\n"
       ]
      }
     ],
     "prompt_number": 17
    },
    {
     "cell_type": "heading",
     "level": 2,
     "metadata": {},
     "source": [
      "FIGURE 8.2, PAGE 467"
     ]
    },
    {
     "cell_type": "code",
     "collapsed": false,
     "input": [
      "# Atomic RSA Operation\n",
      "\n",
      "import pygraphviz as pgv\n",
      "%pylab inline\n",
      "\n",
      "RSA_1_FlowChart_DOT_FORMAT = \"\"\"\n",
      "digraph g {\n",
      "\n",
      "overlap = true\n",
      "\n",
      "node [shape = record, color = \"lightblue\"];\n",
      "nodeS[label = \"<f0>\\t\\t\\tA\\t\\t\\t|<f1>\\t\\t\\tB\\t\\t\\t|<f2>\\t\\t\\tC\\t\\t\\t|<f3>\\t\\t\\tD\\t\\t\\t|<f4>\\t\\t\\tE\\t\\t\\t\", color=\"red\"];\n",
      "node1[label = \"<f0> \\<\\<\\<5\", color=\"darkgreen\"];\n",
      "node2[label = \"<f0> \\<\\<\\<30\", color=\"darkgreen\"];\n",
      "nodeE[label = \"<f0>\\t\\t\\tA\\t\\t\\t|<f1>\\t\\t\\tB\\t\\t\\t|<f2>\\t\\t\\tC\\t\\t\\t|<f3>\\t\\t\\tD\\t\\t\\t|<f4>\\t\\t\\tE\\t\\t\\t\", color=\"red\"];\n",
      "node3[label = \"Wt\", color=\"red\"]\n",
      "node4[label = \"Kt\", color=\"red\"]\n",
      "\n",
      "adder0[shape = circle, label=\"+\", color=\"blue\"];\n",
      "adder1[shape = circle, label=\"+\", color=\"blue\"];\n",
      "adder2[shape = circle, label=\"+\", color=\"blue\"];\n",
      "adder3[shape = circle, label=\"+\", color=\"blue\"];\n",
      "\n",
      "function[shape = circle, label=\"\\ \\ Ft\\ \\ \", color=\"darkgreen\"];\n",
      "\n",
      "nodeS:f0 -> node1;\n",
      "node1    -> adder1;\n",
      "\n",
      "nodeS:f1 -> node2;\n",
      "node2    -> nodeE:f2;\n",
      "\n",
      "nodeS:f2 -> nodeE:f3;\n",
      "nodeS:f3 -> nodeE:f4\n",
      "\n",
      "nodeS:f4 -> adder0\n",
      "adder0     -> adder1\n",
      "adder1     -> adder2\n",
      "adder2     -> adder3\n",
      "adder3     -> nodeE:f0\n",
      "\n",
      "node3      -> adder2\n",
      "node4      -> adder3\n",
      "\n",
      "nodeS:f1   -> function\n",
      "nodeS:f2   -> function\n",
      "nodeS:f3   -> function\n",
      "\n",
      "function   -> adder0\n",
      "\n",
      "nodeS:f0   -> nodeE:f1\n",
      "\n",
      "}\n",
      "\"\"\"\n",
      "\n",
      "RSA = pgv.AGraph(string = RSA_1_FlowChart_DOT_FORMAT)\n",
      "RSA.layout(prog=\"dot\", args= \"-Gsplines=false  -Goverlap=scale\" )\n",
      "RSA.draw('RSA-1_Flow_Chart.png')\n",
      "figure(figsize=(20, 20), facecolor='lightgrey', edgecolor='b')\n",
      "axis('off')\n",
      "title(\"Atomic RSA operation\\n\\n\\n\", fontdict = { 'fontsize' : 18, 'fontweight':'bold', 'verticalalignment' : 'center', 'horizontalalignment' : 'center' } )\n",
      "imshow(imread('RSA-1_Flow_Chart.png'))\n",
      "\n",
      "print \"\\n\""
     ],
     "language": "python",
     "metadata": {},
     "outputs": [
      {
       "output_type": "stream",
       "stream": "stdout",
       "text": [
        "Populating the interactive namespace from numpy and matplotlib\n",
        "\n"
       ]
      },
      {
       "output_type": "stream",
       "stream": "stdout",
       "text": [
        "\n"
       ]
      },
      {
       "output_type": "stream",
       "stream": "stderr",
       "text": [
        "WARNING: pylab import has clobbered these variables: ['ceil']\n",
        "`%matplotlib` prevents importing * from pylab and numpy\n"
       ]
      },
      {
       "metadata": {},
       "output_type": "display_data",
       "png": "[encoded data removed]",
       "text": [
        "<matplotlib.figure.Figure at 0x7f3f1cd12410>"
       ]
      }
     ],
     "prompt_number": 18
    },
    {
     "cell_type": "heading",
     "level": 2,
     "metadata": {},
     "source": [
      "EXAMPLE 8.6, PAGE 468"
     ]
    },
    {
     "cell_type": "code",
     "collapsed": false,
     "input": [
      "# Hash Table with Linear Probing\n",
      "\n",
      "# Modifying the earlier build hash function to handle overflow and add both key and value.\n",
      "\n",
      "def build_hash(hash_table, key, value = None):\n",
      "    orig_key = k = h(key)\n",
      "    \n",
      "    overflow = False\n",
      "    \n",
      "    while(len(hash_table[k]) != 0):\n",
      "        k = (k + 1) % len(hash_table)\n",
      "        if k == orig_key :\n",
      "            overflow = True\n",
      "            break\n",
      "    \n",
      "    # Raise a Hashtable overflow exception only if the entire hash table ( for all keys ) is full.\n",
      "    if overflow:\n",
      "        raise Exception(\"Hashtable overflow.\")\n",
      "    \n",
      "    hash_table[k].append((key, value))"
     ],
     "language": "python",
     "metadata": {},
     "outputs": [],
     "prompt_number": 19
    },
    {
     "cell_type": "heading",
     "level": 2,
     "metadata": {},
     "source": [
      "FIGURE 8.3, PAGE 469"
     ]
    },
    {
     "cell_type": "code",
     "collapsed": false,
     "input": [
      "# Testing the new hash table\n",
      "hash_table = { i: [] for i in range(26) }\n",
      "\n",
      "list_of_inputs = ['GA', 'D', 'A', 'G', 'L', 'A2', 'A1', 'A3', 'A4', 'Z', 'ZA', 'E']\n",
      "\n",
      "for item in list_of_inputs:\n",
      "    build_hash(hash_table, item)\n",
      "\n",
      "print_hash_table(hash_table)"
     ],
     "language": "python",
     "metadata": {},
     "outputs": [
      {
       "output_type": "stream",
       "stream": "stdout",
       "text": [
        "0 \t[('A', None)]\n",
        "1 \t[('A2', None)]\n",
        "2 \t[('A1', None)]\n",
        "3 \t[('D', None)]\n",
        "4 \t[('A3', None)]\n",
        "5 \t[('A4', None)]\n",
        "6 \t[('GA', None)]\n",
        "7 \t[('G', None)]\n",
        "8 \t[('ZA', None)]\n",
        "9 \t[('E', None)]\n",
        "10 \t[]\n",
        "11 \t[('L', None)]\n",
        "12 \t[]\n",
        "13 \t[]\n",
        "14 \t[]\n",
        "15 \t[]\n",
        "16 \t[]\n",
        "17 \t[]\n",
        "18 \t[]\n",
        "19 \t[]\n",
        "20 \t[]\n",
        "21 \t[]\n",
        "22 \t[]\n",
        "23 \t[]\n",
        "24 \t[]\n",
        "25 \t[('Z', None)]\n"
       ]
      }
     ],
     "prompt_number": 20
    },
    {
     "cell_type": "heading",
     "level": 2,
     "metadata": {},
     "source": [
      "PROGRAM 8.4, PAGE 470"
     ]
    },
    {
     "cell_type": "code",
     "collapsed": false,
     "input": [
      "# Linear probing\n",
      "\n",
      "list_of_values = ['234333', '23423', 'foo', 'bar', 'abcd', 'sometext', 'another text', 'nine', 'ten', 'another value', 'final value']\n",
      "\n",
      "# Clearing the hash table.\n",
      "hash_table = { i: [] for i in range(26) }\n",
      "\n",
      "# Building the hash with key value pair\n",
      "for item, val in zip(list_of_inputs, list_of_values):\n",
      "    build_hash(hash_table, item, val)\n",
      "\n",
      "# define get_value function to return the hash, key pair in the given hash_table using linear probing technique\n",
      "\n",
      "def get_value(hash_table, key):\n",
      "    i = h(key)  # Home bucket\n",
      "    \n",
      "    # Linearly probe the hash_table one by one\n",
      "    \n",
      "    if hash_table[i][0][0] == key:\n",
      "        return hash_table[i][0]\n",
      "    \n",
      "    j = ( i + 1 ) % len(hash_table)\n",
      "    while j != i:\n",
      "        if hash_table[j][0][0] == key:\n",
      "            return hash_table[j][0]\n",
      "        \n",
      "        j = ( j + 1 ) % len(hash_table)\n",
      "        \n",
      "    return None\n",
      "\n",
      "print get_value(hash_table, 'GA')"
     ],
     "language": "python",
     "metadata": {},
     "outputs": [
      {
       "output_type": "stream",
       "stream": "stdout",
       "text": [
        "('GA', '234333')\n"
       ]
      }
     ],
     "prompt_number": 21
    },
    {
     "cell_type": "heading",
     "level": 2,
     "metadata": {},
     "source": [
      "SECTION 8.2.4.2, PAGE 471"
     ]
    },
    {
     "cell_type": "code",
     "collapsed": false,
     "input": [
      "# Chaining based hashing.\n",
      "\n",
      "class Node:\n",
      "    def __init__(self, data, link = None):\n",
      "        self.data = data\n",
      "        self.link = link\n",
      "        \n",
      "class KVPair:\n",
      "    \"\"\" Class to store a key and value pair as a single object \"\"\"\n",
      "    def __init__(self, key, value):\n",
      "        self.key = key\n",
      "        self.value = value\n",
      "    \n",
      "    def __repr__(self):\n",
      "        return str(self.key) + \" \" + str(self.value)\n",
      "    \n",
      "    __str__ = __repr__\n",
      "        \n",
      "class Chained_Hash_Table:\n",
      "    def __init__(self):\n",
      "        self.hash_table = { i: None for i in range(26) }\n",
      "        \n",
      "    def __repr__(self):\n",
      "        \"\"\"Returns the dot representation of the hash table and associated chains\"\"\"\n",
      "        # Basic template\n",
      "        base_template = \"digraph G {\\n nodesep = 0;\\n rankdir=LR;\\n\\n            node [shape=record,width=.1,height=.1];\\n\"\n",
      "        hash_table_strip = '            nodeH [label = \"<f0> 0' + \"\".join([\"|<f%s> %d\"%(str(i),i) for i in range(1,26)]) + '\", height=3];\\n'\n",
      "        chain_base_data = \"            node [width = 2];\\n\"\n",
      "        \n",
      "        # Chain data templates\n",
      "        node_data  = '            node{node_no} [label = \"{node_value}\"];\\n'\n",
      "        primary_link   = '            nodeH:f{key} -> node{node_no};\\n'\n",
      "        secondary_link = '            node{nodea} -> node{nodeb};\\n'\n",
      "        \n",
      "        final_dot = \"\"\n",
      "        \n",
      "        final_dot += base_template + hash_table_strip + \"\\n\" + chain_base_data\n",
      "        \n",
      "        nodes = 0\n",
      "        \n",
      "        for key, value in self.hash_table.iteritems():\n",
      "            first_node = True\n",
      "            \n",
      "            # Construct the chain for each key of the hash table.\n",
      "            while value is not None:\n",
      "                final_dot += node_data.format(node_no=nodes, node_value=value.data.key)\n",
      "                \n",
      "                if first_node:\n",
      "                    final_dot += primary_link.format(key=key, node_no=nodes)\n",
      "                    first_node = False\n",
      "                    \n",
      "                else:\n",
      "                    final_dot += secondary_link.format(nodea=nodes-1, nodeb=nodes)\n",
      "                \n",
      "                nodes += 1\n",
      "                value = value.link\n",
      "        \n",
      "        final_dot += \"\\n\\n}\"\n",
      "        \n",
      "        return final_dot\n",
      "    \n",
      "    __str__ = __repr__\n",
      "    \n",
      "    def add(self, key, value):\n",
      "        \"\"\"Add an entry to the hash table\"\"\"\n",
      "        \n",
      "        k = h(key)\n",
      "        \n",
      "        temp_node = self.hash_table[k]\n",
      "        self.hash_table[k] = Node(KVPair(key, value), temp_node)\n",
      "        \n",
      "    def display(self):\n",
      "        RSA = pgv.AGraph(string = repr(self))\n",
      "        RSA.layout(prog=\"dot\", args= \"-Gsplines=false  -Goverlap=scale\" )\n",
      "        RSA.draw('ChainedHashTable.png')\n",
      "        figure(figsize=(25, 25), facecolor='lightgrey', edgecolor='b')\n",
      "        axis('off')\n",
      "        title(\"Chained Hash Table\\n\\n\\n\", fontdict = { 'fontsize' : 18, 'fontweight':'bold', 'verticalalignment' : 'center', 'horizontalalignment' : 'center' } )\n",
      "        imshow(imread('ChainedHashTable.png'))\n",
      "        \n",
      "        \n",
      "hash_table = Chained_Hash_Table()\n",
      "\n",
      "list_of_inputs = ['GA', 'D', 'A', 'G', 'L', 'A2', 'A1', 'A3', 'A4', 'Z', 'ZA', 'E']\n",
      "list_of_values = ['234333', '23423', 'foo', 'bar', 'abcd', 'sometext', 'another text', 'nine', 'ten', 'another value', 'final value', 'abc']\n",
      "\n",
      "for key, value in zip(list_of_inputs, list_of_values):\n",
      "    hash_table.add(key, value)\n",
      "\n",
      "# Print the dot representation of the chained hash_table\n",
      "print \"The dot representation of the chained hash table:\"\n",
      "print \"=================================================\\n\\n\"\n",
      "print repr(hash_table)\n",
      "\n",
      "hash_table.display()"
     ],
     "language": "python",
     "metadata": {},
     "outputs": [
      {
       "output_type": "stream",
       "stream": "stdout",
       "text": [
        "The dot representation of the chained hash table:\n",
        "=================================================\n",
        "\n",
        "\n",
        "digraph G {\n",
        " nodesep = 0;\n",
        " rankdir=LR;\n",
        "\n",
        "            node [shape=record,width=.1,height=.1];\n",
        "            nodeH [label = \"<f0> 0|<f1> 1|<f2> 2|<f3> 3|<f4> 4|<f5> 5|<f6> 6|<f7> 7|<f8> 8|<f9> 9|<f10> 10|<f11> 11|<f12> 12|<f13> 13|<f14> 14|<f15> 15|<f16> 16|<f17> 17|<f18> 18|<f19> 19|<f20> 20|<f21> 21|<f22> 22|<f23> 23|<f24> 24|<f25> 25\", height=3];\n",
        "\n",
        "            node [width = 2];\n",
        "            node0 [label = \"A4\"];\n",
        "            nodeH:f0 -> node0;\n",
        "            node1 [label = \"A3\"];\n",
        "            node0 -> node1;\n",
        "            node2 [label = \"A1\"];\n",
        "            node1 -> node2;\n",
        "            node3 [label = \"A2\"];\n",
        "            node2 -> node3;\n",
        "            node4 [label = \"A\"];\n",
        "            node3 -> node4;\n",
        "            node5 [label = \"D\"];\n",
        "            nodeH:f3 -> node5;\n",
        "            node6 [label = \"E\"];\n",
        "            nodeH:f4 -> node6;\n",
        "            node7 [label = \"G\"];\n",
        "            nodeH:f6 -> node7;\n",
        "            node8 [label = \"GA\"];\n",
        "            node7 -> node8;\n",
        "            node9 [label = \"L\"];\n",
        "            nodeH:f11 -> node9;\n",
        "            node10 [label = \"ZA\"];\n",
        "            nodeH:f25 -> node10;\n",
        "            node11 [label = \"Z\"];\n",
        "            node10 -> node11;\n",
        "\n",
        "\n",
        "}\n"
       ]
      },
      {
       "metadata": {},
       "output_type": "display_data",
       "png": "[encoded data removed]",
       "text": [
        "<matplotlib.figure.Figure at 0x7f3f1cd12050>"
       ]
      }
     ],
     "prompt_number": 22
    },
    {
     "cell_type": "heading",
     "level": 2,
     "metadata": {},
     "source": [
      "PROGRAM 8.5, PAGE 471"
     ]
    },
    {
     "cell_type": "code",
     "collapsed": false,
     "input": [
      "# Chain search\n",
      "\n",
      "def _get(self, key):\n",
      "    \"\"\" Search the chained hash table for key k \"\"\"\n",
      "    k = h(key) # Get the repective bucket number\n",
      "    current = self.hash_table[k]\n",
      "    \n",
      "    # Search through the chain\n",
      "    while current is not None and current.data.key != key:\n",
      "        current = current.link\n",
      "        \n",
      "    return current\n",
      "\n",
      "Chained_Hash_Table.get = _get"
     ],
     "language": "python",
     "metadata": {},
     "outputs": [],
     "prompt_number": 23
    },
    {
     "cell_type": "code",
     "collapsed": false,
     "input": [
      "# Example to illustrate the get operation\n",
      "\n",
      "print hash_table.get(\"A4\").data"
     ],
     "language": "python",
     "metadata": {},
     "outputs": [
      {
       "output_type": "stream",
       "stream": "stdout",
       "text": [
        "A4 ten\n"
       ]
      }
     ],
     "prompt_number": 24
    }
   ],
   "metadata": {}
  }
 ]
}